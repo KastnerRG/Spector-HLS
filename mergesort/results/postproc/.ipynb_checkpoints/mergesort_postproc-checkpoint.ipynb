{
 "cells": [
  {
   "cell_type": "code",
   "execution_count": 1,
   "metadata": {},
   "outputs": [],
   "source": [
    "import numpy as np\n",
    "import pandas as pd\n",
    "from matplotlib import pyplot as plt\n",
    "import matplotlib.patches as mpatches"
   ]
  },
  {
   "cell_type": "code",
   "execution_count": 2,
   "metadata": {},
   "outputs": [],
   "source": [
    "cdfx = pd.read_csv(\"../csv/catapult_mergesort_latency.csv\", index_col=0)\n",
    "vdfx = pd.read_csv(\"../csv/vivado_mergesort.csv\", index_col=0)\n",
    "cdfx['throughput'] = vdfx['obj1'].min()*1/cdfx['obj1']\n",
    "vdfx['throughput'] = vdfx['obj1'].min()*1/vdfx['obj1']\n",
    "cdfx['ff_inv'] = vdfx['ff'].min()*1/cdfx['ff']\n",
    "vdfx['ff_inv'] = vdfx['ff'].min()*1/vdfx['ff']\n",
    "cdfx['lut_inv'] = vdfx['lut'].min()*1/cdfx['lut']\n",
    "vdfx['lut_inv'] = vdfx['lut'].min()*1/vdfx['lut']\n",
    "cdfx['1/obj2'] = vdfx['obj2'].min()*1/cdfx['obj2']\n",
    "vdfx['1/obj2'] = vdfx['obj2'].min()*1/vdfx['obj2']\n",
    "cdfx['clbUtil'] = cdfx['obj2']/147780\n",
    "vdfx['clbUtil'] = vdfx['obj2']/147780\n",
    "cdfx['mem_partition_size'] = cdfx['knob_partition_factor']\n",
    "vdfx['mem_partition_size'] = pd.to_numeric(vdfx['knob_no_size']/(vdfx['knob_partition_factor']), downcast='integer')\n",
    "cdfx = cdfx.drop(columns=['knob_I_B'])\n",
    "cdfx = cdfx.drop(columns=['knob_partition_factor'])\n",
    "vdfx = vdfx.drop(columns=['knob_partition_factor'])"
   ]
  },
  {
   "cell_type": "code",
   "execution_count": 3,
   "metadata": {},
   "outputs": [
    {
     "name": "stdout",
     "output_type": "stream",
     "text": [
      "knob_no_size          11440\n",
      "knob_outer_unroll     11440\n",
      "knob_inner_unroll1    11440\n",
      "knob_inner_unroll2    11440\n",
      "knob_merge_unroll     11440\n",
      "obj1                  11440\n",
      "obj2                  11440\n",
      "lut                   11440\n",
      "ff                    11440\n",
      "dsp                   11440\n",
      "bram                  11440\n",
      "throughput            11440\n",
      "ff_inv                11440\n",
      "lut_inv               11440\n",
      "1/obj2                11440\n",
      "clbUtil               11440\n",
      "mem_partition_size    11440\n",
      "dtype: int64\n"
     ]
    },
    {
     "data": {
      "text/html": [
       "<div>\n",
       "<style scoped>\n",
       "    .dataframe tbody tr th:only-of-type {\n",
       "        vertical-align: middle;\n",
       "    }\n",
       "\n",
       "    .dataframe tbody tr th {\n",
       "        vertical-align: top;\n",
       "    }\n",
       "\n",
       "    .dataframe thead th {\n",
       "        text-align: right;\n",
       "    }\n",
       "</style>\n",
       "<table border=\"1\" class=\"dataframe\">\n",
       "  <thead>\n",
       "    <tr style=\"text-align: right;\">\n",
       "      <th></th>\n",
       "      <th>knob_no_size</th>\n",
       "      <th>knob_outer_unroll</th>\n",
       "      <th>knob_inner_unroll1</th>\n",
       "      <th>knob_inner_unroll2</th>\n",
       "      <th>knob_merge_unroll</th>\n",
       "      <th>obj1</th>\n",
       "      <th>obj2</th>\n",
       "      <th>lut</th>\n",
       "      <th>ff</th>\n",
       "      <th>dsp</th>\n",
       "      <th>bram</th>\n",
       "      <th>throughput</th>\n",
       "      <th>ff_inv</th>\n",
       "      <th>lut_inv</th>\n",
       "      <th>1/obj2</th>\n",
       "      <th>clbUtil</th>\n",
       "      <th>mem_partition_size</th>\n",
       "    </tr>\n",
       "    <tr>\n",
       "      <th>n</th>\n",
       "      <th></th>\n",
       "      <th></th>\n",
       "      <th></th>\n",
       "      <th></th>\n",
       "      <th></th>\n",
       "      <th></th>\n",
       "      <th></th>\n",
       "      <th></th>\n",
       "      <th></th>\n",
       "      <th></th>\n",
       "      <th></th>\n",
       "      <th></th>\n",
       "      <th></th>\n",
       "      <th></th>\n",
       "      <th></th>\n",
       "      <th></th>\n",
       "      <th></th>\n",
       "    </tr>\n",
       "  </thead>\n",
       "  <tbody>\n",
       "    <tr>\n",
       "      <th>0</th>\n",
       "      <td>16</td>\n",
       "      <td>1</td>\n",
       "      <td>1</td>\n",
       "      <td>1</td>\n",
       "      <td>1</td>\n",
       "      <td>0.000017</td>\n",
       "      <td>231</td>\n",
       "      <td>1269</td>\n",
       "      <td>792</td>\n",
       "      <td>0</td>\n",
       "      <td>0</td>\n",
       "      <td>0.058824</td>\n",
       "      <td>0.0</td>\n",
       "      <td>0.0</td>\n",
       "      <td>0.008658</td>\n",
       "      <td>0.001563</td>\n",
       "      <td>1</td>\n",
       "    </tr>\n",
       "    <tr>\n",
       "      <th>1</th>\n",
       "      <td>16</td>\n",
       "      <td>1</td>\n",
       "      <td>1</td>\n",
       "      <td>1</td>\n",
       "      <td>1</td>\n",
       "      <td>0.000016</td>\n",
       "      <td>401</td>\n",
       "      <td>2092</td>\n",
       "      <td>1314</td>\n",
       "      <td>0</td>\n",
       "      <td>0</td>\n",
       "      <td>0.062500</td>\n",
       "      <td>0.0</td>\n",
       "      <td>0.0</td>\n",
       "      <td>0.004988</td>\n",
       "      <td>0.002713</td>\n",
       "      <td>2</td>\n",
       "    </tr>\n",
       "    <tr>\n",
       "      <th>2</th>\n",
       "      <td>16</td>\n",
       "      <td>1</td>\n",
       "      <td>1</td>\n",
       "      <td>1</td>\n",
       "      <td>1</td>\n",
       "      <td>0.000016</td>\n",
       "      <td>444</td>\n",
       "      <td>2748</td>\n",
       "      <td>1351</td>\n",
       "      <td>0</td>\n",
       "      <td>0</td>\n",
       "      <td>0.062500</td>\n",
       "      <td>0.0</td>\n",
       "      <td>0.0</td>\n",
       "      <td>0.004505</td>\n",
       "      <td>0.003004</td>\n",
       "      <td>4</td>\n",
       "    </tr>\n",
       "    <tr>\n",
       "      <th>3</th>\n",
       "      <td>16</td>\n",
       "      <td>1</td>\n",
       "      <td>1</td>\n",
       "      <td>1</td>\n",
       "      <td>1</td>\n",
       "      <td>0.000016</td>\n",
       "      <td>451</td>\n",
       "      <td>2940</td>\n",
       "      <td>1512</td>\n",
       "      <td>0</td>\n",
       "      <td>0</td>\n",
       "      <td>0.062500</td>\n",
       "      <td>0.0</td>\n",
       "      <td>0.0</td>\n",
       "      <td>0.004435</td>\n",
       "      <td>0.003052</td>\n",
       "      <td>8</td>\n",
       "    </tr>\n",
       "    <tr>\n",
       "      <th>4</th>\n",
       "      <td>16</td>\n",
       "      <td>1</td>\n",
       "      <td>1</td>\n",
       "      <td>1</td>\n",
       "      <td>1</td>\n",
       "      <td>0.000012</td>\n",
       "      <td>318</td>\n",
       "      <td>1845</td>\n",
       "      <td>1214</td>\n",
       "      <td>0</td>\n",
       "      <td>0</td>\n",
       "      <td>0.083333</td>\n",
       "      <td>0.0</td>\n",
       "      <td>0.0</td>\n",
       "      <td>0.006289</td>\n",
       "      <td>0.002152</td>\n",
       "      <td>16</td>\n",
       "    </tr>\n",
       "  </tbody>\n",
       "</table>\n",
       "</div>"
      ],
      "text/plain": [
       "   knob_no_size  knob_outer_unroll  knob_inner_unroll1  knob_inner_unroll2  \\\n",
       "n                                                                            \n",
       "0            16                  1                   1                   1   \n",
       "1            16                  1                   1                   1   \n",
       "2            16                  1                   1                   1   \n",
       "3            16                  1                   1                   1   \n",
       "4            16                  1                   1                   1   \n",
       "\n",
       "   knob_merge_unroll      obj1  obj2   lut    ff  dsp  bram  throughput  \\\n",
       "n                                                                         \n",
       "0                  1  0.000017   231  1269   792    0     0    0.058824   \n",
       "1                  1  0.000016   401  2092  1314    0     0    0.062500   \n",
       "2                  1  0.000016   444  2748  1351    0     0    0.062500   \n",
       "3                  1  0.000016   451  2940  1512    0     0    0.062500   \n",
       "4                  1  0.000012   318  1845  1214    0     0    0.083333   \n",
       "\n",
       "   ff_inv  lut_inv    1/obj2   clbUtil  mem_partition_size  \n",
       "n                                                           \n",
       "0     0.0      0.0  0.008658  0.001563                   1  \n",
       "1     0.0      0.0  0.004988  0.002713                   2  \n",
       "2     0.0      0.0  0.004505  0.003004                   4  \n",
       "3     0.0      0.0  0.004435  0.003052                   8  \n",
       "4     0.0      0.0  0.006289  0.002152                  16  "
      ]
     },
     "execution_count": 3,
     "metadata": {},
     "output_type": "execute_result"
    }
   ],
   "source": [
    "print(cdfx.count())\n",
    "cdfx.head()"
   ]
  },
  {
   "cell_type": "code",
   "execution_count": 4,
   "metadata": {},
   "outputs": [
    {
     "name": "stdout",
     "output_type": "stream",
     "text": [
      "knob_no_size          5527\n",
      "knob_outer_unroll     5527\n",
      "knob_inner_unroll1    5527\n",
      "knob_inner_unroll2    5527\n",
      "knob_merge_unroll     5527\n",
      "obj1                  5527\n",
      "obj2                  5527\n",
      "lut                   5527\n",
      "ff                    5527\n",
      "dsp                   5527\n",
      "bram                  5527\n",
      "throughput            5527\n",
      "ff_inv                5525\n",
      "lut_inv               5525\n",
      "1/obj2                5527\n",
      "clbUtil               5527\n",
      "mem_partition_size    5527\n",
      "dtype: int64\n"
     ]
    },
    {
     "data": {
      "text/html": [
       "<div>\n",
       "<style scoped>\n",
       "    .dataframe tbody tr th:only-of-type {\n",
       "        vertical-align: middle;\n",
       "    }\n",
       "\n",
       "    .dataframe tbody tr th {\n",
       "        vertical-align: top;\n",
       "    }\n",
       "\n",
       "    .dataframe thead th {\n",
       "        text-align: right;\n",
       "    }\n",
       "</style>\n",
       "<table border=\"1\" class=\"dataframe\">\n",
       "  <thead>\n",
       "    <tr style=\"text-align: right;\">\n",
       "      <th></th>\n",
       "      <th>knob_no_size</th>\n",
       "      <th>knob_outer_unroll</th>\n",
       "      <th>knob_inner_unroll1</th>\n",
       "      <th>knob_inner_unroll2</th>\n",
       "      <th>knob_merge_unroll</th>\n",
       "      <th>obj1</th>\n",
       "      <th>obj2</th>\n",
       "      <th>lut</th>\n",
       "      <th>ff</th>\n",
       "      <th>dsp</th>\n",
       "      <th>bram</th>\n",
       "      <th>throughput</th>\n",
       "      <th>ff_inv</th>\n",
       "      <th>lut_inv</th>\n",
       "      <th>1/obj2</th>\n",
       "      <th>clbUtil</th>\n",
       "      <th>mem_partition_size</th>\n",
       "    </tr>\n",
       "    <tr>\n",
       "      <th>n</th>\n",
       "      <th></th>\n",
       "      <th></th>\n",
       "      <th></th>\n",
       "      <th></th>\n",
       "      <th></th>\n",
       "      <th></th>\n",
       "      <th></th>\n",
       "      <th></th>\n",
       "      <th></th>\n",
       "      <th></th>\n",
       "      <th></th>\n",
       "      <th></th>\n",
       "      <th></th>\n",
       "      <th></th>\n",
       "      <th></th>\n",
       "      <th></th>\n",
       "      <th></th>\n",
       "    </tr>\n",
       "  </thead>\n",
       "  <tbody>\n",
       "    <tr>\n",
       "      <th>0</th>\n",
       "      <td>16</td>\n",
       "      <td>1</td>\n",
       "      <td>1</td>\n",
       "      <td>1</td>\n",
       "      <td>1</td>\n",
       "      <td>0.000001</td>\n",
       "      <td>218</td>\n",
       "      <td>1199</td>\n",
       "      <td>834</td>\n",
       "      <td>3</td>\n",
       "      <td>0</td>\n",
       "      <td>1.0</td>\n",
       "      <td>0.0</td>\n",
       "      <td>0.0</td>\n",
       "      <td>0.009174</td>\n",
       "      <td>0.001475</td>\n",
       "      <td>4</td>\n",
       "    </tr>\n",
       "    <tr>\n",
       "      <th>1</th>\n",
       "      <td>16</td>\n",
       "      <td>1</td>\n",
       "      <td>1</td>\n",
       "      <td>1</td>\n",
       "      <td>1</td>\n",
       "      <td>0.000001</td>\n",
       "      <td>272</td>\n",
       "      <td>1506</td>\n",
       "      <td>840</td>\n",
       "      <td>3</td>\n",
       "      <td>0</td>\n",
       "      <td>1.0</td>\n",
       "      <td>0.0</td>\n",
       "      <td>0.0</td>\n",
       "      <td>0.007353</td>\n",
       "      <td>0.001841</td>\n",
       "      <td>2</td>\n",
       "    </tr>\n",
       "    <tr>\n",
       "      <th>2</th>\n",
       "      <td>16</td>\n",
       "      <td>1</td>\n",
       "      <td>1</td>\n",
       "      <td>1</td>\n",
       "      <td>1</td>\n",
       "      <td>0.000001</td>\n",
       "      <td>551</td>\n",
       "      <td>3019</td>\n",
       "      <td>1152</td>\n",
       "      <td>3</td>\n",
       "      <td>0</td>\n",
       "      <td>1.0</td>\n",
       "      <td>0.0</td>\n",
       "      <td>0.0</td>\n",
       "      <td>0.003630</td>\n",
       "      <td>0.003729</td>\n",
       "      <td>1</td>\n",
       "    </tr>\n",
       "    <tr>\n",
       "      <th>3</th>\n",
       "      <td>16</td>\n",
       "      <td>1</td>\n",
       "      <td>1</td>\n",
       "      <td>1</td>\n",
       "      <td>2</td>\n",
       "      <td>0.000002</td>\n",
       "      <td>292</td>\n",
       "      <td>1571</td>\n",
       "      <td>1029</td>\n",
       "      <td>3</td>\n",
       "      <td>0</td>\n",
       "      <td>0.5</td>\n",
       "      <td>0.0</td>\n",
       "      <td>0.0</td>\n",
       "      <td>0.006849</td>\n",
       "      <td>0.001976</td>\n",
       "      <td>4</td>\n",
       "    </tr>\n",
       "    <tr>\n",
       "      <th>4</th>\n",
       "      <td>16</td>\n",
       "      <td>1</td>\n",
       "      <td>1</td>\n",
       "      <td>1</td>\n",
       "      <td>2</td>\n",
       "      <td>0.000002</td>\n",
       "      <td>418</td>\n",
       "      <td>2232</td>\n",
       "      <td>1036</td>\n",
       "      <td>3</td>\n",
       "      <td>0</td>\n",
       "      <td>0.5</td>\n",
       "      <td>0.0</td>\n",
       "      <td>0.0</td>\n",
       "      <td>0.004785</td>\n",
       "      <td>0.002829</td>\n",
       "      <td>2</td>\n",
       "    </tr>\n",
       "  </tbody>\n",
       "</table>\n",
       "</div>"
      ],
      "text/plain": [
       "   knob_no_size  knob_outer_unroll  knob_inner_unroll1  knob_inner_unroll2  \\\n",
       "n                                                                            \n",
       "0            16                  1                   1                   1   \n",
       "1            16                  1                   1                   1   \n",
       "2            16                  1                   1                   1   \n",
       "3            16                  1                   1                   1   \n",
       "4            16                  1                   1                   1   \n",
       "\n",
       "   knob_merge_unroll      obj1  obj2   lut    ff  dsp  bram  throughput  \\\n",
       "n                                                                         \n",
       "0                  1  0.000001   218  1199   834    3     0         1.0   \n",
       "1                  1  0.000001   272  1506   840    3     0         1.0   \n",
       "2                  1  0.000001   551  3019  1152    3     0         1.0   \n",
       "3                  2  0.000002   292  1571  1029    3     0         0.5   \n",
       "4                  2  0.000002   418  2232  1036    3     0         0.5   \n",
       "\n",
       "   ff_inv  lut_inv    1/obj2   clbUtil  mem_partition_size  \n",
       "n                                                           \n",
       "0     0.0      0.0  0.009174  0.001475                   4  \n",
       "1     0.0      0.0  0.007353  0.001841                   2  \n",
       "2     0.0      0.0  0.003630  0.003729                   1  \n",
       "3     0.0      0.0  0.006849  0.001976                   4  \n",
       "4     0.0      0.0  0.004785  0.002829                   2  "
      ]
     },
     "execution_count": 4,
     "metadata": {},
     "output_type": "execute_result"
    }
   ],
   "source": [
    "print(vdfx.count())\n",
    "vdfx.head()"
   ]
  },
  {
   "cell_type": "code",
   "execution_count": 5,
   "metadata": {},
   "outputs": [],
   "source": [
    "cmn_col = np.intersect1d(cdfx.columns, vdfx.columns)"
   ]
  },
  {
   "cell_type": "code",
   "execution_count": 6,
   "metadata": {},
   "outputs": [
    {
     "data": {
      "text/plain": [
       "Text(0, 0.5, 'CLB Resources (Normalized 1/CLB)')"
      ]
     },
     "execution_count": 6,
     "metadata": {},
     "output_type": "execute_result"
    },
    {
     "data": {
      "image/png": "[encoded data removed]",
      "text/plain": [
       "<Figure size 432x288 with 1 Axes>"
      ]
     },
     "metadata": {
      "needs_background": "light"
     },
     "output_type": "display_data"
    }
   ],
   "source": [
    "ax1 = vdfx.plot(x='throughput', y='1/obj2', kind='scatter', c='r')\n",
    "ax = cdfx.plot(x='throughput', y='1/obj2', kind='scatter', c='g', ax=ax1)\n",
    "#ax1.set_ylim(0,0.016)\n",
    "\n",
    "red_data = mpatches.Patch(color='red', label='Vivado Results')\n",
    "green_data = mpatches.Patch(color='green', label='Catapult Results')\n",
    "plt.legend(handles=[red_data, green_data])\n",
    "plt.xlabel('Throughput (Normalized 1/obj1)')\n",
    "plt.ylabel('CLB Resources (Normalized 1/CLB)')"
   ]
  },
  {
   "cell_type": "code",
   "execution_count": 7,
   "metadata": {},
   "outputs": [
    {
     "data": {
      "text/plain": [
       "Text(0, 0.5, 'Normalized 1/CLB (1/obj2)')"
      ]
     },
     "execution_count": 7,
     "metadata": {},
     "output_type": "execute_result"
    },
    {
     "data": {
      "image/png": "[encoded data removed]",
      "text/plain": [
       "<Figure size 432x288 with 1 Axes>"
      ]
     },
     "metadata": {
      "needs_background": "light"
     },
     "output_type": "display_data"
    },
    {
     "data": {
      "image/png": "[encoded data removed]",
      "text/plain": [
       "<Figure size 432x288 with 1 Axes>"
      ]
     },
     "metadata": {
      "needs_background": "light"
     },
     "output_type": "display_data"
    }
   ],
   "source": [
    "ax1 = vdfx.plot(y='1/obj2', x='throughput', kind='scatter', c='r')\n",
    "plt.xlabel('Normalized Throughput (1/obj1)')\n",
    "plt.ylabel('Normalized 1/CLB (1/obj2)')\n",
    "ax = cdfx.plot(y='1/obj2', x='throughput', kind='scatter', c='g')\n",
    "#ax1.set_ylim(0,0.001)\n",
    "#ax1.set_xlim(0,1)\n",
    "#ax.set_ylim(0.2, 0.6)\n",
    "#ax.set_xlim(0,0.0000004)\n",
    "#red_data = mpatches.Patch(color='green', label='Vivado Results')\n",
    "#green_data = mpatches.Patch(color='red', label='Catapult Results')\n",
    "#plt.legend(handles=[red_data, green_data])\n",
    "plt.xlabel('Normalized Throughput (1/obj1)')\n",
    "plt.ylabel('Normalized 1/CLB (1/obj2)')"
   ]
  },
  {
   "cell_type": "code",
   "execution_count": 8,
   "metadata": {},
   "outputs": [
    {
     "name": "stdout",
     "output_type": "stream",
     "text": [
      "~~~~~~~~~~~ Catapult Averages ~~~~~~~~~~~~\n",
      "\n",
      "knob_no_size          2777.986014\n",
      "knob_outer_unroll        2.499650\n",
      "knob_inner_unroll1       2.497028\n",
      "knob_inner_unroll2       2.497028\n",
      "knob_merge_unroll        2.501748\n",
      "obj1                     4.156578\n",
      "obj2                   667.191171\n",
      "lut                   4093.307343\n",
      "ff                    1401.404633\n",
      "dsp                      0.000000\n",
      "bram                     0.000000\n",
      "throughput               0.001989\n",
      "ff_inv                   0.000000\n",
      "lut_inv                  0.000000\n",
      "1/obj2                   0.003457\n",
      "clbUtil                  0.004515\n",
      "mem_partition_size     693.790734\n",
      "dtype: float64\n",
      "~~~~~~~~~~~~~~~~~~~~~~~~~~~~~~~~~~~~~~~~~~\n",
      "\n",
      "~~~~~~~~~~~ Vivado Averages ~~~~~~~~~~~~\n",
      "\n",
      "knob_no_size           2735.719197\n",
      "knob_outer_unroll         2.376515\n",
      "knob_inner_unroll1        2.368193\n",
      "knob_inner_unroll2        2.496472\n",
      "knob_merge_unroll         2.383752\n",
      "obj1                      0.000531\n",
      "obj2                   3135.088656\n",
      "lut                   17767.780713\n",
      "ff                     4919.559978\n",
      "dsp                      15.723539\n",
      "bram                      0.000000\n",
      "throughput                0.082306\n",
      "ff_inv                    0.000000\n",
      "lut_inv                   0.000000\n",
      "1/obj2                    0.002382\n",
      "clbUtil                   0.021215\n",
      "mem_partition_size      328.223087\n",
      "dtype: float64\n",
      "~~~~~~~~~~~~~~~~~~~~~~~~~~~~~~~~~~~~~~~~~~\n"
     ]
    }
   ],
   "source": [
    "print(\"~~~~~~~~~~~ Catapult Averages ~~~~~~~~~~~~\\n\")\n",
    "print(cdfx.mean())\n",
    "print(\"~~~~~~~~~~~~~~~~~~~~~~~~~~~~~~~~~~~~~~~~~~\")\n",
    "print(\"\\n~~~~~~~~~~~ Vivado Averages ~~~~~~~~~~~~\\n\")\n",
    "print(vdfx.mean())\n",
    "print(\"~~~~~~~~~~~~~~~~~~~~~~~~~~~~~~~~~~~~~~~~~~\")"
   ]
  },
  {
   "cell_type": "code",
   "execution_count": 9,
   "metadata": {},
   "outputs": [
    {
     "data": {
      "text/plain": [
       "knob_no_size          5489\n",
       "knob_outer_unroll     5489\n",
       "knob_inner_unroll1    5489\n",
       "knob_inner_unroll2    5489\n",
       "knob_merge_unroll     5489\n",
       "obj1_x                5489\n",
       "obj2_x                5489\n",
       "lut_x                 5489\n",
       "ff_x                  5489\n",
       "dsp_x                 5489\n",
       "bram_x                5489\n",
       "throughput_x          5489\n",
       "ff_inv_x              5489\n",
       "lut_inv_x             5489\n",
       "1/obj2_x              5489\n",
       "clbUtil_x             5489\n",
       "mem_partition_size    5489\n",
       "obj1_y                5489\n",
       "obj2_y                5489\n",
       "lut_y                 5489\n",
       "ff_y                  5489\n",
       "dsp_y                 5489\n",
       "bram_y                5489\n",
       "throughput_y          5489\n",
       "ff_inv_y              5487\n",
       "lut_inv_y             5487\n",
       "1/obj2_y              5489\n",
       "clbUtil_y             5489\n",
       "dtype: int64"
      ]
     },
     "execution_count": 9,
     "metadata": {},
     "output_type": "execute_result"
    }
   ],
   "source": [
    "cdfx = cdfx.reset_index(drop=True)\n",
    "vdfx = vdfx.reset_index(drop=True)\n",
    "cv_df = pd.merge(cdfx, vdfx, on=['knob_no_size','knob_outer_unroll','knob_inner_unroll1','knob_inner_unroll2','knob_merge_unroll','mem_partition_size'], how='inner')\n",
    "cv_df.count()"
   ]
  },
  {
   "cell_type": "code",
   "execution_count": 10,
   "metadata": {},
   "outputs": [
    {
     "data": {
      "text/plain": [
       "(0, 1)"
      ]
     },
     "execution_count": 10,
     "metadata": {},
     "output_type": "execute_result"
    },
    {
     "data": {
      "image/png": "[encoded data removed]",
      "text/plain": [
       "<Figure size 432x288 with 1 Axes>"
      ]
     },
     "metadata": {
      "needs_background": "light"
     },
     "output_type": "display_data"
    }
   ],
   "source": [
    "df_sample = cv_df.sample(10)\n",
    "plt.scatter(y=df_sample['1/obj2_x'], x=df_sample.throughput_x, c='g')\n",
    "plt.scatter(y=df_sample['1/obj2_y'], x=df_sample.throughput_y, c='r')\n",
    "linex = []\n",
    "for index, row in df_sample.iterrows():\n",
    "    plt.plot([row['throughput_x'], row['throughput_y']], [row['1/obj2_x'], row['1/obj2_y']],'b:',linewidth=0.7)\n",
    "\n",
    "red_data = mpatches.Patch(color='green', label='Catapult Results')\n",
    "green_data = mpatches.Patch(color='red', label='Vivado Results')\n",
    "plt.legend(handles=[red_data, green_data])\n",
    "plt.xlabel('Normalized Throughput (1/obj1)')\n",
    "plt.ylabel('Normalized 1/CLB (1/obj2)')\n",
    "plt.ylim(0, 1)\n",
    "plt.xlim(0, 1)"
   ]
  },
  {
   "cell_type": "code",
   "execution_count": 11,
   "metadata": {},
   "outputs": [
    {
     "data": {
      "text/plain": [
       "(0, 0.003)"
      ]
     },
     "execution_count": 11,
     "metadata": {},
     "output_type": "execute_result"
    },
    {
     "data": {
      "image/png": "[encoded data removed]",
      "text/plain": [
       "<Figure size 432x288 with 1 Axes>"
      ]
     },
     "metadata": {
      "needs_background": "light"
     },
     "output_type": "display_data"
    }
   ],
   "source": [
    "df_sample = cv_df.sample(10)\n",
    "plt.scatter(y=df_sample.lut_inv_x, x=df_sample.throughput_x, c='g')\n",
    "plt.scatter(y=df_sample.lut_inv_y, x=df_sample.throughput_y, c='r')\n",
    "linex = []\n",
    "for index, row in df_sample.iterrows():\n",
    "    plt.plot([row['throughput_x'], row['throughput_y']], [row['lut_inv_x'], row['lut_inv_y']],'b:',linewidth=0.3)\n",
    "\n",
    "red_data = mpatches.Patch(color='green', label='Catapult Results')\n",
    "green_data = mpatches.Patch(color='red', label='Vivado Results')\n",
    "plt.legend(handles=[red_data, green_data])\n",
    "plt.xlabel('Normalized Throughput')\n",
    "plt.ylabel('FF Resource Utilization (1/FF)')\n",
    "plt.ylim(0, 0.003)"
   ]
  },
  {
   "cell_type": "code",
   "execution_count": 12,
   "metadata": {},
   "outputs": [],
   "source": [
    "df_sample = cv_df.sample(30)"
   ]
  }
 ],
 "metadata": {
  "kernelspec": {
   "display_name": "Python 3",
   "language": "python",
   "name": "python3"
  },
  "language_info": {
   "codemirror_mode": {
    "name": "ipython",
    "version": 3
   },
   "file_extension": ".py",
   "mimetype": "text/x-python",
   "name": "python",
   "nbconvert_exporter": "python",
   "pygments_lexer": "ipython3",
   "version": "3.7.3"
  }
 },
 "nbformat": 4,
 "nbformat_minor": 2
}
