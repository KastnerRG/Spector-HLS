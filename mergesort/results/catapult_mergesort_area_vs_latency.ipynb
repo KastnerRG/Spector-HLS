{
 "cells": [
  {
   "cell_type": "code",
   "execution_count": 1,
   "metadata": {},
   "outputs": [],
   "source": [
    "import numpy as np\n",
    "import pandas as pd\n",
    "from matplotlib import pyplot as plt\n",
    "import matplotlib.patches as mpatches\n",
    "# be sure to correct any csv column names to the same as the other csv file"
   ]
  },
  {
   "cell_type": "code",
   "execution_count": 2,
   "metadata": {},
   "outputs": [],
   "source": [
    "cdfx = pd.read_csv(\"./catapult_mergesort_latency.csv\", index_col=0)\n",
    "vdfx = pd.read_csv(\"./catapult_mergesort_area.csv\", index_col=0)\n",
    "cdfx['throughput'] = cdfx['obj1'].min()*1/cdfx['obj1']\n",
    "vdfx['throughput'] = cdfx['obj1'].min()*1/vdfx['obj1']\n",
    "cdfx['ff_inv'] = 1/cdfx['ff']\n",
    "vdfx['ff_inv'] = 1/vdfx['ff']\n",
    "cdfx['lut_inv'] = 1/cdfx['lut']\n",
    "vdfx['lut_inv'] = 1/vdfx['lut']\n",
    "cdfx['1/obj2'] = cdfx['obj2'].min()*1/cdfx['obj2']\n",
    "vdfx['1/obj2'] = cdfx['obj2'].min()*1/vdfx['obj2']\n",
    "cdfx['clbUtil'] = cdfx['obj2']/147780\n",
    "vdfx['clbUtil'] = vdfx['obj2']/147780\n",
    "cdfx['mem_partition_size'] = cdfx['knob_partition_factor']\n",
    "vdfx['mem_partition_size'] = vdfx['knob_partition_factor']\n",
    "# drop columns\n",
    "cdfx = cdfx.drop(columns=['knob_I_B'])\n",
    "cdfx = cdfx.drop(columns=['knob_partition_factor'])\n",
    "vdfx = vdfx.drop(columns=['knob_I_B'])\n",
    "vdfx = vdfx.drop(columns=['knob_partition_factor'])"
   ]
  },
  {
   "cell_type": "code",
   "execution_count": 3,
   "metadata": {},
   "outputs": [
    {
     "name": "stdout",
     "output_type": "stream",
     "text": [
      "knob_no_size          11440\n",
      "knob_outer_unroll     11440\n",
      "knob_inner_unroll1    11440\n",
      "knob_inner_unroll2    11440\n",
      "knob_merge_unroll     11440\n",
      "obj1                  11440\n",
      "obj2                  11440\n",
      "lut                   11440\n",
      "ff                    11440\n",
      "dsp                   11440\n",
      "bram                  11440\n",
      "throughput            11440\n",
      "ff_inv                11440\n",
      "lut_inv               11440\n",
      "1/obj2                11440\n",
      "clbUtil               11440\n",
      "mem_partition_size    11440\n",
      "dtype: int64\n"
     ]
    },
    {
     "data": {
      "text/html": [
       "<div>\n",
       "<style scoped>\n",
       "    .dataframe tbody tr th:only-of-type {\n",
       "        vertical-align: middle;\n",
       "    }\n",
       "\n",
       "    .dataframe tbody tr th {\n",
       "        vertical-align: top;\n",
       "    }\n",
       "\n",
       "    .dataframe thead th {\n",
       "        text-align: right;\n",
       "    }\n",
       "</style>\n",
       "<table border=\"1\" class=\"dataframe\">\n",
       "  <thead>\n",
       "    <tr style=\"text-align: right;\">\n",
       "      <th></th>\n",
       "      <th>knob_no_size</th>\n",
       "      <th>knob_outer_unroll</th>\n",
       "      <th>knob_inner_unroll1</th>\n",
       "      <th>knob_inner_unroll2</th>\n",
       "      <th>knob_merge_unroll</th>\n",
       "      <th>obj1</th>\n",
       "      <th>obj2</th>\n",
       "      <th>lut</th>\n",
       "      <th>ff</th>\n",
       "      <th>dsp</th>\n",
       "      <th>bram</th>\n",
       "      <th>throughput</th>\n",
       "      <th>ff_inv</th>\n",
       "      <th>lut_inv</th>\n",
       "      <th>1/obj2</th>\n",
       "      <th>clbUtil</th>\n",
       "      <th>mem_partition_size</th>\n",
       "    </tr>\n",
       "    <tr>\n",
       "      <th>n</th>\n",
       "      <th></th>\n",
       "      <th></th>\n",
       "      <th></th>\n",
       "      <th></th>\n",
       "      <th></th>\n",
       "      <th></th>\n",
       "      <th></th>\n",
       "      <th></th>\n",
       "      <th></th>\n",
       "      <th></th>\n",
       "      <th></th>\n",
       "      <th></th>\n",
       "      <th></th>\n",
       "      <th></th>\n",
       "      <th></th>\n",
       "      <th></th>\n",
       "      <th></th>\n",
       "    </tr>\n",
       "  </thead>\n",
       "  <tbody>\n",
       "    <tr>\n",
       "      <th>0</th>\n",
       "      <td>16</td>\n",
       "      <td>1</td>\n",
       "      <td>1</td>\n",
       "      <td>1</td>\n",
       "      <td>1</td>\n",
       "      <td>0.000017</td>\n",
       "      <td>231</td>\n",
       "      <td>1269</td>\n",
       "      <td>792</td>\n",
       "      <td>0</td>\n",
       "      <td>0</td>\n",
       "      <td>0.588235</td>\n",
       "      <td>0.001263</td>\n",
       "      <td>0.000788</td>\n",
       "      <td>0.961039</td>\n",
       "      <td>0.001563</td>\n",
       "      <td>1</td>\n",
       "    </tr>\n",
       "    <tr>\n",
       "      <th>1</th>\n",
       "      <td>16</td>\n",
       "      <td>1</td>\n",
       "      <td>1</td>\n",
       "      <td>1</td>\n",
       "      <td>1</td>\n",
       "      <td>0.000016</td>\n",
       "      <td>401</td>\n",
       "      <td>2092</td>\n",
       "      <td>1314</td>\n",
       "      <td>0</td>\n",
       "      <td>0</td>\n",
       "      <td>0.625000</td>\n",
       "      <td>0.000761</td>\n",
       "      <td>0.000478</td>\n",
       "      <td>0.553616</td>\n",
       "      <td>0.002713</td>\n",
       "      <td>2</td>\n",
       "    </tr>\n",
       "    <tr>\n",
       "      <th>2</th>\n",
       "      <td>16</td>\n",
       "      <td>1</td>\n",
       "      <td>1</td>\n",
       "      <td>1</td>\n",
       "      <td>1</td>\n",
       "      <td>0.000016</td>\n",
       "      <td>444</td>\n",
       "      <td>2748</td>\n",
       "      <td>1351</td>\n",
       "      <td>0</td>\n",
       "      <td>0</td>\n",
       "      <td>0.625000</td>\n",
       "      <td>0.000740</td>\n",
       "      <td>0.000364</td>\n",
       "      <td>0.500000</td>\n",
       "      <td>0.003004</td>\n",
       "      <td>4</td>\n",
       "    </tr>\n",
       "    <tr>\n",
       "      <th>3</th>\n",
       "      <td>16</td>\n",
       "      <td>1</td>\n",
       "      <td>1</td>\n",
       "      <td>1</td>\n",
       "      <td>1</td>\n",
       "      <td>0.000016</td>\n",
       "      <td>451</td>\n",
       "      <td>2940</td>\n",
       "      <td>1512</td>\n",
       "      <td>0</td>\n",
       "      <td>0</td>\n",
       "      <td>0.625000</td>\n",
       "      <td>0.000661</td>\n",
       "      <td>0.000340</td>\n",
       "      <td>0.492239</td>\n",
       "      <td>0.003052</td>\n",
       "      <td>8</td>\n",
       "    </tr>\n",
       "    <tr>\n",
       "      <th>4</th>\n",
       "      <td>16</td>\n",
       "      <td>1</td>\n",
       "      <td>1</td>\n",
       "      <td>1</td>\n",
       "      <td>1</td>\n",
       "      <td>0.000012</td>\n",
       "      <td>318</td>\n",
       "      <td>1845</td>\n",
       "      <td>1214</td>\n",
       "      <td>0</td>\n",
       "      <td>0</td>\n",
       "      <td>0.833333</td>\n",
       "      <td>0.000824</td>\n",
       "      <td>0.000542</td>\n",
       "      <td>0.698113</td>\n",
       "      <td>0.002152</td>\n",
       "      <td>16</td>\n",
       "    </tr>\n",
       "  </tbody>\n",
       "</table>\n",
       "</div>"
      ],
      "text/plain": [
       "   knob_no_size  knob_outer_unroll  knob_inner_unroll1  knob_inner_unroll2  \\\n",
       "n                                                                            \n",
       "0            16                  1                   1                   1   \n",
       "1            16                  1                   1                   1   \n",
       "2            16                  1                   1                   1   \n",
       "3            16                  1                   1                   1   \n",
       "4            16                  1                   1                   1   \n",
       "\n",
       "   knob_merge_unroll      obj1  obj2   lut    ff  dsp  bram  throughput  \\\n",
       "n                                                                         \n",
       "0                  1  0.000017   231  1269   792    0     0    0.588235   \n",
       "1                  1  0.000016   401  2092  1314    0     0    0.625000   \n",
       "2                  1  0.000016   444  2748  1351    0     0    0.625000   \n",
       "3                  1  0.000016   451  2940  1512    0     0    0.625000   \n",
       "4                  1  0.000012   318  1845  1214    0     0    0.833333   \n",
       "\n",
       "     ff_inv   lut_inv    1/obj2   clbUtil  mem_partition_size  \n",
       "n                                                              \n",
       "0  0.001263  0.000788  0.961039  0.001563                   1  \n",
       "1  0.000761  0.000478  0.553616  0.002713                   2  \n",
       "2  0.000740  0.000364  0.500000  0.003004                   4  \n",
       "3  0.000661  0.000340  0.492239  0.003052                   8  \n",
       "4  0.000824  0.000542  0.698113  0.002152                  16  "
      ]
     },
     "execution_count": 3,
     "metadata": {},
     "output_type": "execute_result"
    }
   ],
   "source": [
    "print(cdfx.count())\n",
    "cdfx.head()"
   ]
  },
  {
   "cell_type": "code",
   "execution_count": 4,
   "metadata": {},
   "outputs": [
    {
     "name": "stdout",
     "output_type": "stream",
     "text": [
      "knob_no_size          11447\n",
      "knob_outer_unroll     11447\n",
      "knob_inner_unroll1    11447\n",
      "knob_inner_unroll2    11447\n",
      "knob_merge_unroll     11447\n",
      "obj1                  11447\n",
      "obj2                  11447\n",
      "lut                   11447\n",
      "ff                    11447\n",
      "dsp                   11447\n",
      "bram                  11447\n",
      "throughput            11447\n",
      "ff_inv                11447\n",
      "lut_inv               11447\n",
      "1/obj2                11447\n",
      "clbUtil               11447\n",
      "mem_partition_size    11447\n",
      "dtype: int64\n"
     ]
    },
    {
     "data": {
      "text/html": [
       "<div>\n",
       "<style scoped>\n",
       "    .dataframe tbody tr th:only-of-type {\n",
       "        vertical-align: middle;\n",
       "    }\n",
       "\n",
       "    .dataframe tbody tr th {\n",
       "        vertical-align: top;\n",
       "    }\n",
       "\n",
       "    .dataframe thead th {\n",
       "        text-align: right;\n",
       "    }\n",
       "</style>\n",
       "<table border=\"1\" class=\"dataframe\">\n",
       "  <thead>\n",
       "    <tr style=\"text-align: right;\">\n",
       "      <th></th>\n",
       "      <th>knob_no_size</th>\n",
       "      <th>knob_outer_unroll</th>\n",
       "      <th>knob_inner_unroll1</th>\n",
       "      <th>knob_inner_unroll2</th>\n",
       "      <th>knob_merge_unroll</th>\n",
       "      <th>obj1</th>\n",
       "      <th>obj2</th>\n",
       "      <th>lut</th>\n",
       "      <th>ff</th>\n",
       "      <th>dsp</th>\n",
       "      <th>bram</th>\n",
       "      <th>throughput</th>\n",
       "      <th>ff_inv</th>\n",
       "      <th>lut_inv</th>\n",
       "      <th>1/obj2</th>\n",
       "      <th>clbUtil</th>\n",
       "      <th>mem_partition_size</th>\n",
       "    </tr>\n",
       "    <tr>\n",
       "      <th>n</th>\n",
       "      <th></th>\n",
       "      <th></th>\n",
       "      <th></th>\n",
       "      <th></th>\n",
       "      <th></th>\n",
       "      <th></th>\n",
       "      <th></th>\n",
       "      <th></th>\n",
       "      <th></th>\n",
       "      <th></th>\n",
       "      <th></th>\n",
       "      <th></th>\n",
       "      <th></th>\n",
       "      <th></th>\n",
       "      <th></th>\n",
       "      <th></th>\n",
       "      <th></th>\n",
       "    </tr>\n",
       "  </thead>\n",
       "  <tbody>\n",
       "    <tr>\n",
       "      <th>0</th>\n",
       "      <td>16</td>\n",
       "      <td>1</td>\n",
       "      <td>1</td>\n",
       "      <td>1</td>\n",
       "      <td>1</td>\n",
       "      <td>0.000017</td>\n",
       "      <td>231</td>\n",
       "      <td>1269</td>\n",
       "      <td>792</td>\n",
       "      <td>0</td>\n",
       "      <td>0</td>\n",
       "      <td>0.588235</td>\n",
       "      <td>0.001263</td>\n",
       "      <td>0.000788</td>\n",
       "      <td>0.961039</td>\n",
       "      <td>0.001563</td>\n",
       "      <td>1</td>\n",
       "    </tr>\n",
       "    <tr>\n",
       "      <th>1</th>\n",
       "      <td>16</td>\n",
       "      <td>1</td>\n",
       "      <td>1</td>\n",
       "      <td>1</td>\n",
       "      <td>1</td>\n",
       "      <td>0.000016</td>\n",
       "      <td>401</td>\n",
       "      <td>2092</td>\n",
       "      <td>1314</td>\n",
       "      <td>0</td>\n",
       "      <td>0</td>\n",
       "      <td>0.625000</td>\n",
       "      <td>0.000761</td>\n",
       "      <td>0.000478</td>\n",
       "      <td>0.553616</td>\n",
       "      <td>0.002713</td>\n",
       "      <td>2</td>\n",
       "    </tr>\n",
       "    <tr>\n",
       "      <th>2</th>\n",
       "      <td>16</td>\n",
       "      <td>1</td>\n",
       "      <td>1</td>\n",
       "      <td>1</td>\n",
       "      <td>1</td>\n",
       "      <td>0.000016</td>\n",
       "      <td>444</td>\n",
       "      <td>2748</td>\n",
       "      <td>1351</td>\n",
       "      <td>0</td>\n",
       "      <td>0</td>\n",
       "      <td>0.625000</td>\n",
       "      <td>0.000740</td>\n",
       "      <td>0.000364</td>\n",
       "      <td>0.500000</td>\n",
       "      <td>0.003004</td>\n",
       "      <td>4</td>\n",
       "    </tr>\n",
       "    <tr>\n",
       "      <th>3</th>\n",
       "      <td>16</td>\n",
       "      <td>1</td>\n",
       "      <td>1</td>\n",
       "      <td>1</td>\n",
       "      <td>1</td>\n",
       "      <td>0.000016</td>\n",
       "      <td>451</td>\n",
       "      <td>2940</td>\n",
       "      <td>1512</td>\n",
       "      <td>0</td>\n",
       "      <td>0</td>\n",
       "      <td>0.625000</td>\n",
       "      <td>0.000661</td>\n",
       "      <td>0.000340</td>\n",
       "      <td>0.492239</td>\n",
       "      <td>0.003052</td>\n",
       "      <td>8</td>\n",
       "    </tr>\n",
       "    <tr>\n",
       "      <th>4</th>\n",
       "      <td>16</td>\n",
       "      <td>1</td>\n",
       "      <td>1</td>\n",
       "      <td>1</td>\n",
       "      <td>1</td>\n",
       "      <td>0.000012</td>\n",
       "      <td>318</td>\n",
       "      <td>1845</td>\n",
       "      <td>1214</td>\n",
       "      <td>0</td>\n",
       "      <td>0</td>\n",
       "      <td>0.833333</td>\n",
       "      <td>0.000824</td>\n",
       "      <td>0.000542</td>\n",
       "      <td>0.698113</td>\n",
       "      <td>0.002152</td>\n",
       "      <td>16</td>\n",
       "    </tr>\n",
       "  </tbody>\n",
       "</table>\n",
       "</div>"
      ],
      "text/plain": [
       "   knob_no_size  knob_outer_unroll  knob_inner_unroll1  knob_inner_unroll2  \\\n",
       "n                                                                            \n",
       "0            16                  1                   1                   1   \n",
       "1            16                  1                   1                   1   \n",
       "2            16                  1                   1                   1   \n",
       "3            16                  1                   1                   1   \n",
       "4            16                  1                   1                   1   \n",
       "\n",
       "   knob_merge_unroll      obj1  obj2   lut    ff  dsp  bram  throughput  \\\n",
       "n                                                                         \n",
       "0                  1  0.000017   231  1269   792    0     0    0.588235   \n",
       "1                  1  0.000016   401  2092  1314    0     0    0.625000   \n",
       "2                  1  0.000016   444  2748  1351    0     0    0.625000   \n",
       "3                  1  0.000016   451  2940  1512    0     0    0.625000   \n",
       "4                  1  0.000012   318  1845  1214    0     0    0.833333   \n",
       "\n",
       "     ff_inv   lut_inv    1/obj2   clbUtil  mem_partition_size  \n",
       "n                                                              \n",
       "0  0.001263  0.000788  0.961039  0.001563                   1  \n",
       "1  0.000761  0.000478  0.553616  0.002713                   2  \n",
       "2  0.000740  0.000364  0.500000  0.003004                   4  \n",
       "3  0.000661  0.000340  0.492239  0.003052                   8  \n",
       "4  0.000824  0.000542  0.698113  0.002152                  16  "
      ]
     },
     "execution_count": 4,
     "metadata": {},
     "output_type": "execute_result"
    }
   ],
   "source": [
    "print(vdfx.count())\n",
    "vdfx.head()"
   ]
  },
  {
   "cell_type": "code",
   "execution_count": 5,
   "metadata": {},
   "outputs": [],
   "source": [
    "cmn_col = np.intersect1d(cdfx.columns, vdfx.columns)"
   ]
  },
  {
   "cell_type": "code",
   "execution_count": 6,
   "metadata": {},
   "outputs": [
    {
     "data": {
      "text/plain": [
       "Text(0.5, 1.0, 'Mergesort')"
      ]
     },
     "execution_count": 6,
     "metadata": {},
     "output_type": "execute_result"
    },
    {
     "data": {
      "image/png": "[encoded data removed]",
      "text/plain": [
       "<Figure size 432x288 with 1 Axes>"
      ]
     },
     "metadata": {
      "needs_background": "light"
     },
     "output_type": "display_data"
    }
   ],
   "source": [
    "ax1 = vdfx.plot(x='throughput', y='1/obj2', kind='scatter', c='r')\n",
    "ax = cdfx.plot(x='throughput', y='1/obj2', kind='scatter', c='g', ax=ax1)\n",
    "#ax1.set_ylim(0,0.016)\n",
    "\n",
    "red_data = mpatches.Patch(color='red', label='Catapult Area Results')\n",
    "green_data = mpatches.Patch(color='green', label='Catapult Latency Results')\n",
    "plt.legend(handles=[red_data, green_data])\n",
    "plt.xlabel('Throughput (Normalized 1/obj1)')\n",
    "plt.ylabel('CLB Resources (Normalized 1/CLB)')\n",
    "plt.title(\"Mergesort\")"
   ]
  },
  {
   "cell_type": "code",
   "execution_count": 7,
   "metadata": {},
   "outputs": [
    {
     "data": {
      "text/plain": [
       "Text(0, 0.5, 'Normalized 1/CLB (1/obj2)')"
      ]
     },
     "execution_count": 7,
     "metadata": {},
     "output_type": "execute_result"
    },
    {
     "data": {
      "image/png": "[encoded data removed]",
      "text/plain": [
       "<Figure size 432x288 with 1 Axes>"
      ]
     },
     "metadata": {
      "needs_background": "light"
     },
     "output_type": "display_data"
    },
    {
     "data": {
      "image/png": "[encoded data removed]",
      "text/plain": [
       "<Figure size 432x288 with 1 Axes>"
      ]
     },
     "metadata": {
      "needs_background": "light"
     },
     "output_type": "display_data"
    }
   ],
   "source": [
    "ax1 = vdfx.plot(y='1/obj2', x='throughput', kind='scatter', c='r')\n",
    "plt.xlabel('Normalized Throughput (1/obj1)')\n",
    "plt.ylabel('Normalized 1/CLB (1/obj2)')\n",
    "ax = cdfx.plot(y='1/obj2', x='throughput', kind='scatter', c='g')\n",
    "#ax1.set_ylim(0,0.001)\n",
    "#ax1.set_xlim(0,1)\n",
    "#ax.set_ylim(0.2, 0.6)\n",
    "#ax.set_xlim(0,0.0000004)\n",
    "#red_data = mpatches.Patch(color='green', label='Vivado Results')\n",
    "#green_data = mpatches.Patch(color='red', label='Catapult Results')\n",
    "#plt.legend(handles=[red_data, green_data])\n",
    "plt.xlabel('Normalized Throughput (1/obj1)')\n",
    "plt.ylabel('Normalized 1/CLB (1/obj2)')"
   ]
  },
  {
   "cell_type": "code",
   "execution_count": 8,
   "metadata": {},
   "outputs": [
    {
     "name": "stdout",
     "output_type": "stream",
     "text": [
      "~~~~~~~~~~~ Catapult Averages ~~~~~~~~~~~~\n",
      "\n",
      "knob_no_size          2777.986014\n",
      "knob_outer_unroll        2.499650\n",
      "knob_inner_unroll1       2.497028\n",
      "knob_inner_unroll2       2.497028\n",
      "knob_merge_unroll        2.501748\n",
      "obj1                     4.156578\n",
      "obj2                   667.191171\n",
      "lut                   4093.307343\n",
      "ff                    1401.404633\n",
      "dsp                      0.000000\n",
      "bram                     0.000000\n",
      "throughput               0.019886\n",
      "ff_inv                   0.000724\n",
      "lut_inv                  0.000284\n",
      "1/obj2                   0.383691\n",
      "clbUtil                  0.004515\n",
      "mem_partition_size     693.790734\n",
      "dtype: float64\n",
      "~~~~~~~~~~~~~~~~~~~~~~~~~~~~~~~~~~~~~~~~~~\n",
      "\n",
      "~~~~~~~~~~~ Vivado Averages ~~~~~~~~~~~~\n",
      "\n",
      "knob_no_size          2777.083952\n",
      "knob_outer_unroll        2.498209\n",
      "knob_inner_unroll1       2.498559\n",
      "knob_inner_unroll2       2.495326\n",
      "knob_merge_unroll        2.501092\n",
      "obj1                     4.158579\n",
      "obj2                   666.056609\n",
      "lut                   4081.729798\n",
      "ff                    1400.183542\n",
      "dsp                      0.000000\n",
      "bram                     0.000000\n",
      "throughput               0.019925\n",
      "ff_inv                   0.000725\n",
      "lut_inv                  0.000285\n",
      "1/obj2                   0.384111\n",
      "clbUtil                  0.004507\n",
      "mem_partition_size     693.297458\n",
      "dtype: float64\n",
      "~~~~~~~~~~~~~~~~~~~~~~~~~~~~~~~~~~~~~~~~~~\n"
     ]
    }
   ],
   "source": [
    "print(\"~~~~~~~~~~~ Catapult Averages ~~~~~~~~~~~~\\n\")\n",
    "print(cdfx.mean())\n",
    "print(\"~~~~~~~~~~~~~~~~~~~~~~~~~~~~~~~~~~~~~~~~~~\")\n",
    "print(\"\\n~~~~~~~~~~~ Vivado Averages ~~~~~~~~~~~~\\n\")\n",
    "print(vdfx.mean())\n",
    "print(\"~~~~~~~~~~~~~~~~~~~~~~~~~~~~~~~~~~~~~~~~~~\")"
   ]
  },
  {
   "cell_type": "code",
   "execution_count": 9,
   "metadata": {},
   "outputs": [
    {
     "data": {
      "text/plain": [
       "knob_no_size          11368\n",
       "knob_outer_unroll     11368\n",
       "knob_inner_unroll1    11368\n",
       "knob_inner_unroll2    11368\n",
       "knob_merge_unroll     11368\n",
       "obj1_x                11368\n",
       "obj2_x                11368\n",
       "lut_x                 11368\n",
       "ff_x                  11368\n",
       "dsp_x                 11368\n",
       "bram_x                11368\n",
       "throughput_x          11368\n",
       "ff_inv_x              11368\n",
       "lut_inv_x             11368\n",
       "1/obj2_x              11368\n",
       "clbUtil_x             11368\n",
       "mem_partition_size    11368\n",
       "obj1_y                11368\n",
       "obj2_y                11368\n",
       "lut_y                 11368\n",
       "ff_y                  11368\n",
       "dsp_y                 11368\n",
       "bram_y                11368\n",
       "throughput_y          11368\n",
       "ff_inv_y              11368\n",
       "lut_inv_y             11368\n",
       "1/obj2_y              11368\n",
       "clbUtil_y             11368\n",
       "dtype: int64"
      ]
     },
     "execution_count": 9,
     "metadata": {},
     "output_type": "execute_result"
    }
   ],
   "source": [
    "cdfx = cdfx.reset_index(drop=True)\n",
    "vdfx = vdfx.reset_index(drop=True)\n",
    "cv_df = pd.merge(cdfx, vdfx, on=['knob_no_size','knob_outer_unroll','knob_inner_unroll1','knob_inner_unroll2','knob_merge_unroll','mem_partition_size'], how='inner')\n",
    "cv_df.count()"
   ]
  },
  {
   "cell_type": "code",
   "execution_count": 10,
   "metadata": {},
   "outputs": [
    {
     "data": {
      "text/plain": [
       "(0, 1)"
      ]
     },
     "execution_count": 10,
     "metadata": {},
     "output_type": "execute_result"
    },
    {
     "data": {
      "image/png": "[encoded data removed]",
      "text/plain": [
       "<Figure size 432x288 with 1 Axes>"
      ]
     },
     "metadata": {
      "needs_background": "light"
     },
     "output_type": "display_data"
    }
   ],
   "source": [
    "df_sample = cv_df.sample(10)\n",
    "plt.scatter(y=df_sample['1/obj2_x'], x=df_sample.throughput_x, c='g')\n",
    "plt.scatter(y=df_sample['1/obj2_y'], x=df_sample.throughput_y, c='r')\n",
    "linex = []\n",
    "for index, row in df_sample.iterrows():\n",
    "    plt.plot([row['throughput_x'], row['throughput_y']], [row['1/obj2_x'], row['1/obj2_y']],'b:',linewidth=0.7)\n",
    "\n",
    "red_data = mpatches.Patch(color='green', label='Catapult Results')\n",
    "green_data = mpatches.Patch(color='red', label='Vivado Results')\n",
    "plt.legend(handles=[red_data, green_data])\n",
    "plt.xlabel('Normalized Throughput (1/obj1)')\n",
    "plt.ylabel('Normalized 1/CLB (1/obj2)')\n",
    "plt.ylim(0, 1)\n",
    "plt.xlim(0, 1)"
   ]
  },
  {
   "cell_type": "code",
   "execution_count": 11,
   "metadata": {},
   "outputs": [
    {
     "data": {
      "text/plain": [
       "(0, 0.003)"
      ]
     },
     "execution_count": 11,
     "metadata": {},
     "output_type": "execute_result"
    },
    {
     "data": {
      "image/png": "[encoded data removed]",
      "text/plain": [
       "<Figure size 432x288 with 1 Axes>"
      ]
     },
     "metadata": {
      "needs_background": "light"
     },
     "output_type": "display_data"
    }
   ],
   "source": [
    "df_sample = cv_df.sample(10)\n",
    "plt.scatter(y=df_sample.lut_inv_x, x=df_sample.throughput_x, c='g')\n",
    "plt.scatter(y=df_sample.lut_inv_y, x=df_sample.throughput_y, c='r')\n",
    "linex = []\n",
    "for index, row in df_sample.iterrows():\n",
    "    plt.plot([row['throughput_x'], row['throughput_y']], [row['lut_inv_x'], row['lut_inv_y']],'b:',linewidth=0.3)\n",
    "\n",
    "red_data = mpatches.Patch(color='green', label='Catapult Results')\n",
    "green_data = mpatches.Patch(color='red', label='Vivado Results')\n",
    "plt.legend(handles=[red_data, green_data])\n",
    "plt.xlabel('Normalized Throughput')\n",
    "plt.ylabel('FF Resource Utilization (1/FF)')\n",
    "plt.ylim(0, 0.003)"
   ]
  },
  {
   "cell_type": "code",
   "execution_count": 12,
   "metadata": {},
   "outputs": [],
   "source": [
    "df_sample = cv_df.sample(30)"
   ]
  }
 ],
 "metadata": {
  "kernelspec": {
   "display_name": "Python 3",
   "language": "python",
   "name": "python3"
  },
  "language_info": {
   "codemirror_mode": {
    "name": "ipython",
    "version": 3
   },
   "file_extension": ".py",
   "mimetype": "text/x-python",
   "name": "python",
   "nbconvert_exporter": "python",
   "pygments_lexer": "ipython3",
   "version": "3.7.3"
  }
 },
 "nbformat": 4,
 "nbformat_minor": 2
}
