{
 "cells": [
  {
   "cell_type": "markdown",
   "metadata": {},
   "source": [
    "Import packacges."
   ]
  },
  {
   "cell_type": "code",
   "execution_count": 1,
   "metadata": {},
   "outputs": [
    {
     "name": "stderr",
     "output_type": "stream",
     "text": [
      "/home/ubuntu/.local/lib/python3.6/site-packages/numba/core/errors.py:144: UserWarning: Insufficiently recent colorama version found. Numba requires colorama >= 0.3.9\n",
      "  warnings.warn(msg)\n"
     ]
    }
   ],
   "source": [
    "# %matplotlib notebook\n",
    "\n",
    "%reload_ext autoreload\n",
    "import os,sys\n",
    "import numpy as np\n",
    "import pandas as pd\n",
    "import matplotlib.pyplot as plt\n",
    "sys.path.append('./Sherlock_files')\n",
    "from sklearn.preprocessing import normalize, PolynomialFeatures, scale\n",
    "%aimport Sherlock\n",
    "from Sherlock import Sherlock\n",
    "from RBF import bases\n",
    "from utils import adrs, read_design_space, approximate_pareto\n",
    "import dcor\n",
    "\n",
    "try: import GPy\n",
    "except: pass\n",
    "\n",
    "import warnings\n",
    "warnings.filterwarnings(\"ignore\", category=RuntimeWarning)\n",
    "\n",
    "import logging\n",
    "logging.basicConfig(format='%(asctime)s %(levelname)s:%(message)s', level=logging.ERROR, datefmt='%I:%M:%S')\n",
    "\n",
    "%autoreload 1"
   ]
  },
  {
   "cell_type": "markdown",
   "metadata": {},
   "source": [
    "Read the design space."
   ]
  },
  {
   "cell_type": "code",
   "execution_count": 2,
   "metadata": {},
   "outputs": [],
   "source": [
    "X, y, _, names, _ = read_design_space('../csv/catapult_histogram_area_sherlock.csv',\n",
    "                                      use_hint=False, random_factor=0.0, hint_random_factor=0.0,\n",
    "                                      return_names=True)"
   ]
  },
  {
   "cell_type": "markdown",
   "metadata": {},
   "source": [
    "Plot the design space."
   ]
  },
  {
   "cell_type": "code",
   "execution_count": 3,
   "metadata": {},
   "outputs": [
    {
     "data": {
      "image/png": "[encoded data removed]",
      "text/plain": [
       "<Figure size 432x288 with 1 Axes>"
      ]
     },
     "metadata": {},
     "output_type": "display_data"
    }
   ],
   "source": [
    "plt.figure()\n",
    "y_pareto = approximate_pareto(y)[0]\n",
    "plt.scatter(y[:,0], y[:,1])\n",
    "plt.scatter(y_pareto[:,0], y_pareto[:,1])\n",
    "plt.xlabel(\"1/\" + names[-2])\n",
    "plt.ylabel(\"1/\" + names[-1])\n",
    "plt.xlim(left=y[:,0].min()*0.95, right=y[:,0].max()*1.05)\n",
    "plt.ylim(bottom=y[:,1].min()*0.95, top=y[:,1].max()*1.05)\n",
    "plt.show()"
   ]
  },
  {
   "cell_type": "markdown",
   "metadata": {},
   "source": [
    "Run Sherlock."
   ]
  },
  {
   "cell_type": "code",
   "execution_count": 4,
   "metadata": {},
   "outputs": [],
   "source": [
    "err=list()"
   ]
  },
  {
   "cell_type": "code",
   "execution_count": 5,
   "metadata": {
    "scrolled": true
   },
   "outputs": [
    {
     "name": "stderr",
     "output_type": "stream",
     "text": [
      " /home/ubuntu/.local/lib/python3.6/site-packages/sklearn/externals/joblib/__init__.py:15: FutureWarning:sklearn.externals.joblib is deprecated in 0.21 and will be removed in 0.23. Please import this functionality directly from joblib, which can be installed with: pip install joblib. If this warning is raised when loading pickled models, you may need to re-serialize those models with scikit-learn 0.21+.\n",
      " /home/ubuntu/.local/lib/python3.6/site-packages/sklearn/utils/deprecation.py:144: FutureWarning:The sklearn.ensemble.base module is  deprecated in version 0.22 and will be removed in version 0.24. The corresponding classes / functions should instead be imported from sklearn.ensemble. Anything that cannot be imported from sklearn.ensemble is now part of the private API.\n",
      " /home/ubuntu/.local/lib/python3.6/site-packages/sklearn/externals/joblib/__init__.py:15: FutureWarning:sklearn.externals.joblib is deprecated in 0.21 and will be removed in 0.23. Please import this functionality directly from joblib, which can be installed with: pip install joblib. If this warning is raised when loading pickled models, you may need to re-serialize those models with scikit-learn 0.21+.\n",
      " /home/ubuntu/.local/lib/python3.6/site-packages/sklearn/utils/deprecation.py:144: FutureWarning:The sklearn.ensemble.base module is  deprecated in version 0.22 and will be removed in version 0.24. The corresponding classes / functions should instead be imported from sklearn.ensemble. Anything that cannot be imported from sklearn.ensemble is now part of the private API.\n"
     ]
    },
    {
     "ename": "ValueError",
     "evalue": "\nfunction: assert_minimisation\nwhere: /pagmo2/src/utils/hv_algos/hv_algorithm.cpp, 256\nwhat: Reference point is invalid: another point seems to be outside the reference point boundary, or be equal to it:\n P[0]\t= (-0.000000, -0.000000)\n R\t= (0.000000, 0.000000)\n\n",
     "output_type": "error",
     "traceback": [
      "\u001b[0;31m---------------------------------------------------------------------------\u001b[0m",
      "\u001b[0;31mValueError\u001b[0m                                Traceback (most recent call last)",
      "\u001b[0;32m<ipython-input-5-a8cf9125d7f1>\u001b[0m in \u001b[0;36m<module>\u001b[0;34m()\u001b[0m\n\u001b[1;32m     17\u001b[0m     model_selection_type=\"mab10\")\n\u001b[1;32m     18\u001b[0m \u001b[0;34m\u001b[0m\u001b[0m\n\u001b[0;32m---> 19\u001b[0;31m \u001b[0msherlock\u001b[0m\u001b[0;34m.\u001b[0m\u001b[0mfit\u001b[0m\u001b[0;34m(\u001b[0m\u001b[0mX\u001b[0m\u001b[0;34m)\u001b[0m\u001b[0;34m.\u001b[0m\u001b[0mpredict\u001b[0m\u001b[0;34m(\u001b[0m\u001b[0mX\u001b[0m\u001b[0;34m,\u001b[0m\u001b[0my\u001b[0m\u001b[0;34m)\u001b[0m\u001b[0;34m\u001b[0m\u001b[0;34m\u001b[0m\u001b[0m\n\u001b[0m\u001b[1;32m     20\u001b[0m \u001b[0merr\u001b[0m\u001b[0;34m.\u001b[0m\u001b[0mappend\u001b[0m\u001b[0;34m(\u001b[0m\u001b[0madrs\u001b[0m\u001b[0;34m(\u001b[0m\u001b[0my\u001b[0m\u001b[0;34m,\u001b[0m \u001b[0msherlock\u001b[0m\u001b[0;34m.\u001b[0m\u001b[0mknown_idx\u001b[0m\u001b[0;34m,\u001b[0m \u001b[0mapproximate\u001b[0m\u001b[0;34m=\u001b[0m\u001b[0;32mTrue\u001b[0m\u001b[0;34m)\u001b[0m\u001b[0;34m)\u001b[0m\u001b[0;34m\u001b[0m\u001b[0;34m\u001b[0m\u001b[0m\n\u001b[1;32m     21\u001b[0m \u001b[0mprint\u001b[0m\u001b[0;34m(\u001b[0m\u001b[0merr\u001b[0m\u001b[0;34m)\u001b[0m\u001b[0;34m\u001b[0m\u001b[0;34m\u001b[0m\u001b[0m\n",
      "\u001b[0;32m/home/ubuntu/Spector-HLS/histogram/results/Sherlock/Sherlock_files/Sherlock.py\u001b[0m in \u001b[0;36mpredict\u001b[0;34m(self, X, y, input_known_idx)\u001b[0m\n\u001b[1;32m    537\u001b[0m \u001b[0;34m\u001b[0m\u001b[0m\n\u001b[1;32m    538\u001b[0m             \u001b[0;31m# This is computed only to gather statistics\u001b[0m\u001b[0;34m\u001b[0m\u001b[0;34m\u001b[0m\u001b[0;34m\u001b[0m\u001b[0m\n\u001b[0;32m--> 539\u001b[0;31m             \u001b[0mhypervol_models\u001b[0m \u001b[0;34m=\u001b[0m \u001b[0;34m[\u001b[0m\u001b[0mhypervolume\u001b[0m\u001b[0;34m(\u001b[0m\u001b[0;34m-\u001b[0m\u001b[0mypredict_pareto_i\u001b[0m\u001b[0;34m[\u001b[0m\u001b[0mnp\u001b[0m\u001b[0;34m.\u001b[0m\u001b[0mall\u001b[0m\u001b[0;34m(\u001b[0m\u001b[0mypredict_pareto_i\u001b[0m \u001b[0;34m>=\u001b[0m \u001b[0;36m0\u001b[0m\u001b[0;34m,\u001b[0m \u001b[0maxis\u001b[0m\u001b[0;34m=\u001b[0m\u001b[0;36m1\u001b[0m\u001b[0;34m)\u001b[0m\u001b[0;34m]\u001b[0m\u001b[0;34m)\u001b[0m\u001b[0;34m.\u001b[0m\u001b[0mcompute\u001b[0m\u001b[0;34m(\u001b[0m\u001b[0mnp\u001b[0m\u001b[0;34m.\u001b[0m\u001b[0mzeros\u001b[0m\u001b[0;34m(\u001b[0m\u001b[0mypredict_pareto_i\u001b[0m\u001b[0;34m.\u001b[0m\u001b[0mshape\u001b[0m\u001b[0;34m[\u001b[0m\u001b[0;36m1\u001b[0m\u001b[0;34m]\u001b[0m\u001b[0;34m)\u001b[0m\u001b[0;34m)\u001b[0m \u001b[0;32mfor\u001b[0m \u001b[0mypredict_pareto_i\u001b[0m\u001b[0;34m,\u001b[0m\u001b[0m_\u001b[0m\u001b[0;34m,\u001b[0m\u001b[0m_\u001b[0m \u001b[0;32min\u001b[0m \u001b[0mpareto_models\u001b[0m\u001b[0;34m]\u001b[0m\u001b[0;34m\u001b[0m\u001b[0;34m\u001b[0m\u001b[0m\n\u001b[0m\u001b[1;32m    540\u001b[0m \u001b[0;34m\u001b[0m\u001b[0m\n\u001b[1;32m    541\u001b[0m             \u001b[0;31m# This is the actual hypervolume of the known data\u001b[0m\u001b[0;34m\u001b[0m\u001b[0;34m\u001b[0m\u001b[0;34m\u001b[0m\u001b[0m\n",
      "\u001b[0;32m/home/ubuntu/Spector-HLS/histogram/results/Sherlock/Sherlock_files/Sherlock.py\u001b[0m in \u001b[0;36m<listcomp>\u001b[0;34m(.0)\u001b[0m\n\u001b[1;32m    537\u001b[0m \u001b[0;34m\u001b[0m\u001b[0m\n\u001b[1;32m    538\u001b[0m             \u001b[0;31m# This is computed only to gather statistics\u001b[0m\u001b[0;34m\u001b[0m\u001b[0;34m\u001b[0m\u001b[0;34m\u001b[0m\u001b[0m\n\u001b[0;32m--> 539\u001b[0;31m             \u001b[0mhypervol_models\u001b[0m \u001b[0;34m=\u001b[0m \u001b[0;34m[\u001b[0m\u001b[0mhypervolume\u001b[0m\u001b[0;34m(\u001b[0m\u001b[0;34m-\u001b[0m\u001b[0mypredict_pareto_i\u001b[0m\u001b[0;34m[\u001b[0m\u001b[0mnp\u001b[0m\u001b[0;34m.\u001b[0m\u001b[0mall\u001b[0m\u001b[0;34m(\u001b[0m\u001b[0mypredict_pareto_i\u001b[0m \u001b[0;34m>=\u001b[0m \u001b[0;36m0\u001b[0m\u001b[0;34m,\u001b[0m \u001b[0maxis\u001b[0m\u001b[0;34m=\u001b[0m\u001b[0;36m1\u001b[0m\u001b[0;34m)\u001b[0m\u001b[0;34m]\u001b[0m\u001b[0;34m)\u001b[0m\u001b[0;34m.\u001b[0m\u001b[0mcompute\u001b[0m\u001b[0;34m(\u001b[0m\u001b[0mnp\u001b[0m\u001b[0;34m.\u001b[0m\u001b[0mzeros\u001b[0m\u001b[0;34m(\u001b[0m\u001b[0mypredict_pareto_i\u001b[0m\u001b[0;34m.\u001b[0m\u001b[0mshape\u001b[0m\u001b[0;34m[\u001b[0m\u001b[0;36m1\u001b[0m\u001b[0;34m]\u001b[0m\u001b[0;34m)\u001b[0m\u001b[0;34m)\u001b[0m \u001b[0;32mfor\u001b[0m \u001b[0mypredict_pareto_i\u001b[0m\u001b[0;34m,\u001b[0m\u001b[0m_\u001b[0m\u001b[0;34m,\u001b[0m\u001b[0m_\u001b[0m \u001b[0;32min\u001b[0m \u001b[0mpareto_models\u001b[0m\u001b[0;34m]\u001b[0m\u001b[0;34m\u001b[0m\u001b[0;34m\u001b[0m\u001b[0m\n\u001b[0m\u001b[1;32m    540\u001b[0m \u001b[0;34m\u001b[0m\u001b[0m\n\u001b[1;32m    541\u001b[0m             \u001b[0;31m# This is the actual hypervolume of the known data\u001b[0m\u001b[0;34m\u001b[0m\u001b[0;34m\u001b[0m\u001b[0;34m\u001b[0m\u001b[0m\n",
      "\u001b[0;31mValueError\u001b[0m: \nfunction: assert_minimisation\nwhere: /pagmo2/src/utils/hv_algos/hv_algorithm.cpp, 256\nwhat: Reference point is invalid: another point seems to be outside the reference point boundary, or be equal to it:\n P[0]\t= (-0.000000, -0.000000)\n R\t= (0.000000, 0.000000)\n\n"
     ]
    },
    {
     "data": {
      "image/png": "[encoded data removed]",
      "text/plain": [
       "<Figure size 432x288 with 1 Axes>"
      ]
     },
     "metadata": {},
     "output_type": "display_data"
    }
   ],
   "source": [
    "sherlock = Sherlock(\n",
    "    n_init=5,\n",
    "    budget=int(X.shape[0]*0.01),\n",
    "    surrogate_type=\"rbfthin_plate-rbf_multiquadric-randomforest-gpy\", #rbfthin_plate-rbf_multiquadric-randomforest-gpy\n",
    "    kernel=\"matern\",\n",
    "    num_restarts=0,\n",
    "    pareto_margin=0,\n",
    "    y_hint=None,\n",
    "    output_stats=\"\", #\"adrs,dcor,dcor_energy,entropy,pareto_score,next_action\",\n",
    "    plot_design_space=True,\n",
    "    use_ted_in_loop=False,\n",
    "    request_output=lambda y, idx: None,\n",
    "    action_only=None,\n",
    "    n_hint_init=0,\n",
    "    scale_output=True,\n",
    "    use_trace_as_prior=True,\n",
    "    model_selection_type=\"mab10\")\n",
    "\n",
    "sherlock.fit(X).predict(X,y)\n",
    "err.append(adrs(y, sherlock.known_idx, approximate=True))\n",
    "print(err)"
   ]
  },
  {
   "cell_type": "code",
   "execution_count": null,
   "metadata": {},
   "outputs": [],
   "source": [
    "sherlock = Sherlock(\n",
    "    n_init=5,\n",
    "    budget=int(X.shape[0]*0.02),\n",
    "    surrogate_type=\"rbfthin_plate-rbf_multiquadric-randomforest-gpy\", #rbfthin_plate-rbf_multiquadric-randomforest-gpy\n",
    "    kernel=\"matern\",\n",
    "    num_restarts=0,\n",
    "    pareto_margin=0,\n",
    "    y_hint=None,\n",
    "    output_stats=\"\", #\"adrs,dcor,dcor_energy,entropy,pareto_score,next_action\",\n",
    "    plot_design_space=True,\n",
    "    use_ted_in_loop=False,\n",
    "    request_output=lambda y, idx: None,\n",
    "    action_only=None,\n",
    "    n_hint_init=0,\n",
    "    scale_output=True,\n",
    "    use_trace_as_prior=True,\n",
    "    model_selection_type=\"mab10\")\n",
    "\n",
    "sherlock.fit(X).predict(X,y)\n",
    "err.append(adrs(y, sherlock.known_idx, approximate=True))\n",
    "print(err)"
   ]
  },
  {
   "cell_type": "code",
   "execution_count": null,
   "metadata": {},
   "outputs": [],
   "source": [
    "sherlock = Sherlock(\n",
    "    n_init=5,\n",
    "    budget=int(X.shape[0]*0.05),\n",
    "    surrogate_type=\"rbfthin_plate-rbf_multiquadric-randomforest-gpy\", #rbfthin_plate-rbf_multiquadric-randomforest-gpy\n",
    "    kernel=\"matern\",\n",
    "    num_restarts=0,\n",
    "    pareto_margin=0,\n",
    "    y_hint=None,\n",
    "    output_stats=\"\", #\"adrs,dcor,dcor_energy,entropy,pareto_score,next_action\",\n",
    "    plot_design_space=True,\n",
    "    use_ted_in_loop=False,\n",
    "    request_output=lambda y, idx: None,\n",
    "    action_only=None,\n",
    "    n_hint_init=0,\n",
    "    scale_output=True,\n",
    "    use_trace_as_prior=True,\n",
    "    model_selection_type=\"mab10\")\n",
    "\n",
    "sherlock.fit(X).predict(X,y)\n",
    "err.append(adrs(y, sherlock.known_idx, approximate=True))\n",
    "print(err)"
   ]
  },
  {
   "cell_type": "code",
   "execution_count": null,
   "metadata": {},
   "outputs": [],
   "source": [
    "sherlock = Sherlock(\n",
    "    n_init=5,\n",
    "    budget=int(X.shape[0]*0.1),\n",
    "    surrogate_type=\"rbfthin_plate-rbf_multiquadric-randomforest-gpy\", #rbfthin_plate-rbf_multiquadric-randomforest-gpy\n",
    "    kernel=\"matern\",\n",
    "    num_restarts=0,\n",
    "    pareto_margin=0,\n",
    "    y_hint=None,\n",
    "    output_stats=\"\", #\"adrs,dcor,dcor_energy,entropy,pareto_score,next_action\",\n",
    "    plot_design_space=True,\n",
    "    use_ted_in_loop=False,\n",
    "    request_output=lambda y, idx: None,\n",
    "    action_only=None,\n",
    "    n_hint_init=0,\n",
    "    scale_output=True,\n",
    "    use_trace_as_prior=True,\n",
    "    model_selection_type=\"mab10\")\n",
    "\n",
    "sherlock.fit(X).predict(X,y)\n",
    "err.append(adrs(y, sherlock.known_idx, approximate=True))\n",
    "print(err)"
   ]
  },
  {
   "cell_type": "code",
   "execution_count": null,
   "metadata": {},
   "outputs": [],
   "source": [
    "a=[1,2,5,10]\n",
    "plt.plot(a,err)\n",
    "plt.title(\"Catapult Area\")\n",
    "plt.xlabel(\"Percentage\")\n",
    "plt.ylabel(\"Error\")"
   ]
  },
  {
   "cell_type": "code",
   "execution_count": null,
   "metadata": {},
   "outputs": [],
   "source": []
  }
 ],
 "metadata": {
  "kernelspec": {
   "display_name": "Python 3",
   "language": "python",
   "name": "python3"
  },
  "language_info": {
   "codemirror_mode": {
    "name": "ipython",
    "version": 3
   },
   "file_extension": ".py",
   "mimetype": "text/x-python",
   "name": "python",
   "nbconvert_exporter": "python",
   "pygments_lexer": "ipython3",
   "version": "3.6.9"
  }
 },
 "nbformat": 4,
 "nbformat_minor": 1
}
