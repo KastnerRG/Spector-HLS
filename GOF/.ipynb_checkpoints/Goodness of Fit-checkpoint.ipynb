{
 "cells": [
  {
   "cell_type": "code",
   "execution_count": 26,
   "metadata": {},
   "outputs": [],
   "source": [
    "from prettytable import PrettyTable\n",
    "import pandas as pd"
   ]
  },
  {
   "cell_type": "code",
   "execution_count": 27,
   "metadata": {},
   "outputs": [],
   "source": [
    "values = pd.read_csv(\"gof.csv\")\n",
    "verdicts = pd.read_csv(\"results.csv\")\n",
    "Benchmark = values['Benchmark']\n",
    "Samples = values['Samples']\n",
    "Test = values['Test']\n",
    "Statistic = values['Statistic']\n",
    "P_value = values['P-Value']\n",
    "BMark = verdicts['Benchmark']\n",
    "Samp = verdicts['Samples']\n",
    "Verdict = verdicts['Verdict']\n",
    "Observation = values['Observation']\n"
   ]
  },
  {
   "cell_type": "code",
   "execution_count": 28,
   "metadata": {},
   "outputs": [
    {
     "data": {
      "text/plain": [
       "18425"
      ]
     },
     "execution_count": 28,
     "metadata": {},
     "output_type": "execute_result"
    }
   ],
   "source": [
    "x = PrettyTable()\n",
    "\n",
    "x.field_names = [\"Benchmark\", \"Samples\", \"Test\", \"Statistic\", \"P-value\", \"Observation\"]\n",
    "\n",
    "for i in range(0,len(values)):\n",
    "    x.add_row([Benchmark[i], Samples[i], Test[i], Statistic[i], P_value[i], Observation[i]])\n",
    "    \n",
    "file = open('Statistics.txt','w')\n",
    "file.write(str(x))"
   ]
  },
  {
   "cell_type": "code",
   "execution_count": 29,
   "metadata": {},
   "outputs": [
    {
     "data": {
      "text/plain": [
       "3827"
      ]
     },
     "execution_count": 29,
     "metadata": {},
     "output_type": "execute_result"
    }
   ],
   "source": [
    "y = PrettyTable()\n",
    "\n",
    "y.field_names = [\"Benchmark\", \"Samples\", \"Verdict\"]\n",
    "\n",
    "for i in range(0,len(verdicts)):\n",
    "    y.add_row([BMark[i], Samp[i], Verdict[i]])\n",
    "\n",
    "file1 = open('Results.txt','w')\n",
    "file1.write(str(y))"
   ]
  },
  {
   "cell_type": "code",
   "execution_count": null,
   "metadata": {},
   "outputs": [],
   "source": []
  }
 ],
 "metadata": {
  "kernelspec": {
   "display_name": "Python 3",
   "language": "python",
   "name": "python3"
  },
  "language_info": {
   "codemirror_mode": {
    "name": "ipython",
    "version": 3
   },
   "file_extension": ".py",
   "mimetype": "text/x-python",
   "name": "python",
   "nbconvert_exporter": "python",
   "pygments_lexer": "ipython3",
   "version": "3.6.9"
  }
 },
 "nbformat": 4,
 "nbformat_minor": 4
}
