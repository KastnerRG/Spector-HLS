{
 "cells": [
  {
   "cell_type": "code",
   "execution_count": 7,
   "metadata": {},
   "outputs": [],
   "source": [
    "from prettytable import PrettyTable\n",
    "import pandas as pd"
   ]
  },
  {
   "cell_type": "code",
   "execution_count": 8,
   "metadata": {},
   "outputs": [],
   "source": [
    "values = pd.read_csv(\"gof.csv\")\n",
    "verdicts = pd.read_csv(\"results.csv\")\n",
    "Benchmark = values['Benchmark']\n",
    "Samples = values['Samples']\n",
    "Test = values['Test']\n",
    "Statistic = values['Statistic']\n",
    "P_value = values['P-Value']\n",
    "BMark = verdicts['Benchmark']\n",
    "Samp = verdicts['Samples']\n",
    "Verdict = verdicts['Verdict']\n",
    "Observation = values['Observation']\n"
   ]
  },
  {
   "cell_type": "code",
   "execution_count": 9,
   "metadata": {},
   "outputs": [
    {
     "data": {
      "text/plain": [
       "18425"
      ]
     },
     "execution_count": 9,
     "metadata": {},
     "output_type": "execute_result"
    }
   ],
   "source": [
    "x = PrettyTable()\n",
    "\n",
    "x.field_names = [\"Benchmark\", \"Samples\", \"Test\", \"Statistic\", \"P-value\", \"Observation\"]\n",
    "\n",
    "for i in range(0,len(values)):\n",
    "    x.add_row([Benchmark[i], Samples[i], Test[i], Statistic[i], P_value[i], Observation[i]])\n",
    "    \n",
    "file = open('gof_table.txt','w')\n",
    "file.write(str(x))"
   ]
  },
  {
   "cell_type": "code",
   "execution_count": 10,
   "metadata": {},
   "outputs": [
    {
     "data": {
      "text/plain": [
       "3769"
      ]
     },
     "execution_count": 10,
     "metadata": {},
     "output_type": "execute_result"
    }
   ],
   "source": [
    "y = PrettyTable()\n",
    "\n",
    "y.field_names = [\"Benchmark\", \"Samples\", \"Verdict\"]\n",
    "\n",
    "for i in range(0,len(verdicts)):\n",
    "    y.add_row([Benchmark[i], Samples[i], Verdict[i]])\n",
    "    \n",
    "file = open('gof_results.txt','w')\n",
    "file.write(str(y))"
   ]
  },
  {
   "cell_type": "code",
   "execution_count": null,
   "metadata": {},
   "outputs": [],
   "source": []
  }
 ],
 "metadata": {
  "kernelspec": {
   "display_name": "Python 3",
   "language": "python",
   "name": "python3"
  }
 },
 "nbformat": 4,
 "nbformat_minor": 4
}
