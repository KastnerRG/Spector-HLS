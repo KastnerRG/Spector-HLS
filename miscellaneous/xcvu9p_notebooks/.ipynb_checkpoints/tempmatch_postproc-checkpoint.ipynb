{
 "cells": [
  {
   "cell_type": "code",
   "execution_count": 2,
   "metadata": {},
   "outputs": [],
   "source": [
    "import numpy as np\n",
    "import pandas as pd\n",
    "from matplotlib import pyplot as plt\n",
    "import matplotlib.patches as mpatches"
   ]
  },
  {
   "cell_type": "code",
   "execution_count": 24,
   "metadata": {},
   "outputs": [],
   "source": [
    "cdfx = pd.read_csv(\"./catapult_tempmatch_latency.csv\", index_col=0)\n",
    "vdfx = pd.read_csv(\"./vivado_tempmatch.csv\", index_col=0)\n",
    "cdfx['throughput'] = vdfx['obj1'].min()*1/cdfx['obj1']\n",
    "vdfx['throughput'] = vdfx['obj1'].min()*1/vdfx['obj1']\n",
    "cdfx['ff_inv'] = 1/cdfx['ff']\n",
    "vdfx['ff_inv'] = 1/vdfx['ff']\n",
    "cdfx['lut_inv'] = 1/cdfx['lut']\n",
    "vdfx['lut_inv'] = 1/vdfx['lut']\n",
    "cdfx['1/obj2'] = vdfx['obj2'].min()*1/cdfx['obj2']\n",
    "vdfx['1/obj2'] = vdfx['obj2'].min()*1/vdfx['obj2']\n",
    "cdfx['clbUtil'] = cdfx['obj2']/147780\n",
    "vdfx['clbUtil'] = vdfx['obj2']/147780\n",
    "#cdfx['mem_partition_size1'] = cdfx['knob_array_part1']\n",
    "#vdfx['mem_partition_size1'] = pd.to_numeric(512/(vdfx['knob_array_partition1']), downcast='integer')\n",
    "#cdfx['mem_partition_size2'] = cdfx['knob_array_part2']\n",
    "#vdfx['mem_partition_size2'] = pd.to_numeric(vdfx['knob_UNROLL_F']/(vdfx['knob_array_partition2']), downcast='integer')\n",
    "# dropping columns\n",
    "cdfx = cdfx.drop(columns=['knob_I_B'])\n",
    "cdfx = cdfx.drop(columns=['tmpsize'])\n",
    "cdfx = cdfx.drop(columns=['size'])\n",
    "#vdfx = vdfx.drop(columns=['knob_array_partition1'])\n",
    "#vdfx = vdfx.drop(columns=['knob_array_partition2'])"
   ]
  },
  {
   "cell_type": "code",
   "execution_count": 25,
   "metadata": {},
   "outputs": [
    {
     "name": "stdout",
     "output_type": "stream",
     "text": [
      "knob_tmpdim           9215\n",
      "knob_indim            9215\n",
      "knob_UNROLL_FACTOR    9215\n",
      "knob_UNROLL_LOOP1     9215\n",
      "knob_UNROLL_LOOP2     9215\n",
      "knob_UNROLL_LOOP3     9215\n",
      "knob_UNROLL_LOOP4     9215\n",
      "obj1                  9215\n",
      "obj2                  9215\n",
      "lut                   9215\n",
      "ff                    9215\n",
      "dsp                   9215\n",
      "bram                  9215\n",
      "throughput            9215\n",
      "ff_inv                9215\n",
      "lut_inv               9215\n",
      "1/obj2                9215\n",
      "clbUtil               9215\n",
      "dtype: int64\n"
     ]
    },
    {
     "data": {
      "text/html": [
       "<div>\n",
       "<style scoped>\n",
       "    .dataframe tbody tr th:only-of-type {\n",
       "        vertical-align: middle;\n",
       "    }\n",
       "\n",
       "    .dataframe tbody tr th {\n",
       "        vertical-align: top;\n",
       "    }\n",
       "\n",
       "    .dataframe thead th {\n",
       "        text-align: right;\n",
       "    }\n",
       "</style>\n",
       "<table border=\"1\" class=\"dataframe\">\n",
       "  <thead>\n",
       "    <tr style=\"text-align: right;\">\n",
       "      <th></th>\n",
       "      <th>knob_tmpdim</th>\n",
       "      <th>knob_indim</th>\n",
       "      <th>knob_UNROLL_FACTOR</th>\n",
       "      <th>knob_UNROLL_LOOP1</th>\n",
       "      <th>knob_UNROLL_LOOP2</th>\n",
       "      <th>knob_UNROLL_LOOP3</th>\n",
       "      <th>knob_UNROLL_LOOP4</th>\n",
       "      <th>obj1</th>\n",
       "      <th>obj2</th>\n",
       "      <th>lut</th>\n",
       "      <th>ff</th>\n",
       "      <th>dsp</th>\n",
       "      <th>bram</th>\n",
       "      <th>throughput</th>\n",
       "      <th>ff_inv</th>\n",
       "      <th>lut_inv</th>\n",
       "      <th>1/obj2</th>\n",
       "      <th>clbUtil</th>\n",
       "    </tr>\n",
       "    <tr>\n",
       "      <th>n</th>\n",
       "      <th></th>\n",
       "      <th></th>\n",
       "      <th></th>\n",
       "      <th></th>\n",
       "      <th></th>\n",
       "      <th></th>\n",
       "      <th></th>\n",
       "      <th></th>\n",
       "      <th></th>\n",
       "      <th></th>\n",
       "      <th></th>\n",
       "      <th></th>\n",
       "      <th></th>\n",
       "      <th></th>\n",
       "      <th></th>\n",
       "      <th></th>\n",
       "      <th></th>\n",
       "      <th></th>\n",
       "    </tr>\n",
       "  </thead>\n",
       "  <tbody>\n",
       "    <tr>\n",
       "      <th>0</th>\n",
       "      <td>5</td>\n",
       "      <td>100</td>\n",
       "      <td>1</td>\n",
       "      <td>1</td>\n",
       "      <td>1</td>\n",
       "      <td>1</td>\n",
       "      <td>1</td>\n",
       "      <td>1.8395</td>\n",
       "      <td>152</td>\n",
       "      <td>838</td>\n",
       "      <td>204</td>\n",
       "      <td>0</td>\n",
       "      <td>10</td>\n",
       "      <td>0.007067</td>\n",
       "      <td>0.004902</td>\n",
       "      <td>0.001193</td>\n",
       "      <td>0.631579</td>\n",
       "      <td>0.001029</td>\n",
       "    </tr>\n",
       "    <tr>\n",
       "      <th>1</th>\n",
       "      <td>5</td>\n",
       "      <td>100</td>\n",
       "      <td>1</td>\n",
       "      <td>1</td>\n",
       "      <td>1</td>\n",
       "      <td>1</td>\n",
       "      <td>2</td>\n",
       "      <td>1.5304</td>\n",
       "      <td>182</td>\n",
       "      <td>871</td>\n",
       "      <td>208</td>\n",
       "      <td>0</td>\n",
       "      <td>10</td>\n",
       "      <td>0.008495</td>\n",
       "      <td>0.004808</td>\n",
       "      <td>0.001148</td>\n",
       "      <td>0.527473</td>\n",
       "      <td>0.001232</td>\n",
       "    </tr>\n",
       "    <tr>\n",
       "      <th>2</th>\n",
       "      <td>5</td>\n",
       "      <td>100</td>\n",
       "      <td>1</td>\n",
       "      <td>1</td>\n",
       "      <td>1</td>\n",
       "      <td>1</td>\n",
       "      <td>3</td>\n",
       "      <td>1.7192</td>\n",
       "      <td>173</td>\n",
       "      <td>895</td>\n",
       "      <td>212</td>\n",
       "      <td>0</td>\n",
       "      <td>10</td>\n",
       "      <td>0.007562</td>\n",
       "      <td>0.004717</td>\n",
       "      <td>0.001117</td>\n",
       "      <td>0.554913</td>\n",
       "      <td>0.001171</td>\n",
       "    </tr>\n",
       "    <tr>\n",
       "      <th>3</th>\n",
       "      <td>5</td>\n",
       "      <td>100</td>\n",
       "      <td>1</td>\n",
       "      <td>1</td>\n",
       "      <td>1</td>\n",
       "      <td>1</td>\n",
       "      <td>4</td>\n",
       "      <td>2.0371</td>\n",
       "      <td>188</td>\n",
       "      <td>851</td>\n",
       "      <td>213</td>\n",
       "      <td>0</td>\n",
       "      <td>10</td>\n",
       "      <td>0.006382</td>\n",
       "      <td>0.004695</td>\n",
       "      <td>0.001175</td>\n",
       "      <td>0.510638</td>\n",
       "      <td>0.001272</td>\n",
       "    </tr>\n",
       "    <tr>\n",
       "      <th>4</th>\n",
       "      <td>5</td>\n",
       "      <td>100</td>\n",
       "      <td>1</td>\n",
       "      <td>1</td>\n",
       "      <td>1</td>\n",
       "      <td>2</td>\n",
       "      <td>1</td>\n",
       "      <td>1.6981</td>\n",
       "      <td>158</td>\n",
       "      <td>860</td>\n",
       "      <td>190</td>\n",
       "      <td>0</td>\n",
       "      <td>10</td>\n",
       "      <td>0.007656</td>\n",
       "      <td>0.005263</td>\n",
       "      <td>0.001163</td>\n",
       "      <td>0.607595</td>\n",
       "      <td>0.001069</td>\n",
       "    </tr>\n",
       "  </tbody>\n",
       "</table>\n",
       "</div>"
      ],
      "text/plain": [
       "   knob_tmpdim  knob_indim  knob_UNROLL_FACTOR  knob_UNROLL_LOOP1  \\\n",
       "n                                                                   \n",
       "0            5         100                   1                  1   \n",
       "1            5         100                   1                  1   \n",
       "2            5         100                   1                  1   \n",
       "3            5         100                   1                  1   \n",
       "4            5         100                   1                  1   \n",
       "\n",
       "   knob_UNROLL_LOOP2  knob_UNROLL_LOOP3  knob_UNROLL_LOOP4    obj1  obj2  lut  \\\n",
       "n                                                                               \n",
       "0                  1                  1                  1  1.8395   152  838   \n",
       "1                  1                  1                  2  1.5304   182  871   \n",
       "2                  1                  1                  3  1.7192   173  895   \n",
       "3                  1                  1                  4  2.0371   188  851   \n",
       "4                  1                  2                  1  1.6981   158  860   \n",
       "\n",
       "    ff  dsp  bram  throughput    ff_inv   lut_inv    1/obj2   clbUtil  \n",
       "n                                                                      \n",
       "0  204    0    10    0.007067  0.004902  0.001193  0.631579  0.001029  \n",
       "1  208    0    10    0.008495  0.004808  0.001148  0.527473  0.001232  \n",
       "2  212    0    10    0.007562  0.004717  0.001117  0.554913  0.001171  \n",
       "3  213    0    10    0.006382  0.004695  0.001175  0.510638  0.001272  \n",
       "4  190    0    10    0.007656  0.005263  0.001163  0.607595  0.001069  "
      ]
     },
     "execution_count": 25,
     "metadata": {},
     "output_type": "execute_result"
    }
   ],
   "source": [
    "print(cdfx.count())\n",
    "cdfx.head()"
   ]
  },
  {
   "cell_type": "code",
   "execution_count": 26,
   "metadata": {},
   "outputs": [
    {
     "name": "stdout",
     "output_type": "stream",
     "text": [
      "knob_tmpdim           6282\n",
      "knob_indim            6282\n",
      "knob_UNROLL_FACTOR    6282\n",
      "knob_UNROLL_LOOP1     6282\n",
      "knob_UNROLL_LOOP2     6282\n",
      "knob_UNROLL_LOOP3     6282\n",
      "knob_UNROLL_LOOP4     6282\n",
      "obj1                  6282\n",
      "obj2                  6282\n",
      "lut                   6282\n",
      "ff                    6282\n",
      "dsp                   6282\n",
      "bram                  6282\n",
      "throughput            6282\n",
      "ff_inv                6282\n",
      "lut_inv               6282\n",
      "1/obj2                6282\n",
      "clbUtil               6282\n",
      "dtype: int64\n"
     ]
    },
    {
     "data": {
      "text/html": [
       "<div>\n",
       "<style scoped>\n",
       "    .dataframe tbody tr th:only-of-type {\n",
       "        vertical-align: middle;\n",
       "    }\n",
       "\n",
       "    .dataframe tbody tr th {\n",
       "        vertical-align: top;\n",
       "    }\n",
       "\n",
       "    .dataframe thead th {\n",
       "        text-align: right;\n",
       "    }\n",
       "</style>\n",
       "<table border=\"1\" class=\"dataframe\">\n",
       "  <thead>\n",
       "    <tr style=\"text-align: right;\">\n",
       "      <th></th>\n",
       "      <th>knob_tmpdim</th>\n",
       "      <th>knob_indim</th>\n",
       "      <th>knob_UNROLL_FACTOR</th>\n",
       "      <th>knob_UNROLL_LOOP1</th>\n",
       "      <th>knob_UNROLL_LOOP2</th>\n",
       "      <th>knob_UNROLL_LOOP3</th>\n",
       "      <th>knob_UNROLL_LOOP4</th>\n",
       "      <th>obj1</th>\n",
       "      <th>obj2</th>\n",
       "      <th>lut</th>\n",
       "      <th>ff</th>\n",
       "      <th>dsp</th>\n",
       "      <th>bram</th>\n",
       "      <th>throughput</th>\n",
       "      <th>ff_inv</th>\n",
       "      <th>lut_inv</th>\n",
       "      <th>1/obj2</th>\n",
       "      <th>clbUtil</th>\n",
       "    </tr>\n",
       "    <tr>\n",
       "      <th>n</th>\n",
       "      <th></th>\n",
       "      <th></th>\n",
       "      <th></th>\n",
       "      <th></th>\n",
       "      <th></th>\n",
       "      <th></th>\n",
       "      <th></th>\n",
       "      <th></th>\n",
       "      <th></th>\n",
       "      <th></th>\n",
       "      <th></th>\n",
       "      <th></th>\n",
       "      <th></th>\n",
       "      <th></th>\n",
       "      <th></th>\n",
       "      <th></th>\n",
       "      <th></th>\n",
       "      <th></th>\n",
       "    </tr>\n",
       "  </thead>\n",
       "  <tbody>\n",
       "    <tr>\n",
       "      <th>0</th>\n",
       "      <td>5</td>\n",
       "      <td>100</td>\n",
       "      <td>1</td>\n",
       "      <td>1</td>\n",
       "      <td>1</td>\n",
       "      <td>1</td>\n",
       "      <td>1</td>\n",
       "      <td>0.016</td>\n",
       "      <td>96</td>\n",
       "      <td>366</td>\n",
       "      <td>498</td>\n",
       "      <td>0</td>\n",
       "      <td>1</td>\n",
       "      <td>0.812500</td>\n",
       "      <td>0.002008</td>\n",
       "      <td>0.002732</td>\n",
       "      <td>1.000000</td>\n",
       "      <td>0.000650</td>\n",
       "    </tr>\n",
       "    <tr>\n",
       "      <th>1</th>\n",
       "      <td>5</td>\n",
       "      <td>100</td>\n",
       "      <td>1</td>\n",
       "      <td>1</td>\n",
       "      <td>1</td>\n",
       "      <td>1</td>\n",
       "      <td>2</td>\n",
       "      <td>0.016</td>\n",
       "      <td>102</td>\n",
       "      <td>389</td>\n",
       "      <td>508</td>\n",
       "      <td>0</td>\n",
       "      <td>1</td>\n",
       "      <td>0.812500</td>\n",
       "      <td>0.001969</td>\n",
       "      <td>0.002571</td>\n",
       "      <td>0.941176</td>\n",
       "      <td>0.000690</td>\n",
       "    </tr>\n",
       "    <tr>\n",
       "      <th>2</th>\n",
       "      <td>5</td>\n",
       "      <td>100</td>\n",
       "      <td>1</td>\n",
       "      <td>1</td>\n",
       "      <td>1</td>\n",
       "      <td>1</td>\n",
       "      <td>3</td>\n",
       "      <td>0.024</td>\n",
       "      <td>123</td>\n",
       "      <td>451</td>\n",
       "      <td>618</td>\n",
       "      <td>4</td>\n",
       "      <td>1</td>\n",
       "      <td>0.541667</td>\n",
       "      <td>0.001618</td>\n",
       "      <td>0.002217</td>\n",
       "      <td>0.780488</td>\n",
       "      <td>0.000832</td>\n",
       "    </tr>\n",
       "    <tr>\n",
       "      <th>3</th>\n",
       "      <td>5</td>\n",
       "      <td>100</td>\n",
       "      <td>1</td>\n",
       "      <td>1</td>\n",
       "      <td>1</td>\n",
       "      <td>1</td>\n",
       "      <td>4</td>\n",
       "      <td>0.017</td>\n",
       "      <td>109</td>\n",
       "      <td>434</td>\n",
       "      <td>517</td>\n",
       "      <td>0</td>\n",
       "      <td>1</td>\n",
       "      <td>0.764706</td>\n",
       "      <td>0.001934</td>\n",
       "      <td>0.002304</td>\n",
       "      <td>0.880734</td>\n",
       "      <td>0.000738</td>\n",
       "    </tr>\n",
       "    <tr>\n",
       "      <th>4</th>\n",
       "      <td>5</td>\n",
       "      <td>100</td>\n",
       "      <td>1</td>\n",
       "      <td>1</td>\n",
       "      <td>1</td>\n",
       "      <td>2</td>\n",
       "      <td>1</td>\n",
       "      <td>0.017</td>\n",
       "      <td>120</td>\n",
       "      <td>495</td>\n",
       "      <td>560</td>\n",
       "      <td>0</td>\n",
       "      <td>1</td>\n",
       "      <td>0.764706</td>\n",
       "      <td>0.001786</td>\n",
       "      <td>0.002020</td>\n",
       "      <td>0.800000</td>\n",
       "      <td>0.000812</td>\n",
       "    </tr>\n",
       "  </tbody>\n",
       "</table>\n",
       "</div>"
      ],
      "text/plain": [
       "   knob_tmpdim  knob_indim  knob_UNROLL_FACTOR  knob_UNROLL_LOOP1  \\\n",
       "n                                                                   \n",
       "0            5         100                   1                  1   \n",
       "1            5         100                   1                  1   \n",
       "2            5         100                   1                  1   \n",
       "3            5         100                   1                  1   \n",
       "4            5         100                   1                  1   \n",
       "\n",
       "   knob_UNROLL_LOOP2  knob_UNROLL_LOOP3  knob_UNROLL_LOOP4   obj1  obj2  lut  \\\n",
       "n                                                                              \n",
       "0                  1                  1                  1  0.016    96  366   \n",
       "1                  1                  1                  2  0.016   102  389   \n",
       "2                  1                  1                  3  0.024   123  451   \n",
       "3                  1                  1                  4  0.017   109  434   \n",
       "4                  1                  2                  1  0.017   120  495   \n",
       "\n",
       "    ff  dsp  bram  throughput    ff_inv   lut_inv    1/obj2   clbUtil  \n",
       "n                                                                      \n",
       "0  498    0     1    0.812500  0.002008  0.002732  1.000000  0.000650  \n",
       "1  508    0     1    0.812500  0.001969  0.002571  0.941176  0.000690  \n",
       "2  618    4     1    0.541667  0.001618  0.002217  0.780488  0.000832  \n",
       "3  517    0     1    0.764706  0.001934  0.002304  0.880734  0.000738  \n",
       "4  560    0     1    0.764706  0.001786  0.002020  0.800000  0.000812  "
      ]
     },
     "execution_count": 26,
     "metadata": {},
     "output_type": "execute_result"
    }
   ],
   "source": [
    "print(vdfx.count())\n",
    "vdfx.head()"
   ]
  },
  {
   "cell_type": "code",
   "execution_count": 27,
   "metadata": {},
   "outputs": [],
   "source": [
    "cmn_col = np.intersect1d(cdfx.columns, vdfx.columns)"
   ]
  },
  {
   "cell_type": "code",
   "execution_count": 28,
   "metadata": {},
   "outputs": [
    {
     "data": {
      "text/plain": [
       "Text(0, 0.5, 'CLB Resources (Normalized 1/CLB)')"
      ]
     },
     "execution_count": 28,
     "metadata": {},
     "output_type": "execute_result"
    },
    {
     "data": {
      "image/png": "[encoded data removed]",
      "text/plain": [
       "<Figure size 432x288 with 1 Axes>"
      ]
     },
     "metadata": {
      "needs_background": "light"
     },
     "output_type": "display_data"
    }
   ],
   "source": [
    "ax1 = vdfx.plot(x='throughput', y='1/obj2', kind='scatter', c='r')\n",
    "ax = cdfx.plot(x='throughput', y='1/obj2', kind='scatter', c='g', ax=ax1)\n",
    "#ax1.set_ylim(0,0.016)\n",
    "\n",
    "red_data = mpatches.Patch(color='red', label='Vivado Results')\n",
    "green_data = mpatches.Patch(color='green', label='Catapult Results')\n",
    "plt.legend(handles=[red_data, green_data])\n",
    "plt.xlabel('Throughput (Normalized 1/obj1)')\n",
    "plt.ylabel('CLB Resources (Normalized 1/CLB)')"
   ]
  },
  {
   "cell_type": "code",
   "execution_count": 29,
   "metadata": {},
   "outputs": [
    {
     "data": {
      "text/plain": [
       "Text(0, 0.5, 'Normalized 1/CLB (1/obj2)')"
      ]
     },
     "execution_count": 29,
     "metadata": {},
     "output_type": "execute_result"
    },
    {
     "data": {
      "image/png": "[encoded data removed]",
      "text/plain": [
       "<Figure size 432x288 with 1 Axes>"
      ]
     },
     "metadata": {
      "needs_background": "light"
     },
     "output_type": "display_data"
    },
    {
     "data": {
      "image/png": "[encoded data removed]",
      "text/plain": [
       "<Figure size 432x288 with 1 Axes>"
      ]
     },
     "metadata": {
      "needs_background": "light"
     },
     "output_type": "display_data"
    }
   ],
   "source": [
    "ax1 = vdfx.plot(y='1/obj2', x='throughput', kind='scatter', c='r')\n",
    "plt.xlabel('Normalized Throughput (1/obj1)')\n",
    "plt.ylabel('Normalized 1/CLB (1/obj2)')\n",
    "ax = cdfx.plot(y='1/obj2', x='throughput', kind='scatter', c='g')\n",
    "#ax1.set_ylim(0,0.001)\n",
    "#ax1.set_xlim(0,1)\n",
    "#ax.set_ylim(0.2, 0.6)\n",
    "#ax.set_xlim(0,0.0000004)\n",
    "#red_data = mpatches.Patch(color='green', label='Vivado Results')\n",
    "#green_data = mpatches.Patch(color='red', label='Catapult Results')\n",
    "#plt.legend(handles=[red_data, green_data])\n",
    "plt.xlabel('Normalized Throughput (1/obj1)')\n",
    "plt.ylabel('Normalized 1/CLB (1/obj2)')"
   ]
  },
  {
   "cell_type": "code",
   "execution_count": 30,
   "metadata": {},
   "outputs": [
    {
     "name": "stdout",
     "output_type": "stream",
     "text": [
      "~~~~~~~~~~~ Catapult Averages ~~~~~~~~~~~~\n",
      "\n",
      "knob_tmpdim            11.665762\n",
      "knob_indim            233.347802\n",
      "knob_UNROLL_FACTOR      2.499837\n",
      "knob_UNROLL_LOOP1       2.500163\n",
      "knob_UNROLL_LOOP2       2.499837\n",
      "knob_UNROLL_LOOP3       2.500054\n",
      "knob_UNROLL_LOOP4       2.499946\n",
      "obj1                    1.441456\n",
      "obj2                  179.540315\n",
      "lut                   993.238416\n",
      "ff                    233.331308\n",
      "dsp                     0.000000\n",
      "bram                    6.000326\n",
      "throughput              0.011327\n",
      "ff_inv                  0.004397\n",
      "lut_inv                 0.001096\n",
      "1/obj2                  0.577578\n",
      "clbUtil                 0.001215\n",
      "dtype: float64\n",
      "~~~~~~~~~~~~~~~~~~~~~~~~~~~~~~~~~~~~~~~~~~\n",
      "\n",
      "~~~~~~~~~~~ Vivado Averages ~~~~~~~~~~~~\n",
      "\n",
      "knob_tmpdim              8.723337\n",
      "knob_indim             233.476600\n",
      "knob_UNROLL_FACTOR       2.357211\n",
      "knob_UNROLL_LOOP1        2.280643\n",
      "knob_UNROLL_LOOP2        2.494429\n",
      "knob_UNROLL_LOOP3        2.455428\n",
      "knob_UNROLL_LOOP4        2.497771\n",
      "obj1                     1.318210\n",
      "obj2                   758.902420\n",
      "lut                   3757.729067\n",
      "ff                    2231.891913\n",
      "dsp                      9.034225\n",
      "bram                     1.287647\n",
      "throughput               0.129193\n",
      "ff_inv                   0.000610\n",
      "lut_inv                  0.000523\n",
      "1/obj2                   0.224767\n",
      "clbUtil                  0.005135\n",
      "dtype: float64\n",
      "~~~~~~~~~~~~~~~~~~~~~~~~~~~~~~~~~~~~~~~~~~\n"
     ]
    }
   ],
   "source": [
    "print(\"~~~~~~~~~~~ Catapult Averages ~~~~~~~~~~~~\\n\")\n",
    "print(cdfx.mean())\n",
    "print(\"~~~~~~~~~~~~~~~~~~~~~~~~~~~~~~~~~~~~~~~~~~\")\n",
    "print(\"\\n~~~~~~~~~~~ Vivado Averages ~~~~~~~~~~~~\\n\")\n",
    "print(vdfx.mean())\n",
    "print(\"~~~~~~~~~~~~~~~~~~~~~~~~~~~~~~~~~~~~~~~~~~\")"
   ]
  },
  {
   "cell_type": "code",
   "execution_count": 11,
   "metadata": {},
   "outputs": [
    {
     "ename": "KeyError",
     "evalue": "'knob_UNROLL_F'",
     "output_type": "error",
     "traceback": [
      "\u001b[0;31m---------------------------------------------------------------------------\u001b[0m",
      "\u001b[0;31mKeyError\u001b[0m                                  Traceback (most recent call last)",
      "\u001b[0;32m<ipython-input-11-a038f080ef95>\u001b[0m in \u001b[0;36m<module>\u001b[0;34m\u001b[0m\n\u001b[1;32m      3\u001b[0m cv_df = pd.merge(cdfx, vdfx, on=['knob_UNROLL_F','mem_partition_size1', \n\u001b[1;32m      4\u001b[0m                                           \u001b[0;34m'mem_partition_size2'\u001b[0m\u001b[0;34m,\u001b[0m \u001b[0;34m'knob_outer_unroll'\u001b[0m\u001b[0;34m,\u001b[0m\u001b[0;34m\u001b[0m\u001b[0;34m\u001b[0m\u001b[0m\n\u001b[0;32m----> 5\u001b[0;31m                                           'knob_inner_unroll1', 'knob_inner_unroll2'], how='inner')\n\u001b[0m\u001b[1;32m      6\u001b[0m \u001b[0mcv_df\u001b[0m\u001b[0;34m.\u001b[0m\u001b[0mcount\u001b[0m\u001b[0;34m(\u001b[0m\u001b[0;34m)\u001b[0m\u001b[0;34m\u001b[0m\u001b[0;34m\u001b[0m\u001b[0m\n",
      "\u001b[0;32m~/anaconda3/lib/python3.7/site-packages/pandas/core/reshape/merge.py\u001b[0m in \u001b[0;36mmerge\u001b[0;34m(left, right, how, on, left_on, right_on, left_index, right_index, sort, suffixes, copy, indicator, validate)\u001b[0m\n\u001b[1;32m     45\u001b[0m                          \u001b[0mright_index\u001b[0m\u001b[0;34m=\u001b[0m\u001b[0mright_index\u001b[0m\u001b[0;34m,\u001b[0m \u001b[0msort\u001b[0m\u001b[0;34m=\u001b[0m\u001b[0msort\u001b[0m\u001b[0;34m,\u001b[0m \u001b[0msuffixes\u001b[0m\u001b[0;34m=\u001b[0m\u001b[0msuffixes\u001b[0m\u001b[0;34m,\u001b[0m\u001b[0;34m\u001b[0m\u001b[0;34m\u001b[0m\u001b[0m\n\u001b[1;32m     46\u001b[0m                          \u001b[0mcopy\u001b[0m\u001b[0;34m=\u001b[0m\u001b[0mcopy\u001b[0m\u001b[0;34m,\u001b[0m \u001b[0mindicator\u001b[0m\u001b[0;34m=\u001b[0m\u001b[0mindicator\u001b[0m\u001b[0;34m,\u001b[0m\u001b[0;34m\u001b[0m\u001b[0;34m\u001b[0m\u001b[0m\n\u001b[0;32m---> 47\u001b[0;31m                          validate=validate)\n\u001b[0m\u001b[1;32m     48\u001b[0m     \u001b[0;32mreturn\u001b[0m \u001b[0mop\u001b[0m\u001b[0;34m.\u001b[0m\u001b[0mget_result\u001b[0m\u001b[0;34m(\u001b[0m\u001b[0;34m)\u001b[0m\u001b[0;34m\u001b[0m\u001b[0;34m\u001b[0m\u001b[0m\n\u001b[1;32m     49\u001b[0m \u001b[0;34m\u001b[0m\u001b[0m\n",
      "\u001b[0;32m~/anaconda3/lib/python3.7/site-packages/pandas/core/reshape/merge.py\u001b[0m in \u001b[0;36m__init__\u001b[0;34m(self, left, right, how, on, left_on, right_on, axis, left_index, right_index, sort, suffixes, copy, indicator, validate)\u001b[0m\n\u001b[1;32m    527\u001b[0m         (self.left_join_keys,\n\u001b[1;32m    528\u001b[0m          \u001b[0mself\u001b[0m\u001b[0;34m.\u001b[0m\u001b[0mright_join_keys\u001b[0m\u001b[0;34m,\u001b[0m\u001b[0;34m\u001b[0m\u001b[0;34m\u001b[0m\u001b[0m\n\u001b[0;32m--> 529\u001b[0;31m          self.join_names) = self._get_merge_keys()\n\u001b[0m\u001b[1;32m    530\u001b[0m \u001b[0;34m\u001b[0m\u001b[0m\n\u001b[1;32m    531\u001b[0m         \u001b[0;31m# validate the merge keys dtypes. We may need to coerce\u001b[0m\u001b[0;34m\u001b[0m\u001b[0;34m\u001b[0m\u001b[0;34m\u001b[0m\u001b[0m\n",
      "\u001b[0;32m~/anaconda3/lib/python3.7/site-packages/pandas/core/reshape/merge.py\u001b[0m in \u001b[0;36m_get_merge_keys\u001b[0;34m(self)\u001b[0m\n\u001b[1;32m    831\u001b[0m                         \u001b[0;32mif\u001b[0m \u001b[0mrk\u001b[0m \u001b[0;32mis\u001b[0m \u001b[0;32mnot\u001b[0m \u001b[0;32mNone\u001b[0m\u001b[0;34m:\u001b[0m\u001b[0;34m\u001b[0m\u001b[0;34m\u001b[0m\u001b[0m\n\u001b[1;32m    832\u001b[0m                             right_keys.append(\n\u001b[0;32m--> 833\u001b[0;31m                                 right._get_label_or_level_values(rk))\n\u001b[0m\u001b[1;32m    834\u001b[0m                         \u001b[0;32melse\u001b[0m\u001b[0;34m:\u001b[0m\u001b[0;34m\u001b[0m\u001b[0;34m\u001b[0m\u001b[0m\n\u001b[1;32m    835\u001b[0m                             \u001b[0;31m# work-around for merge_asof(right_index=True)\u001b[0m\u001b[0;34m\u001b[0m\u001b[0;34m\u001b[0m\u001b[0;34m\u001b[0m\u001b[0m\n",
      "\u001b[0;32m~/anaconda3/lib/python3.7/site-packages/pandas/core/generic.py\u001b[0m in \u001b[0;36m_get_label_or_level_values\u001b[0;34m(self, key, axis)\u001b[0m\n\u001b[1;32m   1704\u001b[0m             \u001b[0mvalues\u001b[0m \u001b[0;34m=\u001b[0m \u001b[0mself\u001b[0m\u001b[0;34m.\u001b[0m\u001b[0maxes\u001b[0m\u001b[0;34m[\u001b[0m\u001b[0maxis\u001b[0m\u001b[0;34m]\u001b[0m\u001b[0;34m.\u001b[0m\u001b[0mget_level_values\u001b[0m\u001b[0;34m(\u001b[0m\u001b[0mkey\u001b[0m\u001b[0;34m)\u001b[0m\u001b[0;34m.\u001b[0m\u001b[0m_values\u001b[0m\u001b[0;34m\u001b[0m\u001b[0;34m\u001b[0m\u001b[0m\n\u001b[1;32m   1705\u001b[0m         \u001b[0;32melse\u001b[0m\u001b[0;34m:\u001b[0m\u001b[0;34m\u001b[0m\u001b[0;34m\u001b[0m\u001b[0m\n\u001b[0;32m-> 1706\u001b[0;31m             \u001b[0;32mraise\u001b[0m \u001b[0mKeyError\u001b[0m\u001b[0;34m(\u001b[0m\u001b[0mkey\u001b[0m\u001b[0;34m)\u001b[0m\u001b[0;34m\u001b[0m\u001b[0;34m\u001b[0m\u001b[0m\n\u001b[0m\u001b[1;32m   1707\u001b[0m \u001b[0;34m\u001b[0m\u001b[0m\n\u001b[1;32m   1708\u001b[0m         \u001b[0;31m# Check for duplicates\u001b[0m\u001b[0;34m\u001b[0m\u001b[0;34m\u001b[0m\u001b[0;34m\u001b[0m\u001b[0m\n",
      "\u001b[0;31mKeyError\u001b[0m: 'knob_UNROLL_F'"
     ]
    }
   ],
   "source": [
    "cdfx = cdfx.reset_index(drop=True)\n",
    "vdfx = vdfx.reset_index(drop=True)\n",
    "knob_tmpdim\n",
    "knob_indim        \n",
    "knob_UNROLL_FACTOR\n",
    "knob_UNROLL_LOOP1 \n",
    "knob_UNROLL_LOOP2 \n",
    "knob_UNROLL_LOOP3 \n",
    "knob_UNROLL_LOOP4 \n",
    "cv_df = pd.merge(cdfx, vdfx, \n",
    "                 on=\n",
    "                 [\n",
    "                    'knob_tmpdim',\n",
    "                    'knob_indim',        \n",
    "                    'knob_UNROLL_FACTOR',\n",
    "                    'knob_UNROLL_LOOP1', \n",
    "                    'knob_UNROLL_LOOP2', \n",
    "                    'knob_UNROLL_LOOP3', \n",
    "                    'knob_UNROLL_LOOP4' \n",
    "                 ], how='inner')\n",
    "cv_df.count()"
   ]
  },
  {
   "cell_type": "code",
   "execution_count": 10,
   "metadata": {},
   "outputs": [
    {
     "data": {
      "text/plain": [
       "(0, 1)"
      ]
     },
     "execution_count": 10,
     "metadata": {},
     "output_type": "execute_result"
    },
    {
     "data": {
      "image/png": "[encoded data removed]",
      "text/plain": [
       "<Figure size 432x288 with 1 Axes>"
      ]
     },
     "metadata": {
      "needs_background": "light"
     },
     "output_type": "display_data"
    }
   ],
   "source": [
    "df_sample = cv_df.sample(10)\n",
    "plt.scatter(y=df_sample['1/obj2_x'], x=df_sample.throughput_x, c='g')\n",
    "plt.scatter(y=df_sample['1/obj2_y'], x=df_sample.throughput_y, c='r')\n",
    "linex = []\n",
    "for index, row in df_sample.iterrows():\n",
    "    plt.plot([row['throughput_x'], row['throughput_y']], [row['1/obj2_x'], row['1/obj2_y']],'b:',linewidth=0.7)\n",
    "\n",
    "red_data = mpatches.Patch(color='green', label='Catapult Results')\n",
    "green_data = mpatches.Patch(color='red', label='Vivado Results')\n",
    "plt.legend(handles=[red_data, green_data])\n",
    "plt.xlabel('Normalized Throughput (1/obj1)')\n",
    "plt.ylabel('Normalized 1/CLB (1/obj2)')\n",
    "plt.ylim(0, 1)\n",
    "plt.xlim(0, 1)"
   ]
  },
  {
   "cell_type": "code",
   "execution_count": 11,
   "metadata": {},
   "outputs": [
    {
     "data": {
      "text/plain": [
       "(0, 0.003)"
      ]
     },
     "execution_count": 11,
     "metadata": {},
     "output_type": "execute_result"
    },
    {
     "data": {
      "image/png": "[encoded data removed]",
      "text/plain": [
       "<Figure size 432x288 with 1 Axes>"
      ]
     },
     "metadata": {
      "needs_background": "light"
     },
     "output_type": "display_data"
    }
   ],
   "source": [
    "df_sample = cv_df.sample(10)\n",
    "plt.scatter(y=df_sample.lut_inv_x, x=df_sample.throughput_x, c='g')\n",
    "plt.scatter(y=df_sample.lut_inv_y, x=df_sample.throughput_y, c='r')\n",
    "linex = []\n",
    "for index, row in df_sample.iterrows():\n",
    "    plt.plot([row['throughput_x'], row['throughput_y']], [row['lut_inv_x'], row['lut_inv_y']],'b:',linewidth=0.3)\n",
    "\n",
    "red_data = mpatches.Patch(color='green', label='Catapult Results')\n",
    "green_data = mpatches.Patch(color='red', label='Vivado Results')\n",
    "plt.legend(handles=[red_data, green_data])\n",
    "plt.xlabel('Normalized Throughput')\n",
    "plt.ylabel('FF Resource Utilization (1/FF)')\n",
    "plt.ylim(0, 0.003)"
   ]
  },
  {
   "cell_type": "code",
   "execution_count": null,
   "metadata": {},
   "outputs": [],
   "source": [
    "df_sample = cv_df.sample(30)"
   ]
  }
 ],
 "metadata": {
  "kernelspec": {
   "display_name": "Python 3",
   "language": "python",
   "name": "python3"
  },
  "language_info": {
   "codemirror_mode": {
    "name": "ipython",
    "version": 3
   },
   "file_extension": ".py",
   "mimetype": "text/x-python",
   "name": "python",
   "nbconvert_exporter": "python",
   "pygments_lexer": "ipython3",
   "version": "3.7.3"
  }
 },
 "nbformat": 4,
 "nbformat_minor": 2
}
