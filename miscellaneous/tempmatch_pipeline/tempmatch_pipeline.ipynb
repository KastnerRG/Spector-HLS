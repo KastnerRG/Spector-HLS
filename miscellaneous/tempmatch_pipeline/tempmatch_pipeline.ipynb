{
 "cells": [
  {
   "cell_type": "code",
   "execution_count": 1,
   "metadata": {},
   "outputs": [],
   "source": [
    "\n",
    "import numpy as np\n",
    "import pandas as pd\n",
    "from matplotlib import pyplot as plt\n",
    "import matplotlib.patches as mpatches\n",
    "import sys\n",
    "import seaborn as sns\n",
    "from operator import itemgetter\n",
    "import math"
   ]
  },
  {
   "cell_type": "code",
   "execution_count": 2,
   "metadata": {},
   "outputs": [],
   "source": [
    "\n",
    "sys.path.append('./pareto_files')\n",
    "from utils import adrs, read_design_space, approximate_pareto"
   ]
  },
  {
   "cell_type": "code",
   "execution_count": 3,
   "metadata": {},
   "outputs": [],
   "source": [
    "X1, y1, _, names1, _ = read_design_space('tempmatch_pipeline.csv',\n",
    "                                      use_hint=False, random_factor=0.0, hint_random_factor=0.0,\n",
    "                                      return_names=True)"
   ]
  },
  {
   "cell_type": "code",
   "execution_count": 6,
   "metadata": {},
   "outputs": [
    {
     "data": {
      "image/png": "[encoded data removed]",
      "text/plain": [
       "<Figure size 432x288 with 1 Axes>"
      ]
     },
     "metadata": {
      "needs_background": "light"
     },
     "output_type": "display_data"
    }
   ],
   "source": [
    "y_pareto1 = approximate_pareto(y1)[0]\n",
    "y_pareto1_index = approximate_pareto(y1)[1]\n",
    "plt.scatter(y1[:,0], y1[:,1],label='Designs')\n",
    "plt.legend()\n",
    "plt.scatter(y_pareto1[:,0], y_pareto1[:,1],label='Pareto Designs')\n",
    "plt.legend()\n",
    "plt.title(\"Vivado\")\n",
    "plt.xlabel(\"1/\" + \"latency\")\n",
    "plt.ylabel(\"1/\" + \"CLB\")\n",
    "plt.xlim(left=y1[:,0].min()*0.95, right=y1[:,0].max()*1.05)\n",
    "plt.ylim(bottom=y1[:,1].min()*0.95, top=y1[:,1].max()*1.05)\n",
    "plt.tight_layout()"
   ]
  }
 ],
 "metadata": {
  "kernelspec": {
   "display_name": "Python 3",
   "language": "python",
   "name": "python3"
  },
  "language_info": {
   "codemirror_mode": {
    "name": "ipython",
    "version": 3
   },
   "file_extension": ".py",
   "mimetype": "text/x-python",
   "name": "python",
   "nbconvert_exporter": "python",
   "pygments_lexer": "ipython3",
   "version": "3.6.10"
  }
 },
 "nbformat": 4,
 "nbformat_minor": 2
}
