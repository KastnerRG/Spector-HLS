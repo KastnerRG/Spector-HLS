{
 "cells": [
  {
   "cell_type": "code",
   "execution_count": 1,
   "metadata": {},
   "outputs": [],
   "source": [
    "import numpy as np\n",
    "import pandas as pd\n",
    "from matplotlib import pyplot as plt\n",
    "import matplotlib.patches as mpatches\n",
    "cdfx = pd.read_csv(\"../csv/catapult_spmv_latency.csv\", index_col=0)\n",
    "vdfx = pd.read_csv(\"../csv/final_result_impl_spmv_int.csv\", index_col=0)\n",
    "cdfx['throughput'] = cdfx['obj1'].min()*1/cdfx['obj1']\n",
    "vdfx['throughput'] = cdfx['obj1'].min()*1/vdfx['obj1']\n",
    "cdfx['ff_inv'] = cdfx['ff'].min()*1/cdfx['ff']\n",
    "vdfx['ff_inv'] = cdfx['ff'].min()*1/vdfx['ff']\n",
    "cdfx['lut_inv'] = cdfx['lut'].min()*1/cdfx['lut']\n",
    "vdfx['lut_inv'] = cdfx['lut'].min()*1/vdfx['lut']\n",
    "cdfx['1/obj2'] = cdfx['obj2'].min()*1/cdfx['obj2']\n",
    "vdfx['1/obj2'] = cdfx['obj2'].min()*1/vdfx['obj2']\n",
    "cdfx['clbUtil'] = cdfx['obj2']/147780\n",
    "vdfx['clbUtil'] = vdfx['obj2']/147780\n",
    "cdfx['mem_partition_size1'] = cdfx['knob_array_part1']\n",
    "vdfx['mem_partition_size1'] = pd.to_numeric(512/(vdfx['knob_array_partition1']), downcast='integer')\n",
    "cdfx['mem_partition_size2'] = cdfx['knob_array_part2']\n",
    "vdfx['mem_partition_size2'] = pd.to_numeric(vdfx['knob_UNROLL_F']/(vdfx['knob_array_partition2']), downcast='integer')\n",
    "\n",
    "cdfx = cdfx.drop(columns=['knob_I_B'])\n",
    "cdfx = cdfx.drop(columns=['knob_array_part1'])\n",
    "cdfx = cdfx.drop(columns=['knob_array_part2'])\n",
    "vdfx = vdfx.drop(columns=['knob_array_partition1'])\n",
    "vdfx = vdfx.drop(columns=['knob_array_partition2'])"
   ]
  },
  {
   "cell_type": "code",
   "execution_count": 2,
   "metadata": {},
   "outputs": [
    {
     "name": "stdout",
     "output_type": "stream",
     "text": [
      "knob_UNROLL_F          2863\n",
      "knob_outer_unroll      2863\n",
      "knob_inner_unroll1     2863\n",
      "knob_inner_unroll2     2863\n",
      "obj1                   2863\n",
      "obj2                   2863\n",
      "lut                    2863\n",
      "ff                     2863\n",
      "dsp                    2863\n",
      "bram                   2863\n",
      "throughput             2863\n",
      "ff_inv                 2863\n",
      "lut_inv                2863\n",
      "1/obj2                 2863\n",
      "clbUtil                2863\n",
      "mem_partition_size1    2863\n",
      "mem_partition_size2    2863\n",
      "dtype: int64\n"
     ]
    },
    {
     "data": {
      "text/html": [
       "<div>\n",
       "<style scoped>\n",
       "    .dataframe tbody tr th:only-of-type {\n",
       "        vertical-align: middle;\n",
       "    }\n",
       "\n",
       "    .dataframe tbody tr th {\n",
       "        vertical-align: top;\n",
       "    }\n",
       "\n",
       "    .dataframe thead th {\n",
       "        text-align: right;\n",
       "    }\n",
       "</style>\n",
       "<table border=\"1\" class=\"dataframe\">\n",
       "  <thead>\n",
       "    <tr style=\"text-align: right;\">\n",
       "      <th></th>\n",
       "      <th>knob_UNROLL_F</th>\n",
       "      <th>knob_outer_unroll</th>\n",
       "      <th>knob_inner_unroll1</th>\n",
       "      <th>knob_inner_unroll2</th>\n",
       "      <th>obj1</th>\n",
       "      <th>obj2</th>\n",
       "      <th>lut</th>\n",
       "      <th>ff</th>\n",
       "      <th>dsp</th>\n",
       "      <th>bram</th>\n",
       "      <th>throughput</th>\n",
       "      <th>ff_inv</th>\n",
       "      <th>lut_inv</th>\n",
       "      <th>1/obj2</th>\n",
       "      <th>clbUtil</th>\n",
       "      <th>mem_partition_size1</th>\n",
       "      <th>mem_partition_size2</th>\n",
       "    </tr>\n",
       "    <tr>\n",
       "      <th>n</th>\n",
       "      <th></th>\n",
       "      <th></th>\n",
       "      <th></th>\n",
       "      <th></th>\n",
       "      <th></th>\n",
       "      <th></th>\n",
       "      <th></th>\n",
       "      <th></th>\n",
       "      <th></th>\n",
       "      <th></th>\n",
       "      <th></th>\n",
       "      <th></th>\n",
       "      <th></th>\n",
       "      <th></th>\n",
       "      <th></th>\n",
       "      <th></th>\n",
       "      <th></th>\n",
       "    </tr>\n",
       "  </thead>\n",
       "  <tbody>\n",
       "    <tr>\n",
       "      <th>1</th>\n",
       "      <td>2</td>\n",
       "      <td>1</td>\n",
       "      <td>1</td>\n",
       "      <td>1</td>\n",
       "      <td>0.000147</td>\n",
       "      <td>113</td>\n",
       "      <td>572</td>\n",
       "      <td>434</td>\n",
       "      <td>1</td>\n",
       "      <td>0</td>\n",
       "      <td>0.204082</td>\n",
       "      <td>0.490783</td>\n",
       "      <td>0.770979</td>\n",
       "      <td>0.805310</td>\n",
       "      <td>0.000765</td>\n",
       "      <td>512</td>\n",
       "      <td>2</td>\n",
       "    </tr>\n",
       "    <tr>\n",
       "      <th>2</th>\n",
       "      <td>2</td>\n",
       "      <td>1</td>\n",
       "      <td>1</td>\n",
       "      <td>1</td>\n",
       "      <td>0.000175</td>\n",
       "      <td>178</td>\n",
       "      <td>755</td>\n",
       "      <td>444</td>\n",
       "      <td>1</td>\n",
       "      <td>0</td>\n",
       "      <td>0.171429</td>\n",
       "      <td>0.479730</td>\n",
       "      <td>0.584106</td>\n",
       "      <td>0.511236</td>\n",
       "      <td>0.001204</td>\n",
       "      <td>512</td>\n",
       "      <td>4</td>\n",
       "    </tr>\n",
       "    <tr>\n",
       "      <th>3</th>\n",
       "      <td>2</td>\n",
       "      <td>1</td>\n",
       "      <td>1</td>\n",
       "      <td>1</td>\n",
       "      <td>0.000171</td>\n",
       "      <td>171</td>\n",
       "      <td>739</td>\n",
       "      <td>444</td>\n",
       "      <td>1</td>\n",
       "      <td>0</td>\n",
       "      <td>0.175439</td>\n",
       "      <td>0.479730</td>\n",
       "      <td>0.596752</td>\n",
       "      <td>0.532164</td>\n",
       "      <td>0.001157</td>\n",
       "      <td>512</td>\n",
       "      <td>8</td>\n",
       "    </tr>\n",
       "    <tr>\n",
       "      <th>4</th>\n",
       "      <td>2</td>\n",
       "      <td>1</td>\n",
       "      <td>1</td>\n",
       "      <td>1</td>\n",
       "      <td>0.000226</td>\n",
       "      <td>236</td>\n",
       "      <td>1014</td>\n",
       "      <td>460</td>\n",
       "      <td>1</td>\n",
       "      <td>0</td>\n",
       "      <td>0.132743</td>\n",
       "      <td>0.463043</td>\n",
       "      <td>0.434911</td>\n",
       "      <td>0.385593</td>\n",
       "      <td>0.001597</td>\n",
       "      <td>512</td>\n",
       "      <td>16</td>\n",
       "    </tr>\n",
       "    <tr>\n",
       "      <th>5</th>\n",
       "      <td>2</td>\n",
       "      <td>1</td>\n",
       "      <td>1</td>\n",
       "      <td>1</td>\n",
       "      <td>0.000204</td>\n",
       "      <td>262</td>\n",
       "      <td>1014</td>\n",
       "      <td>460</td>\n",
       "      <td>1</td>\n",
       "      <td>0</td>\n",
       "      <td>0.147059</td>\n",
       "      <td>0.463043</td>\n",
       "      <td>0.434911</td>\n",
       "      <td>0.347328</td>\n",
       "      <td>0.001773</td>\n",
       "      <td>512</td>\n",
       "      <td>32</td>\n",
       "    </tr>\n",
       "  </tbody>\n",
       "</table>\n",
       "</div>"
      ],
      "text/plain": [
       "   knob_UNROLL_F  knob_outer_unroll  knob_inner_unroll1  knob_inner_unroll2  \\\n",
       "n                                                                             \n",
       "1              2                  1                   1                   1   \n",
       "2              2                  1                   1                   1   \n",
       "3              2                  1                   1                   1   \n",
       "4              2                  1                   1                   1   \n",
       "5              2                  1                   1                   1   \n",
       "\n",
       "       obj1  obj2   lut   ff  dsp  bram  throughput    ff_inv   lut_inv  \\\n",
       "n                                                                         \n",
       "1  0.000147   113   572  434    1     0    0.204082  0.490783  0.770979   \n",
       "2  0.000175   178   755  444    1     0    0.171429  0.479730  0.584106   \n",
       "3  0.000171   171   739  444    1     0    0.175439  0.479730  0.596752   \n",
       "4  0.000226   236  1014  460    1     0    0.132743  0.463043  0.434911   \n",
       "5  0.000204   262  1014  460    1     0    0.147059  0.463043  0.434911   \n",
       "\n",
       "     1/obj2   clbUtil  mem_partition_size1  mem_partition_size2  \n",
       "n                                                                \n",
       "1  0.805310  0.000765                  512                    2  \n",
       "2  0.511236  0.001204                  512                    4  \n",
       "3  0.532164  0.001157                  512                    8  \n",
       "4  0.385593  0.001597                  512                   16  \n",
       "5  0.347328  0.001773                  512                   32  "
      ]
     },
     "execution_count": 2,
     "metadata": {},
     "output_type": "execute_result"
    }
   ],
   "source": [
    "print(cdfx.count())\n",
    "cdfx.head()"
   ]
  },
  {
   "cell_type": "code",
   "execution_count": 3,
   "metadata": {},
   "outputs": [
    {
     "name": "stdout",
     "output_type": "stream",
     "text": [
      "knob_UNROLL_F          3055\n",
      "knob_outer_unroll      3055\n",
      "knob_inner_unroll1     3055\n",
      "knob_inner_unroll2     3055\n",
      "obj1                   3055\n",
      "obj2                   3055\n",
      "lut                    3055\n",
      "ff                     3055\n",
      "dsp                    3055\n",
      "bram                   3055\n",
      "throughput             3055\n",
      "ff_inv                 3055\n",
      "lut_inv                3055\n",
      "1/obj2                 3055\n",
      "clbUtil                3055\n",
      "mem_partition_size1    3055\n",
      "mem_partition_size2    3055\n",
      "dtype: int64\n"
     ]
    },
    {
     "data": {
      "text/html": [
       "<div>\n",
       "<style scoped>\n",
       "    .dataframe tbody tr th:only-of-type {\n",
       "        vertical-align: middle;\n",
       "    }\n",
       "\n",
       "    .dataframe tbody tr th {\n",
       "        vertical-align: top;\n",
       "    }\n",
       "\n",
       "    .dataframe thead th {\n",
       "        text-align: right;\n",
       "    }\n",
       "</style>\n",
       "<table border=\"1\" class=\"dataframe\">\n",
       "  <thead>\n",
       "    <tr style=\"text-align: right;\">\n",
       "      <th></th>\n",
       "      <th>knob_UNROLL_F</th>\n",
       "      <th>knob_outer_unroll</th>\n",
       "      <th>knob_inner_unroll1</th>\n",
       "      <th>knob_inner_unroll2</th>\n",
       "      <th>obj1</th>\n",
       "      <th>obj2</th>\n",
       "      <th>lut</th>\n",
       "      <th>ff</th>\n",
       "      <th>dsp</th>\n",
       "      <th>bram</th>\n",
       "      <th>throughput</th>\n",
       "      <th>ff_inv</th>\n",
       "      <th>lut_inv</th>\n",
       "      <th>1/obj2</th>\n",
       "      <th>clbUtil</th>\n",
       "      <th>mem_partition_size1</th>\n",
       "      <th>mem_partition_size2</th>\n",
       "    </tr>\n",
       "    <tr>\n",
       "      <th>n</th>\n",
       "      <th></th>\n",
       "      <th></th>\n",
       "      <th></th>\n",
       "      <th></th>\n",
       "      <th></th>\n",
       "      <th></th>\n",
       "      <th></th>\n",
       "      <th></th>\n",
       "      <th></th>\n",
       "      <th></th>\n",
       "      <th></th>\n",
       "      <th></th>\n",
       "      <th></th>\n",
       "      <th></th>\n",
       "      <th></th>\n",
       "      <th></th>\n",
       "      <th></th>\n",
       "    </tr>\n",
       "  </thead>\n",
       "  <tbody>\n",
       "    <tr>\n",
       "      <th>0</th>\n",
       "      <td>2</td>\n",
       "      <td>1</td>\n",
       "      <td>1</td>\n",
       "      <td>1</td>\n",
       "      <td>0.000185</td>\n",
       "      <td>244</td>\n",
       "      <td>1243</td>\n",
       "      <td>1033</td>\n",
       "      <td>8</td>\n",
       "      <td>8</td>\n",
       "      <td>0.162162</td>\n",
       "      <td>0.206196</td>\n",
       "      <td>0.354787</td>\n",
       "      <td>0.372951</td>\n",
       "      <td>0.001651</td>\n",
       "      <td>256</td>\n",
       "      <td>1</td>\n",
       "    </tr>\n",
       "    <tr>\n",
       "      <th>1</th>\n",
       "      <td>2</td>\n",
       "      <td>1</td>\n",
       "      <td>1</td>\n",
       "      <td>1</td>\n",
       "      <td>0.000178</td>\n",
       "      <td>252</td>\n",
       "      <td>1304</td>\n",
       "      <td>1039</td>\n",
       "      <td>8</td>\n",
       "      <td>8</td>\n",
       "      <td>0.168539</td>\n",
       "      <td>0.205005</td>\n",
       "      <td>0.338190</td>\n",
       "      <td>0.361111</td>\n",
       "      <td>0.001705</td>\n",
       "      <td>128</td>\n",
       "      <td>1</td>\n",
       "    </tr>\n",
       "    <tr>\n",
       "      <th>2</th>\n",
       "      <td>2</td>\n",
       "      <td>1</td>\n",
       "      <td>1</td>\n",
       "      <td>1</td>\n",
       "      <td>0.000179</td>\n",
       "      <td>305</td>\n",
       "      <td>1619</td>\n",
       "      <td>1045</td>\n",
       "      <td>8</td>\n",
       "      <td>8</td>\n",
       "      <td>0.167598</td>\n",
       "      <td>0.203828</td>\n",
       "      <td>0.272390</td>\n",
       "      <td>0.298361</td>\n",
       "      <td>0.002064</td>\n",
       "      <td>64</td>\n",
       "      <td>1</td>\n",
       "    </tr>\n",
       "    <tr>\n",
       "      <th>3</th>\n",
       "      <td>2</td>\n",
       "      <td>1</td>\n",
       "      <td>1</td>\n",
       "      <td>1</td>\n",
       "      <td>0.000184</td>\n",
       "      <td>373</td>\n",
       "      <td>2065</td>\n",
       "      <td>1054</td>\n",
       "      <td>8</td>\n",
       "      <td>8</td>\n",
       "      <td>0.163043</td>\n",
       "      <td>0.202087</td>\n",
       "      <td>0.213559</td>\n",
       "      <td>0.243968</td>\n",
       "      <td>0.002524</td>\n",
       "      <td>32</td>\n",
       "      <td>1</td>\n",
       "    </tr>\n",
       "    <tr>\n",
       "      <th>4</th>\n",
       "      <td>2</td>\n",
       "      <td>1</td>\n",
       "      <td>1</td>\n",
       "      <td>1</td>\n",
       "      <td>0.000185</td>\n",
       "      <td>612</td>\n",
       "      <td>3236</td>\n",
       "      <td>1079</td>\n",
       "      <td>8</td>\n",
       "      <td>8</td>\n",
       "      <td>0.162162</td>\n",
       "      <td>0.197405</td>\n",
       "      <td>0.136279</td>\n",
       "      <td>0.148693</td>\n",
       "      <td>0.004141</td>\n",
       "      <td>16</td>\n",
       "      <td>1</td>\n",
       "    </tr>\n",
       "  </tbody>\n",
       "</table>\n",
       "</div>"
      ],
      "text/plain": [
       "   knob_UNROLL_F  knob_outer_unroll  knob_inner_unroll1  knob_inner_unroll2  \\\n",
       "n                                                                             \n",
       "0              2                  1                   1                   1   \n",
       "1              2                  1                   1                   1   \n",
       "2              2                  1                   1                   1   \n",
       "3              2                  1                   1                   1   \n",
       "4              2                  1                   1                   1   \n",
       "\n",
       "       obj1  obj2   lut    ff  dsp  bram  throughput    ff_inv   lut_inv  \\\n",
       "n                                                                          \n",
       "0  0.000185   244  1243  1033    8     8    0.162162  0.206196  0.354787   \n",
       "1  0.000178   252  1304  1039    8     8    0.168539  0.205005  0.338190   \n",
       "2  0.000179   305  1619  1045    8     8    0.167598  0.203828  0.272390   \n",
       "3  0.000184   373  2065  1054    8     8    0.163043  0.202087  0.213559   \n",
       "4  0.000185   612  3236  1079    8     8    0.162162  0.197405  0.136279   \n",
       "\n",
       "     1/obj2   clbUtil  mem_partition_size1  mem_partition_size2  \n",
       "n                                                                \n",
       "0  0.372951  0.001651                  256                    1  \n",
       "1  0.361111  0.001705                  128                    1  \n",
       "2  0.298361  0.002064                   64                    1  \n",
       "3  0.243968  0.002524                   32                    1  \n",
       "4  0.148693  0.004141                   16                    1  "
      ]
     },
     "execution_count": 3,
     "metadata": {},
     "output_type": "execute_result"
    }
   ],
   "source": [
    "print(vdfx.count())\n",
    "vdfx.head()"
   ]
  },
  {
   "cell_type": "code",
   "execution_count": 4,
   "metadata": {},
   "outputs": [],
   "source": [
    "cmn_col = np.intersect1d(cdfx.columns, vdfx.columns)"
   ]
  },
  {
   "cell_type": "code",
   "execution_count": 5,
   "metadata": {},
   "outputs": [
    {
     "data": {
      "text/plain": [
       "Text(0, 0.5, 'CLB Resources (Normalized 1/CLB)')"
      ]
     },
     "execution_count": 5,
     "metadata": {},
     "output_type": "execute_result"
    },
    {
     "data": {
      "image/png": "[encoded data removed]",
      "text/plain": [
       "<Figure size 432x288 with 1 Axes>"
      ]
     },
     "metadata": {
      "needs_background": "light"
     },
     "output_type": "display_data"
    }
   ],
   "source": [
    "ax1 = vdfx.plot(x='throughput', y='1/obj2', kind='scatter', c='r')\n",
    "ax = cdfx.plot(x='throughput', y='1/obj2', kind='scatter', c='g', ax=ax1)\n",
    "#ax1.set_ylim(0,0.016)\n",
    "\n",
    "red_data = mpatches.Patch(color='red', label='Vivado Results')\n",
    "green_data = mpatches.Patch(color='green', label='Catapult Results')\n",
    "plt.legend(handles=[red_data, green_data])\n",
    "plt.xlabel('Throughput (Normalized 1/obj1)')\n",
    "plt.ylabel('CLB Resources (Normalized 1/CLB)')"
   ]
  },
  {
   "cell_type": "code",
   "execution_count": 6,
   "metadata": {},
   "outputs": [
    {
     "data": {
      "text/plain": [
       "Text(0, 0.5, 'Normalized 1/CLB (1/obj2)')"
      ]
     },
     "execution_count": 6,
     "metadata": {},
     "output_type": "execute_result"
    },
    {
     "data": {
      "image/png": "[encoded data removed]",
      "text/plain": [
       "<Figure size 432x288 with 1 Axes>"
      ]
     },
     "metadata": {
      "needs_background": "light"
     },
     "output_type": "display_data"
    },
    {
     "data": {
      "image/png": "[encoded data removed]",
      "text/plain": [
       "<Figure size 432x288 with 1 Axes>"
      ]
     },
     "metadata": {
      "needs_background": "light"
     },
     "output_type": "display_data"
    }
   ],
   "source": [
    "ax1 = vdfx.plot(y='1/obj2', x='throughput', kind='scatter', c='r')\n",
    "plt.xlabel('Normalized Throughput (1/obj1)')\n",
    "plt.ylabel('Normalized 1/CLB (1/obj2)')\n",
    "ax = cdfx.plot(y='1/obj2', x='throughput', kind='scatter', c='g')\n",
    "#ax1.set_ylim(0,0.001)\n",
    "#ax1.set_xlim(0,1)\n",
    "#ax.set_ylim(0.2, 0.6)\n",
    "#ax.set_xlim(0,0.0000004)\n",
    "#red_data = mpatches.Patch(color='green', label='Vivado Results')\n",
    "#green_data = mpatches.Patch(color='red', label='Catapult Results')\n",
    "#plt.legend(handles=[red_data, green_data])\n",
    "plt.xlabel('Normalized Throughput (1/obj1)')\n",
    "plt.ylabel('Normalized 1/CLB (1/obj2)')"
   ]
  },
  {
   "cell_type": "code",
   "execution_count": 7,
   "metadata": {},
   "outputs": [
    {
     "name": "stdout",
     "output_type": "stream",
     "text": [
      "~~~~~~~~~~~ Catapult Averages ~~~~~~~~~~~~\n",
      "\n",
      "knob_UNROLL_F             5.818372\n",
      "knob_outer_unroll         1.901153\n",
      "knob_inner_unroll1        2.503318\n",
      "knob_inner_unroll2        2.477471\n",
      "obj1                      0.000125\n",
      "obj2                    216.090814\n",
      "lut                    1089.205728\n",
      "ff                      373.211317\n",
      "dsp                       1.876004\n",
      "bram                      0.000000\n",
      "throughput                0.345277\n",
      "ff_inv                    0.587859\n",
      "lut_inv                   0.464626\n",
      "1/obj2                    0.487194\n",
      "clbUtil                   0.001462\n",
      "mem_partition_size1     244.185819\n",
      "mem_partition_size2      10.524974\n",
      "dtype: float64\n",
      "~~~~~~~~~~~~~~~~~~~~~~~~~~~~~~~~~~~~~~~~~~\n",
      "\n",
      "~~~~~~~~~~~ Vivado Averages ~~~~~~~~~~~~\n",
      "\n",
      "knob_UNROLL_F             16.691980\n",
      "knob_outer_unroll          1.936825\n",
      "knob_inner_unroll1         2.414075\n",
      "knob_inner_unroll2         2.441244\n",
      "obj1                       0.001535\n",
      "obj2                    3814.025532\n",
      "lut                    18359.614730\n",
      "ff                     14493.054664\n",
      "dsp                       41.995417\n",
      "bram                      41.995417\n",
      "throughput                 0.041329\n",
      "ff_inv                     0.036437\n",
      "lut_inv                    0.049040\n",
      "1/obj2                     0.048710\n",
      "clbUtil                    0.025809\n",
      "mem_partition_size1      102.452373\n",
      "mem_partition_size2        4.053355\n",
      "dtype: float64\n",
      "~~~~~~~~~~~~~~~~~~~~~~~~~~~~~~~~~~~~~~~~~~\n"
     ]
    }
   ],
   "source": [
    "print(\"~~~~~~~~~~~ Catapult Averages ~~~~~~~~~~~~\\n\")\n",
    "print(cdfx.mean())\n",
    "print(\"~~~~~~~~~~~~~~~~~~~~~~~~~~~~~~~~~~~~~~~~~~\")\n",
    "print(\"\\n~~~~~~~~~~~ Vivado Averages ~~~~~~~~~~~~\\n\")\n",
    "print(vdfx.mean())\n",
    "print(\"~~~~~~~~~~~~~~~~~~~~~~~~~~~~~~~~~~~~~~~~~~\")"
   ]
  },
  {
   "cell_type": "code",
   "execution_count": 8,
   "metadata": {},
   "outputs": [
    {
     "data": {
      "text/plain": [
       "knob_UNROLL_F          693\n",
       "knob_outer_unroll      693\n",
       "knob_inner_unroll1     693\n",
       "knob_inner_unroll2     693\n",
       "obj1_x                 693\n",
       "obj2_x                 693\n",
       "lut_x                  693\n",
       "ff_x                   693\n",
       "dsp_x                  693\n",
       "bram_x                 693\n",
       "throughput_x           693\n",
       "ff_inv_x               693\n",
       "lut_inv_x              693\n",
       "1/obj2_x               693\n",
       "clbUtil_x              693\n",
       "mem_partition_size1    693\n",
       "mem_partition_size2    693\n",
       "obj1_y                 693\n",
       "obj2_y                 693\n",
       "lut_y                  693\n",
       "ff_y                   693\n",
       "dsp_y                  693\n",
       "bram_y                 693\n",
       "throughput_y           693\n",
       "ff_inv_y               693\n",
       "lut_inv_y              693\n",
       "1/obj2_y               693\n",
       "clbUtil_y              693\n",
       "dtype: int64"
      ]
     },
     "execution_count": 8,
     "metadata": {},
     "output_type": "execute_result"
    }
   ],
   "source": [
    "cdfx = cdfx.reset_index(drop=True)\n",
    "vdfx = vdfx.reset_index(drop=True)\n",
    "cv_df = pd.merge(cdfx, vdfx, on=['knob_UNROLL_F','mem_partition_size1', \n",
    "                                          'mem_partition_size2', 'knob_outer_unroll', \n",
    "                                          'knob_inner_unroll1', 'knob_inner_unroll2'], how='inner')\n",
    "cv_df.count()"
   ]
  },
  {
   "cell_type": "code",
   "execution_count": 9,
   "metadata": {},
   "outputs": [
    {
     "data": {
      "text/plain": [
       "(0, 1)"
      ]
     },
     "execution_count": 9,
     "metadata": {},
     "output_type": "execute_result"
    },
    {
     "data": {
      "image/png": "[encoded data removed]",
      "text/plain": [
       "<Figure size 432x288 with 1 Axes>"
      ]
     },
     "metadata": {
      "needs_background": "light"
     },
     "output_type": "display_data"
    }
   ],
   "source": [
    "df_sample = cv_df.sample(10)\n",
    "plt.scatter(y=df_sample['1/obj2_x'], x=df_sample.throughput_x, c='g')\n",
    "plt.scatter(y=df_sample['1/obj2_y'], x=df_sample.throughput_y, c='r')\n",
    "linex = []\n",
    "for index, row in df_sample.iterrows():\n",
    "    plt.plot([row['throughput_x'], row['throughput_y']], [row['1/obj2_x'], row['1/obj2_y']],'b:',linewidth=0.7)\n",
    "\n",
    "red_data = mpatches.Patch(color='green', label='Catapult Results')\n",
    "green_data = mpatches.Patch(color='red', label='Vivado Results')\n",
    "plt.legend(handles=[red_data, green_data])\n",
    "plt.xlabel('Normalized Throughput (1/obj1)')\n",
    "plt.ylabel('Normalized 1/CLB (1/obj2)')\n",
    "plt.ylim(0, 1)\n",
    "plt.xlim(0, 1)"
   ]
  },
  {
   "cell_type": "code",
   "execution_count": 10,
   "metadata": {},
   "outputs": [
    {
     "data": {
      "text/plain": [
       "(0, 1)"
      ]
     },
     "execution_count": 10,
     "metadata": {},
     "output_type": "execute_result"
    },
    {
     "data": {
      "image/png": "[encoded data removed]",
      "text/plain": [
       "<Figure size 432x288 with 1 Axes>"
      ]
     },
     "metadata": {
      "needs_background": "light"
     },
     "output_type": "display_data"
    }
   ],
   "source": [
    "df_sample = cv_df.sample(10)\n",
    "plt.scatter(y=df_sample.lut_inv_x, x=df_sample.throughput_x, c='g')\n",
    "plt.scatter(y=df_sample.lut_inv_y, x=df_sample.throughput_y, c='r')\n",
    "linex = []\n",
    "for index, row in df_sample.iterrows():\n",
    "    plt.plot([row['throughput_x'], row['throughput_y']], [row['lut_inv_x'], row['lut_inv_y']],'b:',linewidth=0.3)\n",
    "\n",
    "red_data = mpatches.Patch(color='green', label='Catapult Results')\n",
    "green_data = mpatches.Patch(color='red', label='Vivado Results')\n",
    "plt.legend(handles=[red_data, green_data])\n",
    "plt.xlabel('Normalized Throughput')\n",
    "plt.ylabel('FF Resource Utilization (1/FF)')\n",
    "plt.ylim(0, 1)"
   ]
  },
  {
   "cell_type": "code",
   "execution_count": 11,
   "metadata": {},
   "outputs": [],
   "source": [
    "df_sample = cv_df.sample(30)"
   ]
  }
 ],
 "metadata": {
  "kernelspec": {
   "display_name": "Python 3",
   "language": "python",
   "name": "python3"
  },
  "language_info": {
   "codemirror_mode": {
    "name": "ipython",
    "version": 3
   },
   "file_extension": ".py",
   "mimetype": "text/x-python",
   "name": "python",
   "nbconvert_exporter": "python",
   "pygments_lexer": "ipython3",
   "version": "3.7.3"
  }
 },
 "nbformat": 4,
 "nbformat_minor": 2
}
