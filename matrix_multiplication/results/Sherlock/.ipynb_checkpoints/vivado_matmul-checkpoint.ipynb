{
 "cells": [
  {
   "cell_type": "markdown",
   "metadata": {},
   "source": [
    "Import packages."
   ]
  },
  {
   "cell_type": "code",
   "execution_count": 1,
   "metadata": {},
   "outputs": [],
   "source": [
    "# %matplotlib notebook\n",
    "\n",
    "%reload_ext autoreload\n",
    "import os,sys\n",
    "import numpy as np\n",
    "import pandas as pd\n",
    "import matplotlib.pyplot as plt\n",
    "sys.path.append('./Sherlock_files')\n",
    "from sklearn.preprocessing import normalize, PolynomialFeatures, scale\n",
    "\n",
    "%aimport Sherlock\n",
    "from Sherlock import Sherlock\n",
    "from RBF import bases\n",
    "from utils import adrs, read_design_space, approximate_pareto\n",
    "import dcor\n",
    "\n",
    "try: import GPy\n",
    "except: pass\n",
    "\n",
    "import warnings\n",
    "warnings.filterwarnings(\"ignore\", category=RuntimeWarning)\n",
    "\n",
    "import logging\n",
    "logging.basicConfig(format='%(asctime)s %(levelname)s:%(message)s', level=logging.ERROR, datefmt='%I:%M:%S')\n",
    "\n",
    "%autoreload 1"
   ]
  },
  {
   "cell_type": "markdown",
   "metadata": {},
   "source": [
    "Read the design space."
   ]
  },
  {
   "cell_type": "code",
   "execution_count": 3,
   "metadata": {},
   "outputs": [],
   "source": [
    "X, y, _, names, _ = read_design_space('../csv/vivado_matrixmul_sherlock.csv',\n",
    "                                      use_hint=False, random_factor=0.0, hint_random_factor=0.0,\n",
    "                                      return_names=True)"
   ]
  },
  {
   "cell_type": "markdown",
   "metadata": {},
   "source": [
    "Plot the design space."
   ]
  },
  {
   "cell_type": "code",
   "execution_count": 4,
   "metadata": {},
   "outputs": [
    {
     "data": {
      "image/png": "[encoded data removed]",
      "text/plain": [
       "<Figure size 432x288 with 1 Axes>"
      ]
     },
     "metadata": {
      "needs_background": "light"
     },
     "output_type": "display_data"
    }
   ],
   "source": [
    "plt.figure()\n",
    "y_pareto = approximate_pareto(y)[0]\n",
    "plt.scatter(y[:,0], y[:,1])\n",
    "plt.scatter(y_pareto[:,0], y_pareto[:,1])\n",
    "plt.xlabel(\"1/\" + names[-2])\n",
    "plt.ylabel(\"1/\" + names[-1])\n",
    "plt.xlim(left=y[:,0].min()*0.95, right=y[:,0].max()*1.05)\n",
    "plt.ylim(bottom=y[:,1].min()*0.95, top=y[:,1].max()*1.05)\n",
    "plt.show()"
   ]
  },
  {
   "cell_type": "markdown",
   "metadata": {},
   "source": [
    "Run Sherlock."
   ]
  },
  {
   "cell_type": "code",
   "execution_count": 6,
   "metadata": {
    "scrolled": true
   },
   "outputs": [
    {
     "ename": "ValueError",
     "evalue": "zero-size array to reduction operation maximum which has no identity",
     "output_type": "error",
     "traceback": [
      "\u001b[0;31m---------------------------------------------------------------------------\u001b[0m",
      "\u001b[0;31mValueError\u001b[0m                                Traceback (most recent call last)",
      "\u001b[0;32m<ipython-input-6-2229dcb49c4a>\u001b[0m in \u001b[0;36m<module>\u001b[0;34m\u001b[0m\n\u001b[1;32m     17\u001b[0m     model_selection_type=\"mab10\")\n\u001b[1;32m     18\u001b[0m \u001b[0;34m\u001b[0m\u001b[0m\n\u001b[0;32m---> 19\u001b[0;31m \u001b[0msherlock\u001b[0m\u001b[0;34m.\u001b[0m\u001b[0mfit\u001b[0m\u001b[0;34m(\u001b[0m\u001b[0mX\u001b[0m\u001b[0;34m)\u001b[0m\u001b[0;34m.\u001b[0m\u001b[0mpredict\u001b[0m\u001b[0;34m(\u001b[0m\u001b[0mX\u001b[0m\u001b[0;34m,\u001b[0m\u001b[0my\u001b[0m\u001b[0;34m)\u001b[0m\u001b[0;34m\u001b[0m\u001b[0;34m\u001b[0m\u001b[0m\n\u001b[0m\u001b[1;32m     20\u001b[0m \u001b[0merr\u001b[0m \u001b[0;34m=\u001b[0m \u001b[0madrs\u001b[0m\u001b[0;34m(\u001b[0m\u001b[0my\u001b[0m\u001b[0;34m,\u001b[0m \u001b[0msherlock\u001b[0m\u001b[0;34m.\u001b[0m\u001b[0mknown_idx\u001b[0m\u001b[0;34m,\u001b[0m \u001b[0mapproximate\u001b[0m\u001b[0;34m=\u001b[0m\u001b[0;32mTrue\u001b[0m\u001b[0;34m)\u001b[0m\u001b[0;34m\u001b[0m\u001b[0;34m\u001b[0m\u001b[0m\n\u001b[1;32m     21\u001b[0m \u001b[0mprint\u001b[0m\u001b[0;34m(\u001b[0m\u001b[0merr\u001b[0m\u001b[0;34m)\u001b[0m\u001b[0;34m\u001b[0m\u001b[0;34m\u001b[0m\u001b[0m\n",
      "\u001b[0;32m~/Siva/RA/Spector-HLS/matrix_multiplication/results/Sherlock/Sherlock_files/Sherlock.py\u001b[0m in \u001b[0;36mfit\u001b[0;34m(self, X)\u001b[0m\n\u001b[1;32m    356\u001b[0m \u001b[0;34m\u001b[0m\u001b[0m\n\u001b[1;32m    357\u001b[0m         \u001b[0;31m# Initial sampling\u001b[0m\u001b[0;34m\u001b[0m\u001b[0;34m\u001b[0m\u001b[0;34m\u001b[0m\u001b[0m\n\u001b[0;32m--> 358\u001b[0;31m         \u001b[0mself\u001b[0m\u001b[0;34m.\u001b[0m\u001b[0mknown_idx\u001b[0m\u001b[0;34m,\u001b[0m \u001b[0mself\u001b[0m\u001b[0;34m.\u001b[0m\u001b[0mted_scale\u001b[0m \u001b[0;34m=\u001b[0m \u001b[0mTED\u001b[0m\u001b[0;34m(\u001b[0m\u001b[0;34m)\u001b[0m\u001b[0;34m.\u001b[0m\u001b[0mfit\u001b[0m\u001b[0;34m(\u001b[0m\u001b[0mX\u001b[0m\u001b[0;34m)\u001b[0m\u001b[0;34m.\u001b[0m\u001b[0mpredict\u001b[0m\u001b[0;34m(\u001b[0m\u001b[0mself\u001b[0m\u001b[0;34m.\u001b[0m\u001b[0mn_init\u001b[0m\u001b[0;34m,\u001b[0m \u001b[0mreturn_scale\u001b[0m\u001b[0;34m=\u001b[0m\u001b[0;32mTrue\u001b[0m\u001b[0;34m)\u001b[0m\u001b[0;34m\u001b[0m\u001b[0;34m\u001b[0m\u001b[0m\n\u001b[0m\u001b[1;32m    359\u001b[0m \u001b[0;34m\u001b[0m\u001b[0m\n\u001b[1;32m    360\u001b[0m         \u001b[0;32mreturn\u001b[0m \u001b[0mself\u001b[0m\u001b[0;34m\u001b[0m\u001b[0;34m\u001b[0m\u001b[0m\n",
      "\u001b[0;32m~/Siva/RA/Spector-HLS/matrix_multiplication/results/Sherlock/Sherlock_files/SampleSelection.py\u001b[0m in \u001b[0;36mfit\u001b[0;34m(self, X, sigma)\u001b[0m\n\u001b[1;32m     15\u001b[0m         \u001b[0;32mif\u001b[0m \u001b[0msigma\u001b[0m \u001b[0;32mis\u001b[0m \u001b[0;32mNone\u001b[0m\u001b[0;34m:\u001b[0m\u001b[0;34m\u001b[0m\u001b[0;34m\u001b[0m\u001b[0m\n\u001b[1;32m     16\u001b[0m             \u001b[0;31m# sigma = np.min(np.std(X, axis=0))\u001b[0m\u001b[0;34m\u001b[0m\u001b[0;34m\u001b[0m\u001b[0;34m\u001b[0m\u001b[0m\n\u001b[0;32m---> 17\u001b[0;31m             \u001b[0msigma\u001b[0m \u001b[0;34m=\u001b[0m \u001b[0mnp\u001b[0m\u001b[0;34m.\u001b[0m\u001b[0msqrt\u001b[0m\u001b[0;34m(\u001b[0m\u001b[0mnp\u001b[0m\u001b[0;34m.\u001b[0m\u001b[0mmax\u001b[0m\u001b[0;34m(\u001b[0m\u001b[0mscipy\u001b[0m\u001b[0;34m.\u001b[0m\u001b[0mptp\u001b[0m\u001b[0;34m(\u001b[0m\u001b[0mX\u001b[0m\u001b[0;34m,\u001b[0m \u001b[0maxis\u001b[0m\u001b[0;34m=\u001b[0m\u001b[0;36m0\u001b[0m\u001b[0;34m)\u001b[0m\u001b[0;34m)\u001b[0m\u001b[0;34m)\u001b[0m\u001b[0;34m\u001b[0m\u001b[0;34m\u001b[0m\u001b[0m\n\u001b[0m\u001b[1;32m     18\u001b[0m         \u001b[0mpairwise_sq_dists\u001b[0m \u001b[0;34m=\u001b[0m \u001b[0mscipy\u001b[0m\u001b[0;34m.\u001b[0m\u001b[0mspatial\u001b[0m\u001b[0;34m.\u001b[0m\u001b[0mdistance\u001b[0m\u001b[0;34m.\u001b[0m\u001b[0msquareform\u001b[0m\u001b[0;34m(\u001b[0m\u001b[0mscipy\u001b[0m\u001b[0;34m.\u001b[0m\u001b[0mspatial\u001b[0m\u001b[0;34m.\u001b[0m\u001b[0mdistance\u001b[0m\u001b[0;34m.\u001b[0m\u001b[0mpdist\u001b[0m\u001b[0;34m(\u001b[0m\u001b[0mX\u001b[0m\u001b[0;34m,\u001b[0m \u001b[0;34m'sqeuclidean'\u001b[0m\u001b[0;34m)\u001b[0m\u001b[0;34m)\u001b[0m\u001b[0;34m\u001b[0m\u001b[0;34m\u001b[0m\u001b[0m\n\u001b[1;32m     19\u001b[0m         \u001b[0mself\u001b[0m\u001b[0;34m.\u001b[0m\u001b[0mscale\u001b[0m \u001b[0;34m=\u001b[0m \u001b[0mnp\u001b[0m\u001b[0;34m.\u001b[0m\u001b[0mmean\u001b[0m\u001b[0;34m(\u001b[0m\u001b[0mnp\u001b[0m\u001b[0;34m.\u001b[0m\u001b[0msqrt\u001b[0m\u001b[0;34m(\u001b[0m\u001b[0mpairwise_sq_dists\u001b[0m\u001b[0;34m)\u001b[0m\u001b[0;34m)\u001b[0m\u001b[0;34m\u001b[0m\u001b[0;34m\u001b[0m\u001b[0m\n",
      "\u001b[0;32m<__array_function__ internals>\u001b[0m in \u001b[0;36mamax\u001b[0;34m(*args, **kwargs)\u001b[0m\n",
      "\u001b[0;32m~/.local/lib/python3.6/site-packages/numpy/core/fromnumeric.py\u001b[0m in \u001b[0;36mamax\u001b[0;34m(a, axis, out, keepdims, initial, where)\u001b[0m\n\u001b[1;32m   2619\u001b[0m     \"\"\"\n\u001b[1;32m   2620\u001b[0m     return _wrapreduction(a, np.maximum, 'max', axis, None, out,\n\u001b[0;32m-> 2621\u001b[0;31m                           keepdims=keepdims, initial=initial, where=where)\n\u001b[0m\u001b[1;32m   2622\u001b[0m \u001b[0;34m\u001b[0m\u001b[0m\n\u001b[1;32m   2623\u001b[0m \u001b[0;34m\u001b[0m\u001b[0m\n",
      "\u001b[0;32m~/.local/lib/python3.6/site-packages/numpy/core/fromnumeric.py\u001b[0m in \u001b[0;36m_wrapreduction\u001b[0;34m(obj, ufunc, method, axis, dtype, out, **kwargs)\u001b[0m\n\u001b[1;32m     88\u001b[0m                 \u001b[0;32mreturn\u001b[0m \u001b[0mreduction\u001b[0m\u001b[0;34m(\u001b[0m\u001b[0maxis\u001b[0m\u001b[0;34m=\u001b[0m\u001b[0maxis\u001b[0m\u001b[0;34m,\u001b[0m \u001b[0mout\u001b[0m\u001b[0;34m=\u001b[0m\u001b[0mout\u001b[0m\u001b[0;34m,\u001b[0m \u001b[0;34m**\u001b[0m\u001b[0mpasskwargs\u001b[0m\u001b[0;34m)\u001b[0m\u001b[0;34m\u001b[0m\u001b[0;34m\u001b[0m\u001b[0m\n\u001b[1;32m     89\u001b[0m \u001b[0;34m\u001b[0m\u001b[0m\n\u001b[0;32m---> 90\u001b[0;31m     \u001b[0;32mreturn\u001b[0m \u001b[0mufunc\u001b[0m\u001b[0;34m.\u001b[0m\u001b[0mreduce\u001b[0m\u001b[0;34m(\u001b[0m\u001b[0mobj\u001b[0m\u001b[0;34m,\u001b[0m \u001b[0maxis\u001b[0m\u001b[0;34m,\u001b[0m \u001b[0mdtype\u001b[0m\u001b[0;34m,\u001b[0m \u001b[0mout\u001b[0m\u001b[0;34m,\u001b[0m \u001b[0;34m**\u001b[0m\u001b[0mpasskwargs\u001b[0m\u001b[0;34m)\u001b[0m\u001b[0;34m\u001b[0m\u001b[0;34m\u001b[0m\u001b[0m\n\u001b[0m\u001b[1;32m     91\u001b[0m \u001b[0;34m\u001b[0m\u001b[0m\n\u001b[1;32m     92\u001b[0m \u001b[0;34m\u001b[0m\u001b[0m\n",
      "\u001b[0;31mValueError\u001b[0m: zero-size array to reduction operation maximum which has no identity"
     ]
    }
   ],
   "source": [
    "sherlock = Sherlock(\n",
    "    n_init=5,\n",
    "    budget=int(X.shape[0]*0.01),\n",
    "    surrogate_type=\"rbfthin_plate-rbf_multiquadric-randomforest-gpy\", #rbfthin_plate-rbf_multiquadric-randomforest-gpy\n",
    "    kernel=\"matern\",\n",
    "    num_restarts=0,\n",
    "    pareto_margin=0,\n",
    "    y_hint=None,\n",
    "    output_stats=\"\", #\"adrs,dcor,dcor_energy,entropy,pareto_score,next_action\",\n",
    "    plot_design_space=True,\n",
    "    use_ted_in_loop=False,\n",
    "    request_output=lambda y, idx: None,\n",
    "    action_only=None,\n",
    "    n_hint_init=0,\n",
    "    scale_output=True,\n",
    "    use_trace_as_prior=True,\n",
    "    model_selection_type=\"mab10\")\n",
    "\n",
    "sherlock.fit(X).predict(X,y)\n",
    "err = adrs(y, sherlock.known_idx, approximate=True)\n",
    "print(err)"
   ]
  },
  {
   "cell_type": "code",
   "execution_count": null,
   "metadata": {},
   "outputs": [],
   "source": [
    "sherlock = Sherlock(\n",
    "    n_init=5,\n",
    "    budget=int(X.shape[0]*0.02),\n",
    "    surrogate_type=\"rbfthin_plate-rbf_multiquadric-randomforest-gpy\", #rbfthin_plate-rbf_multiquadric-randomforest-gpy\n",
    "    kernel=\"matern\",\n",
    "    num_restarts=0,\n",
    "    pareto_margin=0,\n",
    "    y_hint=None,\n",
    "    output_stats=\"\", #\"adrs,dcor,dcor_energy,entropy,pareto_score,next_action\",\n",
    "    plot_design_space=True,\n",
    "    use_ted_in_loop=False,\n",
    "    request_output=lambda y, idx: None,\n",
    "    action_only=None,\n",
    "    n_hint_init=0,\n",
    "    scale_output=True,\n",
    "    use_trace_as_prior=True,\n",
    "    model_selection_type=\"mab10\")\n",
    "\n",
    "sherlock.fit(X).predict(X,y)\n",
    "err = adrs(y, sherlock.known_idx, approximate=True)\n",
    "print(err)"
   ]
  },
  {
   "cell_type": "code",
   "execution_count": null,
   "metadata": {},
   "outputs": [],
   "source": [
    "sherlock = Sherlock(\n",
    "    n_init=5,\n",
    "    budget=int(X.shape[0]*0.05),\n",
    "    surrogate_type=\"rbfthin_plate-rbf_multiquadric-randomforest-gpy\", #rbfthin_plate-rbf_multiquadric-randomforest-gpy\n",
    "    kernel=\"matern\",\n",
    "    num_restarts=0,\n",
    "    pareto_margin=0,\n",
    "    y_hint=None,\n",
    "    output_stats=\"\", #\"adrs,dcor,dcor_energy,entropy,pareto_score,next_action\",\n",
    "    plot_design_space=True,\n",
    "    use_ted_in_loop=False,\n",
    "    request_output=lambda y, idx: None,\n",
    "    action_only=None,\n",
    "    n_hint_init=0,\n",
    "    scale_output=True,\n",
    "    use_trace_as_prior=True,\n",
    "    model_selection_type=\"mab10\")\n",
    "\n",
    "sherlock.fit(X).predict(X,y)\n",
    "err = adrs(y, sherlock.known_idx, approximate=True)\n",
    "print(err)"
   ]
  },
  {
   "cell_type": "code",
   "execution_count": null,
   "metadata": {},
   "outputs": [],
   "source": [
    "sherlock = Sherlock(\n",
    "    n_init=5,\n",
    "    budget=int(X.shape[0]*0.1),\n",
    "    surrogate_type=\"rbfthin_plate-rbf_multiquadric-randomforest-gpy\", #rbfthin_plate-rbf_multiquadric-randomforest-gpy\n",
    "    kernel=\"matern\",\n",
    "    num_restarts=0,\n",
    "    pareto_margin=0,\n",
    "    y_hint=None,\n",
    "    output_stats=\"\", #\"adrs,dcor,dcor_energy,entropy,pareto_score,next_action\",\n",
    "    plot_design_space=True,\n",
    "    use_ted_in_loop=False,\n",
    "    request_output=lambda y, idx: None,\n",
    "    action_only=None,\n",
    "    n_hint_init=0,\n",
    "    scale_output=True,\n",
    "    use_trace_as_prior=True,\n",
    "    model_selection_type=\"mab10\")\n",
    "\n",
    "sherlock.fit(X).predict(X,y)\n",
    "err = adrs(y, sherlock.known_idx, approximate=True)\n",
    "print(err)"
   ]
  },
  {
   "cell_type": "code",
   "execution_count": null,
   "metadata": {},
   "outputs": [],
   "source": [
    "sherlock = Sherlock(\n",
    "    n_init=5,\n",
    "    budget=int(X.shape[0]*0.2),\n",
    "    surrogate_type=\"rbfthin_plate-rbf_multiquadric-randomforest-gpy\", #rbfthin_plate-rbf_multiquadric-randomforest-gpy\n",
    "    kernel=\"matern\",\n",
    "    num_restarts=0,\n",
    "    pareto_margin=0,\n",
    "    y_hint=None,\n",
    "    output_stats=\"\", #\"adrs,dcor,dcor_energy,entropy,pareto_score,next_action\",\n",
    "    plot_design_space=True,\n",
    "    use_ted_in_loop=False,\n",
    "    request_output=lambda y, idx: None,\n",
    "    action_only=None,\n",
    "    n_hint_init=0,\n",
    "    scale_output=True,\n",
    "    use_trace_as_prior=True,\n",
    "    model_selection_type=\"mab10\")\n",
    "\n",
    "sherlock.fit(X).predict(X,y)\n",
    "err = adrs(y, sherlock.known_idx, approximate=True)\n",
    "print(err)"
   ]
  }
 ],
 "metadata": {
  "kernelspec": {
   "display_name": "Python 3",
   "language": "python",
   "name": "python3"
  },
  "language_info": {
   "codemirror_mode": {
    "name": "ipython",
    "version": 3
   },
   "file_extension": ".py",
   "mimetype": "text/x-python",
   "name": "python",
   "nbconvert_exporter": "python",
   "pygments_lexer": "ipython3",
   "version": "3.6.10"
  }
 },
 "nbformat": 4,
 "nbformat_minor": 1
}
