{
 "cells": [
  {
   "cell_type": "markdown",
   "metadata": {},
   "source": [
    "Import Packages"
   ]
  },
  {
   "cell_type": "code",
   "execution_count": 1,
   "metadata": {},
   "outputs": [],
   "source": [
    "# %matplotlib notebook\n",
    "\n",
    "%reload_ext autoreload\n",
    "import os,sys\n",
    "import numpy as np\n",
    "import pandas as pd\n",
    "import matplotlib.pyplot as plt\n",
    "sys.path.append('./Sherlock_files')\n",
    "from sklearn.preprocessing import normalize, PolynomialFeatures, scale\n",
    "\n",
    "%aimport Sherlock\n",
    "from Sherlock import Sherlock\n",
    "from RBF import bases\n",
    "from utils import adrs, read_design_space, approximate_pareto\n",
    "import dcor\n",
    "\n",
    "try: import GPy\n",
    "except: pass\n",
    "\n",
    "import warnings\n",
    "warnings.filterwarnings(\"ignore\", category=RuntimeWarning)\n",
    "\n",
    "import logging\n",
    "logging.basicConfig(format='%(asctime)s %(levelname)s:%(message)s', level=logging.ERROR, datefmt='%I:%M:%S')\n",
    "\n",
    "%autoreload 1"
   ]
  },
  {
   "cell_type": "markdown",
   "metadata": {},
   "source": [
    "Read the Design Space "
   ]
  },
  {
   "cell_type": "code",
   "execution_count": 2,
   "metadata": {},
   "outputs": [],
   "source": [
    "X, y, _, names, _ = read_design_space('../asic/asic_catapult_matmul_latency_sherlock.csv',\n",
    "                                      use_hint=False, random_factor=0.0, hint_random_factor=0.0,\n",
    "                                      return_names=True)"
   ]
  },
  {
   "cell_type": "markdown",
   "metadata": {},
   "source": [
    "Plot the design Space"
   ]
  },
  {
   "cell_type": "code",
   "execution_count": 3,
   "metadata": {},
   "outputs": [
    {
     "data": {
      "image/png": "[encoded data removed]",
      "text/plain": [
       "<Figure size 432x288 with 1 Axes>"
      ]
     },
     "metadata": {
      "needs_background": "light"
     },
     "output_type": "display_data"
    }
   ],
   "source": [
    "plt.figure()\n",
    "y_pareto = approximate_pareto(y)[0]\n",
    "plt.scatter(y[:,0], y[:,1])\n",
    "plt.scatter(y_pareto[:,0], y_pareto[:,1])\n",
    "plt.xlabel(\"1/\" + names[-2])\n",
    "plt.ylabel(\"1/\" + names[-1])\n",
    "plt.xlim(left=y[:,0].min()*0.95, right=y[:,0].max()*1.05)\n",
    "plt.ylim(bottom=y[:,1].min()*0.95, top=y[:,1].max()*1.05)\n",
    "plt.show()"
   ]
  },
  {
   "cell_type": "markdown",
   "metadata": {},
   "source": [
    "Run Sherlock"
   ]
  },
  {
   "cell_type": "code",
   "execution_count": null,
   "metadata": {},
   "outputs": [],
   "source": [
    "sherlock = Sherlock(\n",
    "    n_init=5,\n",
    "    budget=int(X.shape[0]*0.01),\n",
    "    surrogate_type=\"rbfthin_plate-rbf_multiquadric-randomforest-gpy\", #rbfthin_plate-rbf_multiquadric-randomforest-gpy\n",
    "    kernel=\"matern\",\n",
    "    num_restarts=0,\n",
    "    pareto_margin=0,\n",
    "    y_hint=None,\n",
    "    output_stats=\"\", #\"adrs,dcor,dcor_energy,entropy,pareto_score,next_action\",\n",
    "    plot_design_space=True,\n",
    "    use_ted_in_loop=False,\n",
    "    request_output=lambda y, idx: None,\n",
    "    action_only=None,\n",
    "    n_hint_init=0,\n",
    "    scale_output=True,\n",
    "    use_trace_as_prior=True,\n",
    "    model_selection_type=\"mab10\")\n",
    "\n",
    "sherlock.fit(X).predict(X,y)\n",
    "err = adrs(y, sherlock.known_idx, approximate=True)\n",
    "print(err)"
   ]
  },
  {
   "cell_type": "code",
   "execution_count": null,
   "metadata": {},
   "outputs": [],
   "source": [
    "sherlock = Sherlock(\n",
    "    n_init=5,\n",
    "    budget=int(X.shape[0]*0.02),\n",
    "    surrogate_type=\"rbfthin_plate-rbf_multiquadric-randomforest-gpy\", #rbfthin_plate-rbf_multiquadric-randomforest-gpy\n",
    "    kernel=\"matern\",\n",
    "    num_restarts=0,\n",
    "    pareto_margin=0,\n",
    "    y_hint=None,\n",
    "    output_stats=\"\", #\"adrs,dcor,dcor_energy,entropy,pareto_score,next_action\",\n",
    "    plot_design_space=True,\n",
    "    use_ted_in_loop=False,\n",
    "    request_output=lambda y, idx: None,\n",
    "    action_only=None,\n",
    "    n_hint_init=0,\n",
    "    scale_output=True,\n",
    "    use_trace_as_prior=True,\n",
    "    model_selection_type=\"mab10\")\n",
    "\n",
    "sherlock.fit(X).predict(X,y)\n",
    "err = adrs(y, sherlock.known_idx, approximate=True)\n",
    "print(err)"
   ]
  },
  {
   "cell_type": "code",
   "execution_count": null,
   "metadata": {},
   "outputs": [],
   "source": [
    "sherlock = Sherlock(\n",
    "    n_init=5,\n",
    "    budget=int(X.shape[0]*0.05),\n",
    "    surrogate_type=\"rbfthin_plate-rbf_multiquadric-randomforest-gpy\", #rbfthin_plate-rbf_multiquadric-randomforest-gpy\n",
    "    kernel=\"matern\",\n",
    "    num_restarts=0,\n",
    "    pareto_margin=0,\n",
    "    y_hint=None,\n",
    "    output_stats=\"\", #\"adrs,dcor,dcor_energy,entropy,pareto_score,next_action\",\n",
    "    plot_design_space=True,\n",
    "    use_ted_in_loop=False,\n",
    "    request_output=lambda y, idx: None,\n",
    "    action_only=None,\n",
    "    n_hint_init=0,\n",
    "    scale_output=True,\n",
    "    use_trace_as_prior=True,\n",
    "    model_selection_type=\"mab10\")\n",
    "\n",
    "sherlock.fit(X).predict(X,y)\n",
    "err = adrs(y, sherlock.known_idx, approximate=True)\n",
    "print(err)"
   ]
  },
  {
   "cell_type": "code",
   "execution_count": null,
   "metadata": {},
   "outputs": [],
   "source": [
    "sherlock = Sherlock(\n",
    "    n_init=5,\n",
    "    budget=int(X.shape[0]*0.1),\n",
    "    surrogate_type=\"rbfthin_plate-rbf_multiquadric-randomforest-gpy\", #rbfthin_plate-rbf_multiquadric-randomforest-gpy\n",
    "    kernel=\"matern\",\n",
    "    num_restarts=0,\n",
    "    pareto_margin=0,\n",
    "    y_hint=None,\n",
    "    output_stats=\"\", #\"adrs,dcor,dcor_energy,entropy,pareto_score,next_action\",\n",
    "    plot_design_space=True,\n",
    "    use_ted_in_loop=False,\n",
    "    request_output=lambda y, idx: None,\n",
    "    action_only=None,\n",
    "    n_hint_init=0,\n",
    "    scale_output=True,\n",
    "    use_trace_as_prior=True,\n",
    "    model_selection_type=\"mab10\")\n",
    "\n",
    "sherlock.fit(X).predict(X,y)\n",
    "err = adrs(y, sherlock.known_idx, approximate=True)\n",
    "print(err)"
   ]
  },
  {
   "cell_type": "code",
   "execution_count": null,
   "metadata": {},
   "outputs": [],
   "source": [
    "a=[1,2,5,10]\n",
    "err=[0.029384904646790243,0.013698630136986304,0,0]\n",
    "plt.plot(a,err)\n",
    "plt.title(\"Catapult Latency\")\n",
    "plt.xlabel(\"Percentage\")\n",
    "plt.ylabel(\"Error\")"
   ]
  }
 ],
 "metadata": {
  "kernelspec": {
   "display_name": "Python 3",
   "language": "python",
   "name": "python3"
  },
  "language_info": {
   "codemirror_mode": {
    "name": "ipython",
    "version": 3
   },
   "file_extension": ".py",
   "mimetype": "text/x-python",
   "name": "python",
   "nbconvert_exporter": "python",
   "pygments_lexer": "ipython3",
   "version": "3.6.9"
  }
 },
 "nbformat": 4,
 "nbformat_minor": 4
}
