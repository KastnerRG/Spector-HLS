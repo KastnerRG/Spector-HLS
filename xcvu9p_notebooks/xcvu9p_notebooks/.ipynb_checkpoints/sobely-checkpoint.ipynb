{
 "cells": [
  {
   "cell_type": "markdown",
   "metadata": {},
   "source": [
    "Import packages."
   ]
  },
  {
   "cell_type": "code",
   "execution_count": 1,
   "metadata": {},
   "outputs": [],
   "source": [
    "# %matplotlib notebook\n",
    "\n",
    "%reload_ext autoreload\n",
    "import os,sys\n",
    "import numpy as np\n",
    "import pandas as pd\n",
    "import matplotlib.pyplot as plt\n",
    "from sklearn.preprocessing import normalize, PolynomialFeatures, scale\n",
    "\n",
    "%aimport Sherlock\n",
    "from Sherlock import Sherlock\n",
    "from RBF import bases\n",
    "from utils import adrs, read_design_space, approximate_pareto\n",
    "import dcor\n",
    "\n",
    "try: import GPy\n",
    "except: pass\n",
    "\n",
    "import warnings\n",
    "warnings.filterwarnings(\"ignore\", category=RuntimeWarning)\n",
    "\n",
    "import logging\n",
    "logging.basicConfig(format='%(asctime)s %(levelname)s:%(message)s', level=logging.ERROR, datefmt='%I:%M:%S')\n",
    "\n",
    "%autoreload 1"
   ]
  },
  {
   "cell_type": "markdown",
   "metadata": {},
   "source": [
    "Read the design space."
   ]
  },
  {
   "cell_type": "code",
   "execution_count": 3,
   "metadata": {},
   "outputs": [],
   "source": [
    "X, y, _, names, _ = read_design_space('./final_result_impl_sobely.csv',\n",
    "                                      use_hint=False, random_factor=0.0, hint_random_factor=0.0,\n",
    "                                      return_names=True)"
   ]
  },
  {
   "cell_type": "markdown",
   "metadata": {},
   "source": [
    "Plot the design space."
   ]
  },
  {
   "cell_type": "code",
   "execution_count": 4,
   "metadata": {},
   "outputs": [
    {
     "data": {
      "image/png": "[encoded data removed]",
      "text/plain": [
       "<Figure size 432x288 with 1 Axes>"
      ]
     },
     "metadata": {
      "needs_background": "light"
     },
     "output_type": "display_data"
    }
   ],
   "source": [
    "plt.figure()\n",
    "y_pareto = approximate_pareto(y)[0]\n",
    "plt.scatter(y[:,0], y[:,1])\n",
    "plt.scatter(y_pareto[:,0], y_pareto[:,1])\n",
    "plt.xlabel(\"1/\" + names[-2])\n",
    "plt.ylabel(\"1/\" + names[-1])\n",
    "plt.xlim(left=y[:,0].min()*0.95, right=y[:,0].max()*1.05)\n",
    "plt.ylim(bottom=y[:,1].min()*0.95, top=y[:,1].max()*1.05)\n",
    "plt.show()"
   ]
  },
  {
   "cell_type": "markdown",
   "metadata": {},
   "source": [
    "Run Sherlock."
   ]
  },
  {
   "cell_type": "code",
   "execution_count": null,
   "metadata": {
    "scrolled": true
   },
   "outputs": [
    {
     "name": "stderr",
     "output_type": "stream",
     "text": [
      "Process Process-156:\n",
      "Traceback (most recent call last):\n",
      "  File \"/home/awsgui/anaconda3/lib/python3.7/multiprocessing/process.py\", line 297, in _bootstrap\n",
      "    self.run()\n",
      "  File \"/home/awsgui/anaconda3/lib/python3.7/multiprocessing/process.py\", line 99, in run\n",
      "    self._target(*self._args, **self._kwargs)\n",
      "  File \"/home/awsgui/xcvu9p/Sherlock.py\", line 94, in model_predict\n",
      "    surrogate_f.optimize()\n",
      "  File \"/home/awsgui/anaconda3/lib/python3.7/site-packages/GPy/core/gp.py\", line 659, in optimize\n",
      "    ret = super(GP, self).optimize(optimizer, start, messages, max_iters, ipython_notebook, clear_after_finish, **kwargs)\n",
      "  File \"/home/awsgui/anaconda3/lib/python3.7/site-packages/paramz/model.py\", line 113, in optimize\n",
      "    self.optimizer_array = opt.x_opt\n",
      "  File \"/home/awsgui/anaconda3/lib/python3.7/site-packages/paramz/parameterized.py\", line 339, in __setattr__\n",
      "    return object.__setattr__(self, name, val)\n",
      "  File \"/home/awsgui/anaconda3/lib/python3.7/site-packages/paramz/core/parameter_core.py\", line 124, in optimizer_array\n",
      "    self.trigger_update()\n",
      "  File \"/home/awsgui/anaconda3/lib/python3.7/site-packages/paramz/core/updateable.py\", line 79, in trigger_update\n",
      "    self._trigger_params_changed(trigger_parent)\n",
      "  File \"/home/awsgui/anaconda3/lib/python3.7/site-packages/paramz/core/parameter_core.py\", line 134, in _trigger_params_changed\n",
      "    self.notify_observers(None, None if trigger_parent else -np.inf)\n",
      "  File \"/home/awsgui/anaconda3/lib/python3.7/site-packages/paramz/core/observable.py\", line 91, in notify_observers\n",
      "    [callble(self, which=which) for _, _, callble in self.observers]\n",
      "  File \"/home/awsgui/anaconda3/lib/python3.7/site-packages/paramz/core/observable.py\", line 91, in <listcomp>\n",
      "    [callble(self, which=which) for _, _, callble in self.observers]\n",
      "  File \"/home/awsgui/anaconda3/lib/python3.7/site-packages/paramz/core/parameter_core.py\", line 508, in _parameters_changed_notification\n",
      "    self.parameters_changed()\n",
      "  File \"/home/awsgui/anaconda3/lib/python3.7/site-packages/GPy/core/gp.py\", line 267, in parameters_changed\n",
      "    self.posterior, self._log_marginal_likelihood, self.grad_dict = self.inference_method.inference(self.kern, self.X, self.likelihood, self.Y_normalized, self.mean_function, self.Y_metadata)\n",
      "  File \"/home/awsgui/anaconda3/lib/python3.7/site-packages/GPy/inference/latent_function_inference/exact_gaussian_inference.py\", line 58, in inference\n",
      "    Wi, LW, LWi, W_logdet = pdinv(Ky)\n",
      "  File \"/home/awsgui/anaconda3/lib/python3.7/site-packages/GPy/util/linalg.py\", line 207, in pdinv\n",
      "    L = jitchol(A, *args)\n",
      "  File \"/home/awsgui/anaconda3/lib/python3.7/site-packages/GPy/util/linalg.py\", line 75, in jitchol\n",
      "    raise linalg.LinAlgError(\"not positive definite, even with jitter.\")\n",
      "numpy.linalg.LinAlgError: not positive definite, even with jitter.\n"
     ]
    }
   ],
   "source": [
    "sherlock = Sherlock(\n",
    "    n_init=5,\n",
    "    budget=int(X.shape[0]*0.31),\n",
    "    surrogate_type=\"rbfthin_plate-rbf_multiquadric-randomforest-gpy\", #rbfthin_plate-rbf_multiquadric-randomforest-gpy\n",
    "    kernel=\"matern\",\n",
    "    num_restarts=0,\n",
    "    pareto_margin=0,\n",
    "    y_hint=None,\n",
    "    output_stats=\"\", #\"adrs,dcor,dcor_energy,entropy,pareto_score,next_action\",\n",
    "    plot_design_space=True,\n",
    "    use_ted_in_loop=False,\n",
    "    request_output=lambda y, idx: None,\n",
    "    action_only=None,\n",
    "    n_hint_init=0,\n",
    "    scale_output=True,\n",
    "    use_trace_as_prior=True,\n",
    "    model_selection_type=\"mab10\")\n",
    "\n",
    "sherlock.fit(X).predict(X,y)\n",
    "err = adrs(y, sherlock.known_idx, approximate=True)\n",
    "print(err)"
   ]
  },
  {
   "cell_type": "code",
   "execution_count": null,
   "metadata": {},
   "outputs": [],
   "source": [
    "sherlock.known_idx"
   ]
  },
  {
   "cell_type": "code",
   "execution_count": null,
   "metadata": {},
   "outputs": [],
   "source": []
  }
 ],
 "metadata": {
  "kernelspec": {
   "display_name": "Python 3",
   "language": "python",
   "name": "python3"
  },
  "language_info": {
   "codemirror_mode": {
    "name": "ipython",
    "version": 3
   },
   "file_extension": ".py",
   "mimetype": "text/x-python",
   "name": "python",
   "nbconvert_exporter": "python",
   "pygments_lexer": "ipython3",
   "version": "3.7.4"
  }
 },
 "nbformat": 4,
 "nbformat_minor": 1
}
