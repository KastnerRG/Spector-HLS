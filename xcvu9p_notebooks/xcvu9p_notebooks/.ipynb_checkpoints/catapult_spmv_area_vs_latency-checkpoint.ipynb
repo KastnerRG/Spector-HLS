{
 "cells": [
  {
   "cell_type": "code",
   "execution_count": 32,
   "metadata": {},
   "outputs": [],
   "source": [
    "import numpy as np\n",
    "import pandas as pd\n",
    "from matplotlib import pyplot as plt\n",
    "import matplotlib.patches as mpatches"
   ]
  },
  {
   "cell_type": "code",
   "execution_count": 33,
   "metadata": {},
   "outputs": [],
   "source": [
    "cdfx = pd.read_csv(\"./catapult_spmv_latency.csv\", index_col=0)\n",
    "vdfx = pd.read_csv(\"./catapult_spmv_area.csv\", index_col=0)\n",
    "cdfx['throughput'] = cdfx['obj1'].min()*1/cdfx['obj1']\n",
    "vdfx['throughput'] = cdfx['obj1'].min()*1/vdfx['obj1']\n",
    "cdfx['ff_inv'] = 1/cdfx['ff']\n",
    "vdfx['ff_inv'] = 1/vdfx['ff']\n",
    "cdfx['lut_inv'] = 1/cdfx['lut']\n",
    "vdfx['lut_inv'] = 1/vdfx['lut']\n",
    "cdfx['1/obj2'] = cdfx['obj2'].min()*1/cdfx['obj2']\n",
    "vdfx['1/obj2'] = cdfx['obj2'].min()*1/vdfx['obj2']\n",
    "cdfx['clbUtil'] = cdfx['obj2']/147780\n",
    "vdfx['clbUtil'] = vdfx['obj2']/147780\n",
    "cdfx['mem_partition_size1'] = cdfx['knob_array_part1']\n",
    "vdfx['mem_partition_size1'] = vdfx['knob_array_part1']\n",
    "cdfx['mem_partition_size2'] = cdfx['knob_array_part2']\n",
    "vdfx['mem_partition_size2'] = vdfx['knob_array_part2']\n",
    "# drop columns\n",
    "cdfx = cdfx.drop(columns=['knob_I_B'])\n",
    "cdfx = cdfx.drop(columns=['knob_array_part1'])\n",
    "cdfx = cdfx.drop(columns=['knob_array_part2'])\n",
    "\n",
    "vdfx = vdfx.drop(columns=['knob_I_B'])\n",
    "vdfx = vdfx.drop(columns=['knob_array_part1'])\n",
    "vdfx = vdfx.drop(columns=['knob_array_part2'])\n"
   ]
  },
  {
   "cell_type": "code",
   "execution_count": 34,
   "metadata": {},
   "outputs": [
    {
     "name": "stdout",
     "output_type": "stream",
     "text": [
      "knob_UNROLL_F          2863\n",
      "knob_outer_unroll      2863\n",
      "knob_inner_unroll1     2863\n",
      "knob_inner_unroll2     2863\n",
      "obj1                   2863\n",
      "obj2                   2863\n",
      "lut                    2863\n",
      "ff                     2863\n",
      "dsp                    2863\n",
      "bram                   2863\n",
      "throughput             2863\n",
      "ff_inv                 2863\n",
      "lut_inv                2863\n",
      "1/obj2                 2863\n",
      "clbUtil                2863\n",
      "mem_partition_size1    2863\n",
      "mem_partition_size2    2863\n",
      "dtype: int64\n"
     ]
    },
    {
     "data": {
      "text/html": [
       "<div>\n",
       "<style scoped>\n",
       "    .dataframe tbody tr th:only-of-type {\n",
       "        vertical-align: middle;\n",
       "    }\n",
       "\n",
       "    .dataframe tbody tr th {\n",
       "        vertical-align: top;\n",
       "    }\n",
       "\n",
       "    .dataframe thead th {\n",
       "        text-align: right;\n",
       "    }\n",
       "</style>\n",
       "<table border=\"1\" class=\"dataframe\">\n",
       "  <thead>\n",
       "    <tr style=\"text-align: right;\">\n",
       "      <th></th>\n",
       "      <th>knob_UNROLL_F</th>\n",
       "      <th>knob_outer_unroll</th>\n",
       "      <th>knob_inner_unroll1</th>\n",
       "      <th>knob_inner_unroll2</th>\n",
       "      <th>obj1</th>\n",
       "      <th>obj2</th>\n",
       "      <th>lut</th>\n",
       "      <th>ff</th>\n",
       "      <th>dsp</th>\n",
       "      <th>bram</th>\n",
       "      <th>throughput</th>\n",
       "      <th>ff_inv</th>\n",
       "      <th>lut_inv</th>\n",
       "      <th>1/obj2</th>\n",
       "      <th>clbUtil</th>\n",
       "      <th>mem_partition_size1</th>\n",
       "      <th>mem_partition_size2</th>\n",
       "    </tr>\n",
       "    <tr>\n",
       "      <th>n</th>\n",
       "      <th></th>\n",
       "      <th></th>\n",
       "      <th></th>\n",
       "      <th></th>\n",
       "      <th></th>\n",
       "      <th></th>\n",
       "      <th></th>\n",
       "      <th></th>\n",
       "      <th></th>\n",
       "      <th></th>\n",
       "      <th></th>\n",
       "      <th></th>\n",
       "      <th></th>\n",
       "      <th></th>\n",
       "      <th></th>\n",
       "      <th></th>\n",
       "      <th></th>\n",
       "    </tr>\n",
       "  </thead>\n",
       "  <tbody>\n",
       "    <tr>\n",
       "      <th>1</th>\n",
       "      <td>2</td>\n",
       "      <td>1</td>\n",
       "      <td>1</td>\n",
       "      <td>1</td>\n",
       "      <td>0.000147</td>\n",
       "      <td>113</td>\n",
       "      <td>572</td>\n",
       "      <td>434</td>\n",
       "      <td>1</td>\n",
       "      <td>0</td>\n",
       "      <td>0.204082</td>\n",
       "      <td>0.002304</td>\n",
       "      <td>0.001748</td>\n",
       "      <td>0.805310</td>\n",
       "      <td>0.000765</td>\n",
       "      <td>512</td>\n",
       "      <td>2</td>\n",
       "    </tr>\n",
       "    <tr>\n",
       "      <th>2</th>\n",
       "      <td>2</td>\n",
       "      <td>1</td>\n",
       "      <td>1</td>\n",
       "      <td>1</td>\n",
       "      <td>0.000175</td>\n",
       "      <td>178</td>\n",
       "      <td>755</td>\n",
       "      <td>444</td>\n",
       "      <td>1</td>\n",
       "      <td>0</td>\n",
       "      <td>0.171429</td>\n",
       "      <td>0.002252</td>\n",
       "      <td>0.001325</td>\n",
       "      <td>0.511236</td>\n",
       "      <td>0.001204</td>\n",
       "      <td>512</td>\n",
       "      <td>4</td>\n",
       "    </tr>\n",
       "    <tr>\n",
       "      <th>3</th>\n",
       "      <td>2</td>\n",
       "      <td>1</td>\n",
       "      <td>1</td>\n",
       "      <td>1</td>\n",
       "      <td>0.000171</td>\n",
       "      <td>171</td>\n",
       "      <td>739</td>\n",
       "      <td>444</td>\n",
       "      <td>1</td>\n",
       "      <td>0</td>\n",
       "      <td>0.175439</td>\n",
       "      <td>0.002252</td>\n",
       "      <td>0.001353</td>\n",
       "      <td>0.532164</td>\n",
       "      <td>0.001157</td>\n",
       "      <td>512</td>\n",
       "      <td>8</td>\n",
       "    </tr>\n",
       "    <tr>\n",
       "      <th>4</th>\n",
       "      <td>2</td>\n",
       "      <td>1</td>\n",
       "      <td>1</td>\n",
       "      <td>1</td>\n",
       "      <td>0.000226</td>\n",
       "      <td>236</td>\n",
       "      <td>1014</td>\n",
       "      <td>460</td>\n",
       "      <td>1</td>\n",
       "      <td>0</td>\n",
       "      <td>0.132743</td>\n",
       "      <td>0.002174</td>\n",
       "      <td>0.000986</td>\n",
       "      <td>0.385593</td>\n",
       "      <td>0.001597</td>\n",
       "      <td>512</td>\n",
       "      <td>16</td>\n",
       "    </tr>\n",
       "    <tr>\n",
       "      <th>5</th>\n",
       "      <td>2</td>\n",
       "      <td>1</td>\n",
       "      <td>1</td>\n",
       "      <td>1</td>\n",
       "      <td>0.000204</td>\n",
       "      <td>262</td>\n",
       "      <td>1014</td>\n",
       "      <td>460</td>\n",
       "      <td>1</td>\n",
       "      <td>0</td>\n",
       "      <td>0.147059</td>\n",
       "      <td>0.002174</td>\n",
       "      <td>0.000986</td>\n",
       "      <td>0.347328</td>\n",
       "      <td>0.001773</td>\n",
       "      <td>512</td>\n",
       "      <td>32</td>\n",
       "    </tr>\n",
       "  </tbody>\n",
       "</table>\n",
       "</div>"
      ],
      "text/plain": [
       "   knob_UNROLL_F  knob_outer_unroll  knob_inner_unroll1  knob_inner_unroll2  \\\n",
       "n                                                                             \n",
       "1              2                  1                   1                   1   \n",
       "2              2                  1                   1                   1   \n",
       "3              2                  1                   1                   1   \n",
       "4              2                  1                   1                   1   \n",
       "5              2                  1                   1                   1   \n",
       "\n",
       "       obj1  obj2   lut   ff  dsp  bram  throughput    ff_inv   lut_inv  \\\n",
       "n                                                                         \n",
       "1  0.000147   113   572  434    1     0    0.204082  0.002304  0.001748   \n",
       "2  0.000175   178   755  444    1     0    0.171429  0.002252  0.001325   \n",
       "3  0.000171   171   739  444    1     0    0.175439  0.002252  0.001353   \n",
       "4  0.000226   236  1014  460    1     0    0.132743  0.002174  0.000986   \n",
       "5  0.000204   262  1014  460    1     0    0.147059  0.002174  0.000986   \n",
       "\n",
       "     1/obj2   clbUtil  mem_partition_size1  mem_partition_size2  \n",
       "n                                                                \n",
       "1  0.805310  0.000765                  512                    2  \n",
       "2  0.511236  0.001204                  512                    4  \n",
       "3  0.532164  0.001157                  512                    8  \n",
       "4  0.385593  0.001597                  512                   16  \n",
       "5  0.347328  0.001773                  512                   32  "
      ]
     },
     "execution_count": 34,
     "metadata": {},
     "output_type": "execute_result"
    }
   ],
   "source": [
    "print(cdfx.count())\n",
    "cdfx.head()"
   ]
  },
  {
   "cell_type": "code",
   "execution_count": 35,
   "metadata": {},
   "outputs": [
    {
     "name": "stdout",
     "output_type": "stream",
     "text": [
      "knob_UNROLL_F          2880\n",
      "knob_outer_unroll      2880\n",
      "knob_inner_unroll1     2880\n",
      "knob_inner_unroll2     2880\n",
      "obj1                   2880\n",
      "obj2                   2880\n",
      "lut                    2880\n",
      "ff                     2880\n",
      "dsp                    2880\n",
      "bram                   2880\n",
      "throughput             2880\n",
      "ff_inv                 2880\n",
      "lut_inv                2880\n",
      "1/obj2                 2880\n",
      "clbUtil                2880\n",
      "mem_partition_size1    2880\n",
      "mem_partition_size2    2880\n",
      "dtype: int64\n"
     ]
    },
    {
     "data": {
      "text/html": [
       "<div>\n",
       "<style scoped>\n",
       "    .dataframe tbody tr th:only-of-type {\n",
       "        vertical-align: middle;\n",
       "    }\n",
       "\n",
       "    .dataframe tbody tr th {\n",
       "        vertical-align: top;\n",
       "    }\n",
       "\n",
       "    .dataframe thead th {\n",
       "        text-align: right;\n",
       "    }\n",
       "</style>\n",
       "<table border=\"1\" class=\"dataframe\">\n",
       "  <thead>\n",
       "    <tr style=\"text-align: right;\">\n",
       "      <th></th>\n",
       "      <th>knob_UNROLL_F</th>\n",
       "      <th>knob_outer_unroll</th>\n",
       "      <th>knob_inner_unroll1</th>\n",
       "      <th>knob_inner_unroll2</th>\n",
       "      <th>obj1</th>\n",
       "      <th>obj2</th>\n",
       "      <th>lut</th>\n",
       "      <th>ff</th>\n",
       "      <th>dsp</th>\n",
       "      <th>bram</th>\n",
       "      <th>throughput</th>\n",
       "      <th>ff_inv</th>\n",
       "      <th>lut_inv</th>\n",
       "      <th>1/obj2</th>\n",
       "      <th>clbUtil</th>\n",
       "      <th>mem_partition_size1</th>\n",
       "      <th>mem_partition_size2</th>\n",
       "    </tr>\n",
       "    <tr>\n",
       "      <th>n</th>\n",
       "      <th></th>\n",
       "      <th></th>\n",
       "      <th></th>\n",
       "      <th></th>\n",
       "      <th></th>\n",
       "      <th></th>\n",
       "      <th></th>\n",
       "      <th></th>\n",
       "      <th></th>\n",
       "      <th></th>\n",
       "      <th></th>\n",
       "      <th></th>\n",
       "      <th></th>\n",
       "      <th></th>\n",
       "      <th></th>\n",
       "      <th></th>\n",
       "      <th></th>\n",
       "    </tr>\n",
       "  </thead>\n",
       "  <tbody>\n",
       "    <tr>\n",
       "      <th>0</th>\n",
       "      <td>2</td>\n",
       "      <td>1</td>\n",
       "      <td>1</td>\n",
       "      <td>1</td>\n",
       "      <td>0.000146</td>\n",
       "      <td>119</td>\n",
       "      <td>572</td>\n",
       "      <td>434</td>\n",
       "      <td>1</td>\n",
       "      <td>0</td>\n",
       "      <td>0.205479</td>\n",
       "      <td>0.002304</td>\n",
       "      <td>0.001748</td>\n",
       "      <td>0.764706</td>\n",
       "      <td>0.000805</td>\n",
       "      <td>512</td>\n",
       "      <td>1</td>\n",
       "    </tr>\n",
       "    <tr>\n",
       "      <th>1</th>\n",
       "      <td>2</td>\n",
       "      <td>1</td>\n",
       "      <td>1</td>\n",
       "      <td>1</td>\n",
       "      <td>0.000147</td>\n",
       "      <td>113</td>\n",
       "      <td>572</td>\n",
       "      <td>434</td>\n",
       "      <td>1</td>\n",
       "      <td>0</td>\n",
       "      <td>0.204082</td>\n",
       "      <td>0.002304</td>\n",
       "      <td>0.001748</td>\n",
       "      <td>0.805310</td>\n",
       "      <td>0.000765</td>\n",
       "      <td>512</td>\n",
       "      <td>2</td>\n",
       "    </tr>\n",
       "    <tr>\n",
       "      <th>2</th>\n",
       "      <td>2</td>\n",
       "      <td>1</td>\n",
       "      <td>1</td>\n",
       "      <td>1</td>\n",
       "      <td>0.000175</td>\n",
       "      <td>178</td>\n",
       "      <td>755</td>\n",
       "      <td>444</td>\n",
       "      <td>1</td>\n",
       "      <td>0</td>\n",
       "      <td>0.171429</td>\n",
       "      <td>0.002252</td>\n",
       "      <td>0.001325</td>\n",
       "      <td>0.511236</td>\n",
       "      <td>0.001204</td>\n",
       "      <td>256</td>\n",
       "      <td>1</td>\n",
       "    </tr>\n",
       "    <tr>\n",
       "      <th>3</th>\n",
       "      <td>2</td>\n",
       "      <td>1</td>\n",
       "      <td>1</td>\n",
       "      <td>1</td>\n",
       "      <td>0.000171</td>\n",
       "      <td>171</td>\n",
       "      <td>739</td>\n",
       "      <td>444</td>\n",
       "      <td>1</td>\n",
       "      <td>0</td>\n",
       "      <td>0.175439</td>\n",
       "      <td>0.002252</td>\n",
       "      <td>0.001353</td>\n",
       "      <td>0.532164</td>\n",
       "      <td>0.001157</td>\n",
       "      <td>256</td>\n",
       "      <td>2</td>\n",
       "    </tr>\n",
       "    <tr>\n",
       "      <th>4</th>\n",
       "      <td>2</td>\n",
       "      <td>1</td>\n",
       "      <td>1</td>\n",
       "      <td>1</td>\n",
       "      <td>0.000226</td>\n",
       "      <td>236</td>\n",
       "      <td>1014</td>\n",
       "      <td>460</td>\n",
       "      <td>1</td>\n",
       "      <td>0</td>\n",
       "      <td>0.132743</td>\n",
       "      <td>0.002174</td>\n",
       "      <td>0.000986</td>\n",
       "      <td>0.385593</td>\n",
       "      <td>0.001597</td>\n",
       "      <td>128</td>\n",
       "      <td>1</td>\n",
       "    </tr>\n",
       "  </tbody>\n",
       "</table>\n",
       "</div>"
      ],
      "text/plain": [
       "   knob_UNROLL_F  knob_outer_unroll  knob_inner_unroll1  knob_inner_unroll2  \\\n",
       "n                                                                             \n",
       "0              2                  1                   1                   1   \n",
       "1              2                  1                   1                   1   \n",
       "2              2                  1                   1                   1   \n",
       "3              2                  1                   1                   1   \n",
       "4              2                  1                   1                   1   \n",
       "\n",
       "       obj1  obj2   lut   ff  dsp  bram  throughput    ff_inv   lut_inv  \\\n",
       "n                                                                         \n",
       "0  0.000146   119   572  434    1     0    0.205479  0.002304  0.001748   \n",
       "1  0.000147   113   572  434    1     0    0.204082  0.002304  0.001748   \n",
       "2  0.000175   178   755  444    1     0    0.171429  0.002252  0.001325   \n",
       "3  0.000171   171   739  444    1     0    0.175439  0.002252  0.001353   \n",
       "4  0.000226   236  1014  460    1     0    0.132743  0.002174  0.000986   \n",
       "\n",
       "     1/obj2   clbUtil  mem_partition_size1  mem_partition_size2  \n",
       "n                                                                \n",
       "0  0.764706  0.000805                  512                    1  \n",
       "1  0.805310  0.000765                  512                    2  \n",
       "2  0.511236  0.001204                  256                    1  \n",
       "3  0.532164  0.001157                  256                    2  \n",
       "4  0.385593  0.001597                  128                    1  "
      ]
     },
     "execution_count": 35,
     "metadata": {},
     "output_type": "execute_result"
    }
   ],
   "source": [
    "print(vdfx.count())\n",
    "vdfx.head()"
   ]
  },
  {
   "cell_type": "code",
   "execution_count": 36,
   "metadata": {},
   "outputs": [
    {
     "data": {
      "text/plain": [
       "Text(0.5, 1.0, 'Catapult SPMV Area and Latency Design Spaces')"
      ]
     },
     "execution_count": 36,
     "metadata": {},
     "output_type": "execute_result"
    },
    {
     "data": {
      "image/png": "[encoded data removed]",
      "text/plain": [
       "<Figure size 432x288 with 1 Axes>"
      ]
     },
     "metadata": {
      "needs_background": "light"
     },
     "output_type": "display_data"
    }
   ],
   "source": [
    "ax1 = vdfx.plot(x='throughput', y='1/obj2', kind='scatter', c='r')\n",
    "ax = cdfx.plot(x='throughput', y='1/obj2', kind='scatter', c='g', ax=ax1)\n",
    "#ax1.set_ylim(0,0.016)\n",
    "\n",
    "red_data = mpatches.Patch(color='red', label='Area Results')\n",
    "green_data = mpatches.Patch(color='green', label='Latency Results')\n",
    "plt.legend(handles=[red_data, green_data])\n",
    "plt.xlabel('Throughput (Normalized 1/obj1)')\n",
    "plt.ylabel('CLB Resources (Normalized 1/CLB)')\n",
    "plt.title(\"Catapult SPMV Area and Latency Design Spaces\")"
   ]
  },
  {
   "cell_type": "code",
   "execution_count": 37,
   "metadata": {},
   "outputs": [
    {
     "data": {
      "text/plain": [
       "Text(0.5, 1.0, 'Latency Optimized Designs')"
      ]
     },
     "execution_count": 37,
     "metadata": {},
     "output_type": "execute_result"
    },
    {
     "data": {
      "image/png": "[encoded data removed]",
      "text/plain": [
       "<Figure size 432x288 with 1 Axes>"
      ]
     },
     "metadata": {
      "needs_background": "light"
     },
     "output_type": "display_data"
    },
    {
     "data": {
      "image/png": "[encoded data removed]",
      "text/plain": [
       "<Figure size 432x288 with 1 Axes>"
      ]
     },
     "metadata": {
      "needs_background": "light"
     },
     "output_type": "display_data"
    }
   ],
   "source": [
    "ax1 = vdfx.plot(y='1/obj2', x='throughput', kind='scatter', c='r')\n",
    "plt.xlabel('Normalized Throughput (1/obj1)')\n",
    "plt.ylabel('Normalized 1/CLB (1/obj2)')\n",
    "plt.title(\"Area Optimized Designs\")\n",
    "\n",
    "ax = cdfx.plot(y='1/obj2', x='throughput', kind='scatter', c='g')\n",
    "plt.xlabel('Normalized Throughput (1/obj1)')\n",
    "plt.ylabel('Normalized 1/CLB (1/obj2)')\n",
    "plt.title(\"Latency Optimized Designs\")"
   ]
  },
  {
   "cell_type": "code",
   "execution_count": 38,
   "metadata": {},
   "outputs": [
    {
     "name": "stdout",
     "output_type": "stream",
     "text": [
      "~~~~~~~~~~~ Latency Opt Averages ~~~~~~~~~~~~\n",
      "\n",
      "knob_UNROLL_F             5.818372\n",
      "knob_outer_unroll         1.901153\n",
      "knob_inner_unroll1        2.503318\n",
      "knob_inner_unroll2        2.477471\n",
      "obj1                      0.000125\n",
      "obj2                    216.090814\n",
      "lut                    1089.205728\n",
      "ff                      373.211317\n",
      "dsp                       1.876004\n",
      "bram                      0.000000\n",
      "throughput                0.345277\n",
      "ff_inv                    0.002760\n",
      "lut_inv                   0.001054\n",
      "1/obj2                    0.487194\n",
      "clbUtil                   0.001462\n",
      "mem_partition_size1     244.185819\n",
      "mem_partition_size2      10.524974\n",
      "dtype: float64\n",
      "~~~~~~~~~~~~~~~~~~~~~~~~~~~~~~~~~~~~~~~~~~\n",
      "\n",
      "~~~~~~~~~~~ Area Opt Averages ~~~~~~~~~~~~\n",
      "\n",
      "knob_UNROLL_F            16.000000\n",
      "knob_outer_unroll         2.000000\n",
      "knob_inner_unroll1        2.500000\n",
      "knob_inner_unroll2        2.500000\n",
      "obj1                      0.000160\n",
      "obj2                    216.150694\n",
      "lut                    1072.144097\n",
      "ff                      407.173611\n",
      "dsp                       1.000000\n",
      "bram                      0.000000\n",
      "throughput                0.302595\n",
      "ff_inv                    0.002547\n",
      "lut_inv                   0.001075\n",
      "1/obj2                    0.486619\n",
      "clbUtil                   0.001463\n",
      "mem_partition_size1     298.666667\n",
      "mem_partition_size2       5.950000\n",
      "dtype: float64\n",
      "~~~~~~~~~~~~~~~~~~~~~~~~~~~~~~~~~~~~~~~~~~\n"
     ]
    }
   ],
   "source": [
    "print(\"~~~~~~~~~~~ Latency Opt Averages ~~~~~~~~~~~~\\n\")\n",
    "print(cdfx.mean())\n",
    "print(\"~~~~~~~~~~~~~~~~~~~~~~~~~~~~~~~~~~~~~~~~~~\")\n",
    "print(\"\\n~~~~~~~~~~~ Area Opt Averages ~~~~~~~~~~~~\\n\")\n",
    "print(vdfx.mean())\n",
    "print(\"~~~~~~~~~~~~~~~~~~~~~~~~~~~~~~~~~~~~~~~~~~\")"
   ]
  },
  {
   "cell_type": "code",
   "execution_count": 39,
   "metadata": {},
   "outputs": [
    {
     "data": {
      "text/plain": [
       "knob_UNROLL_F            27537\n",
       "knob_outer_unroll        27537\n",
       "knob_inner_unroll1       27537\n",
       "knob_inner_unroll2       27537\n",
       "obj1_x                   27537\n",
       "obj2_x                   27537\n",
       "lut_x                    27537\n",
       "ff_x                     27537\n",
       "dsp_x                    27537\n",
       "bram_x                   27537\n",
       "throughput_x             27537\n",
       "ff_inv_x                 27537\n",
       "lut_inv_x                27537\n",
       "1/obj2_x                 27537\n",
       "clbUtil_x                27537\n",
       "mem_partition_size1_x    27537\n",
       "mem_partition_size2_x    27537\n",
       "obj1_y                   27537\n",
       "obj2_y                   27537\n",
       "lut_y                    27537\n",
       "ff_y                     27537\n",
       "dsp_y                    27537\n",
       "bram_y                   27537\n",
       "throughput_y             27537\n",
       "ff_inv_y                 27537\n",
       "lut_inv_y                27537\n",
       "1/obj2_y                 27537\n",
       "clbUtil_y                27537\n",
       "mem_partition_size1_y    27537\n",
       "mem_partition_size2_y    27537\n",
       "dtype: int64"
      ]
     },
     "execution_count": 39,
     "metadata": {},
     "output_type": "execute_result"
    }
   ],
   "source": [
    "cdfx = cdfx.reset_index(drop=True)\n",
    "vdfx = vdfx.reset_index(drop=True)\n",
    "cv_df = pd.merge(cdfx, vdfx, on=['knob_UNROLL_F', 'knob_outer_unroll', 'knob_inner_unroll1', 'knob_inner_unroll2'], how='inner')\n",
    "cv_df.count()"
   ]
  },
  {
   "cell_type": "code",
   "execution_count": 29,
   "metadata": {},
   "outputs": [
    {
     "data": {
      "text/plain": [
       "(0, 1)"
      ]
     },
     "execution_count": 29,
     "metadata": {},
     "output_type": "execute_result"
    },
    {
     "data": {
      "image/png": "[encoded data removed]",
      "text/plain": [
       "<Figure size 432x288 with 1 Axes>"
      ]
     },
     "metadata": {
      "needs_background": "light"
     },
     "output_type": "display_data"
    }
   ],
   "source": [
    "df_sample = cv_df.sample(10)\n",
    "plt.scatter(y=df_sample['1/obj2_x'], x=df_sample.throughput_x, c='g')\n",
    "plt.scatter(y=df_sample['1/obj2_y'], x=df_sample.throughput_y, c='r')\n",
    "linex = []\n",
    "for index, row in df_sample.iterrows():\n",
    "    plt.plot([row['throughput_x'], row['throughput_y']], [row['1/obj2_x'], row['1/obj2_y']],'b:',linewidth=0.7)\n",
    "\n",
    "red_data = mpatches.Patch(color='green', label='Catapult Results')\n",
    "green_data = mpatches.Patch(color='red', label='Vivado Results')\n",
    "plt.legend(handles=[red_data, green_data])\n",
    "plt.xlabel('Normalized Throughput (1/obj1)')\n",
    "plt.ylabel('Normalized 1/CLB (1/obj2)')\n",
    "plt.ylim(0, 1)\n",
    "plt.xlim(0, 1)"
   ]
  },
  {
   "cell_type": "code",
   "execution_count": 30,
   "metadata": {},
   "outputs": [
    {
     "data": {
      "text/plain": [
       "(0, 0.003)"
      ]
     },
     "execution_count": 30,
     "metadata": {},
     "output_type": "execute_result"
    },
    {
     "data": {
      "image/png": "[encoded data removed]",
      "text/plain": [
       "<Figure size 432x288 with 1 Axes>"
      ]
     },
     "metadata": {
      "needs_background": "light"
     },
     "output_type": "display_data"
    }
   ],
   "source": [
    "df_sample = cv_df.sample(10)\n",
    "plt.scatter(y=df_sample.lut_inv_x, x=df_sample.throughput_x, c='g')\n",
    "plt.scatter(y=df_sample.lut_inv_y, x=df_sample.throughput_y, c='r')\n",
    "linex = []\n",
    "for index, row in df_sample.iterrows():\n",
    "    plt.plot([row['throughput_x'], row['throughput_y']], [row['lut_inv_x'], row['lut_inv_y']],'b:',linewidth=0.3)\n",
    "\n",
    "red_data = mpatches.Patch(color='green', label='Catapult Results')\n",
    "green_data = mpatches.Patch(color='red', label='Vivado Results')\n",
    "plt.legend(handles=[red_data, green_data])\n",
    "plt.xlabel('Normalized Throughput')\n",
    "plt.ylabel('FF Resource Utilization (1/FF)')\n",
    "plt.ylim(0, 0.003)"
   ]
  },
  {
   "cell_type": "code",
   "execution_count": null,
   "metadata": {},
   "outputs": [],
   "source": [
    "df_sample = cv_df.sample(30)"
   ]
  }
 ],
 "metadata": {
  "kernelspec": {
   "display_name": "Python 3",
   "language": "python",
   "name": "python3"
  },
  "language_info": {
   "codemirror_mode": {
    "name": "ipython",
    "version": 3
   },
   "file_extension": ".py",
   "mimetype": "text/x-python",
   "name": "python",
   "nbconvert_exporter": "python",
   "pygments_lexer": "ipython3",
   "version": "3.7.3"
  }
 },
 "nbformat": 4,
 "nbformat_minor": 2
}
